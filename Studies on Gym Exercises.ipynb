{
 "cells": [
  {
   "cell_type": "markdown",
   "id": "3b1e73af",
   "metadata": {},
   "source": [
    "# Studies on Gym Exercises"
   ]
  },
  {
   "cell_type": "markdown",
   "id": "94d73a7e",
   "metadata": {},
   "source": [
    "## Introduction"
   ]
  },
  {
   "cell_type": "markdown",
   "id": "32924d6d",
   "metadata": {},
   "source": [
    "People who exercise may have a predilection for certain types of exercises in fonction of their level of fitness and need for equipment.\n",
    "\n",
    "We are going to analyse the correlation between :\n",
    "\n",
    "- Type of Exercise and Body Part\n",
    "- Type of Exercise and Equipment\n",
    "- Type of Exercise and Level\n",
    "- Body Part and Equipment\n",
    "- Level and Equipment\n",
    "- Level and Body Part\n",
    "\n",
    "Intuition would say beginners would prefer cardio and no equipment exercises wereares expert athletes would prefer strenght equiped exercises.\n",
    "\n",
    "We will develop and hipotesize our analysis going forward as we stablish correlations between the variables."
   ]
  },
  {
   "cell_type": "code",
   "execution_count": 32,
   "id": "ea835ba0",
   "metadata": {},
   "outputs": [],
   "source": [
    "import numpy as np\n",
    "import pandas as pd\n",
    "import matplotlib.pyplot as plt\n",
    "import plotly.express as px\n",
    "from plotly.subplots import make_subplots"
   ]
  },
  {
   "cell_type": "code",
   "execution_count": 33,
   "id": "55b5c923",
   "metadata": {
    "scrolled": true
   },
   "outputs": [
    {
     "data": {
      "text/html": [
       "<div>\n",
       "<style scoped>\n",
       "    .dataframe tbody tr th:only-of-type {\n",
       "        vertical-align: middle;\n",
       "    }\n",
       "\n",
       "    .dataframe tbody tr th {\n",
       "        vertical-align: top;\n",
       "    }\n",
       "\n",
       "    .dataframe thead th {\n",
       "        text-align: right;\n",
       "    }\n",
       "</style>\n",
       "<table border=\"1\" class=\"dataframe\">\n",
       "  <thead>\n",
       "    <tr style=\"text-align: right;\">\n",
       "      <th></th>\n",
       "      <th>Unnamed: 0</th>\n",
       "      <th>Title</th>\n",
       "      <th>Desc</th>\n",
       "      <th>Type</th>\n",
       "      <th>BodyPart</th>\n",
       "      <th>Equipment</th>\n",
       "      <th>Level</th>\n",
       "      <th>Rating</th>\n",
       "      <th>RatingDesc</th>\n",
       "    </tr>\n",
       "  </thead>\n",
       "  <tbody>\n",
       "    <tr>\n",
       "      <th>0</th>\n",
       "      <td>0</td>\n",
       "      <td>Partner plank band row</td>\n",
       "      <td>The partner plank band row is an abdominal exe...</td>\n",
       "      <td>Strength</td>\n",
       "      <td>Abdominals</td>\n",
       "      <td>Bands</td>\n",
       "      <td>Intermediate</td>\n",
       "      <td>0.0</td>\n",
       "      <td>NaN</td>\n",
       "    </tr>\n",
       "    <tr>\n",
       "      <th>1</th>\n",
       "      <td>1</td>\n",
       "      <td>Banded crunch isometric hold</td>\n",
       "      <td>The banded crunch isometric hold is an exercis...</td>\n",
       "      <td>Strength</td>\n",
       "      <td>Abdominals</td>\n",
       "      <td>Bands</td>\n",
       "      <td>Intermediate</td>\n",
       "      <td>NaN</td>\n",
       "      <td>NaN</td>\n",
       "    </tr>\n",
       "    <tr>\n",
       "      <th>2</th>\n",
       "      <td>2</td>\n",
       "      <td>FYR Banded Plank Jack</td>\n",
       "      <td>The banded plank jack is a variation on the pl...</td>\n",
       "      <td>Strength</td>\n",
       "      <td>Abdominals</td>\n",
       "      <td>Bands</td>\n",
       "      <td>Intermediate</td>\n",
       "      <td>NaN</td>\n",
       "      <td>NaN</td>\n",
       "    </tr>\n",
       "    <tr>\n",
       "      <th>3</th>\n",
       "      <td>3</td>\n",
       "      <td>Banded crunch</td>\n",
       "      <td>The banded crunch is an exercise targeting the...</td>\n",
       "      <td>Strength</td>\n",
       "      <td>Abdominals</td>\n",
       "      <td>Bands</td>\n",
       "      <td>Intermediate</td>\n",
       "      <td>NaN</td>\n",
       "      <td>NaN</td>\n",
       "    </tr>\n",
       "    <tr>\n",
       "      <th>4</th>\n",
       "      <td>4</td>\n",
       "      <td>Crunch</td>\n",
       "      <td>The crunch is a popular core exercise targetin...</td>\n",
       "      <td>Strength</td>\n",
       "      <td>Abdominals</td>\n",
       "      <td>Bands</td>\n",
       "      <td>Intermediate</td>\n",
       "      <td>NaN</td>\n",
       "      <td>NaN</td>\n",
       "    </tr>\n",
       "  </tbody>\n",
       "</table>\n",
       "</div>"
      ],
      "text/plain": [
       "   Unnamed: 0                         Title  \\\n",
       "0           0        Partner plank band row   \n",
       "1           1  Banded crunch isometric hold   \n",
       "2           2         FYR Banded Plank Jack   \n",
       "3           3                 Banded crunch   \n",
       "4           4                        Crunch   \n",
       "\n",
       "                                                Desc      Type    BodyPart  \\\n",
       "0  The partner plank band row is an abdominal exe...  Strength  Abdominals   \n",
       "1  The banded crunch isometric hold is an exercis...  Strength  Abdominals   \n",
       "2  The banded plank jack is a variation on the pl...  Strength  Abdominals   \n",
       "3  The banded crunch is an exercise targeting the...  Strength  Abdominals   \n",
       "4  The crunch is a popular core exercise targetin...  Strength  Abdominals   \n",
       "\n",
       "  Equipment         Level  Rating RatingDesc  \n",
       "0     Bands  Intermediate     0.0        NaN  \n",
       "1     Bands  Intermediate     NaN        NaN  \n",
       "2     Bands  Intermediate     NaN        NaN  \n",
       "3     Bands  Intermediate     NaN        NaN  \n",
       "4     Bands  Intermediate     NaN        NaN  "
      ]
     },
     "execution_count": 33,
     "metadata": {},
     "output_type": "execute_result"
    }
   ],
   "source": [
    "df = pd.read_csv(\"megaGymDataset.csv\")\n",
    "df.head()"
   ]
  },
  {
   "cell_type": "markdown",
   "id": "cb5379af",
   "metadata": {},
   "source": [
    "The first column needs to be renamed so it can easily be called and manipulated"
   ]
  },
  {
   "cell_type": "code",
   "execution_count": 34,
   "id": "33d2c996",
   "metadata": {},
   "outputs": [
    {
     "data": {
      "text/html": [
       "<div>\n",
       "<style scoped>\n",
       "    .dataframe tbody tr th:only-of-type {\n",
       "        vertical-align: middle;\n",
       "    }\n",
       "\n",
       "    .dataframe tbody tr th {\n",
       "        vertical-align: top;\n",
       "    }\n",
       "\n",
       "    .dataframe thead th {\n",
       "        text-align: right;\n",
       "    }\n",
       "</style>\n",
       "<table border=\"1\" class=\"dataframe\">\n",
       "  <thead>\n",
       "    <tr style=\"text-align: right;\">\n",
       "      <th></th>\n",
       "      <th>Index</th>\n",
       "      <th>Title</th>\n",
       "      <th>Desc</th>\n",
       "      <th>Type</th>\n",
       "      <th>BodyPart</th>\n",
       "      <th>Equipment</th>\n",
       "      <th>Level</th>\n",
       "      <th>Rating</th>\n",
       "      <th>RatingDesc</th>\n",
       "    </tr>\n",
       "  </thead>\n",
       "  <tbody>\n",
       "    <tr>\n",
       "      <th>2913</th>\n",
       "      <td>2913</td>\n",
       "      <td>EZ-bar skullcrusher-</td>\n",
       "      <td>The EZ-bar skullcrusher is a popular exercise ...</td>\n",
       "      <td>Strength</td>\n",
       "      <td>Triceps</td>\n",
       "      <td>E-Z Curl Bar</td>\n",
       "      <td>Intermediate</td>\n",
       "      <td>8.1</td>\n",
       "      <td>Average</td>\n",
       "    </tr>\n",
       "    <tr>\n",
       "      <th>2914</th>\n",
       "      <td>2914</td>\n",
       "      <td>Lying Close-Grip Barbell Triceps Press To Chin</td>\n",
       "      <td>NaN</td>\n",
       "      <td>Strength</td>\n",
       "      <td>Triceps</td>\n",
       "      <td>E-Z Curl Bar</td>\n",
       "      <td>Beginner</td>\n",
       "      <td>8.1</td>\n",
       "      <td>Average</td>\n",
       "    </tr>\n",
       "    <tr>\n",
       "      <th>2915</th>\n",
       "      <td>2915</td>\n",
       "      <td>EZ-Bar Skullcrusher - Gethin Variation</td>\n",
       "      <td>The EZ-bar skullcrusher is a popular exercise ...</td>\n",
       "      <td>Strength</td>\n",
       "      <td>Triceps</td>\n",
       "      <td>E-Z Curl Bar</td>\n",
       "      <td>Intermediate</td>\n",
       "      <td>NaN</td>\n",
       "      <td>NaN</td>\n",
       "    </tr>\n",
       "    <tr>\n",
       "      <th>2916</th>\n",
       "      <td>2916</td>\n",
       "      <td>TBS Skullcrusher</td>\n",
       "      <td>The EZ-bar skullcrusher is a popular exercise ...</td>\n",
       "      <td>Strength</td>\n",
       "      <td>Triceps</td>\n",
       "      <td>E-Z Curl Bar</td>\n",
       "      <td>Intermediate</td>\n",
       "      <td>NaN</td>\n",
       "      <td>NaN</td>\n",
       "    </tr>\n",
       "    <tr>\n",
       "      <th>2917</th>\n",
       "      <td>2917</td>\n",
       "      <td>30 Arms EZ-Bar Skullcrusher</td>\n",
       "      <td>NaN</td>\n",
       "      <td>Strength</td>\n",
       "      <td>Triceps</td>\n",
       "      <td>E-Z Curl Bar</td>\n",
       "      <td>Intermediate</td>\n",
       "      <td>NaN</td>\n",
       "      <td>NaN</td>\n",
       "    </tr>\n",
       "  </tbody>\n",
       "</table>\n",
       "</div>"
      ],
      "text/plain": [
       "      Index                                           Title  \\\n",
       "2913   2913                            EZ-bar skullcrusher-   \n",
       "2914   2914  Lying Close-Grip Barbell Triceps Press To Chin   \n",
       "2915   2915          EZ-Bar Skullcrusher - Gethin Variation   \n",
       "2916   2916                                TBS Skullcrusher   \n",
       "2917   2917                     30 Arms EZ-Bar Skullcrusher   \n",
       "\n",
       "                                                   Desc      Type BodyPart  \\\n",
       "2913  The EZ-bar skullcrusher is a popular exercise ...  Strength  Triceps   \n",
       "2914                                                NaN  Strength  Triceps   \n",
       "2915  The EZ-bar skullcrusher is a popular exercise ...  Strength  Triceps   \n",
       "2916  The EZ-bar skullcrusher is a popular exercise ...  Strength  Triceps   \n",
       "2917                                                NaN  Strength  Triceps   \n",
       "\n",
       "         Equipment         Level  Rating RatingDesc  \n",
       "2913  E-Z Curl Bar  Intermediate     8.1    Average  \n",
       "2914  E-Z Curl Bar      Beginner     8.1    Average  \n",
       "2915  E-Z Curl Bar  Intermediate     NaN        NaN  \n",
       "2916  E-Z Curl Bar  Intermediate     NaN        NaN  \n",
       "2917  E-Z Curl Bar  Intermediate     NaN        NaN  "
      ]
     },
     "execution_count": 34,
     "metadata": {},
     "output_type": "execute_result"
    }
   ],
   "source": [
    "#Change column name from Unnamed to Index\n",
    "\n",
    "df.columns = df.columns.str.replace('Unnamed: 0', 'Index')\n",
    "df.tail()"
   ]
  },
  {
   "cell_type": "markdown",
   "id": "11c02a4d",
   "metadata": {},
   "source": [
    "## Data Cleaning"
   ]
  },
  {
   "cell_type": "markdown",
   "id": "e1b50358",
   "metadata": {},
   "source": [
    "Now it is time to check for non representative data and to clean the data frame if needed"
   ]
  },
  {
   "cell_type": "code",
   "execution_count": 35,
   "id": "9bd9b4f5",
   "metadata": {
    "scrolled": true
   },
   "outputs": [
    {
     "data": {
      "text/plain": [
       "Index            0\n",
       "Title            0\n",
       "Desc          1550\n",
       "Type             0\n",
       "BodyPart         0\n",
       "Equipment       32\n",
       "Level            0\n",
       "Rating        1887\n",
       "RatingDesc    2056\n",
       "dtype: int64"
      ]
     },
     "execution_count": 35,
     "metadata": {},
     "output_type": "execute_result"
    }
   ],
   "source": [
    "#Checking for non representative data\n",
    "\n",
    "df.isnull().sum()"
   ]
  },
  {
   "cell_type": "markdown",
   "id": "ec1e45c4",
   "metadata": {},
   "source": [
    "Only some equipment lines are missing, the rest of the missing data are non significatif entries : description, rating and rating description"
   ]
  },
  {
   "cell_type": "code",
   "execution_count": 36,
   "id": "ef117a38",
   "metadata": {
    "scrolled": true
   },
   "outputs": [
    {
     "data": {
      "text/plain": [
       "Index           int64\n",
       "Title          object\n",
       "Desc           object\n",
       "Type           object\n",
       "BodyPart       object\n",
       "Equipment      object\n",
       "Level          object\n",
       "Rating        float64\n",
       "RatingDesc     object\n",
       "dtype: object"
      ]
     },
     "execution_count": 36,
     "metadata": {},
     "output_type": "execute_result"
    }
   ],
   "source": [
    "#Checking the column data types \n",
    "\n",
    "df.dtypes"
   ]
  },
  {
   "cell_type": "markdown",
   "id": "5bc8c448",
   "metadata": {},
   "source": [
    "## Data analysis & Visualization"
   ]
  },
  {
   "cell_type": "markdown",
   "id": "ba463ef7",
   "metadata": {},
   "source": [
    "### Types of Exercises"
   ]
  },
  {
   "cell_type": "markdown",
   "id": "a6b2e0b3",
   "metadata": {},
   "source": [
    "Let's have a look at which body parts are used in each type of exercise."
   ]
  },
  {
   "cell_type": "code",
   "execution_count": 37,
   "id": "8bc14f21",
   "metadata": {},
   "outputs": [
    {
     "data": {
      "image/png": "[encoded data removed]",
      "text/plain": [
       "<Figure size 640x480 with 1 Axes>"
      ]
     },
     "metadata": {},
     "output_type": "display_data"
    }
   ],
   "source": [
    "#Plotting type x body part scatter graph\n",
    "\n",
    "fig = df.plot.scatter('Type', 'BodyPart', rot = 45, title = \"Types of Exercises vs Body Parts\")"
   ]
  },
  {
   "cell_type": "markdown",
   "id": "1e89b090",
   "metadata": {},
   "source": [
    "Based on this visualization we can hipotesize that strengh and stretching exercises are the most comprehensive types, allowing to work on most body parts.\n",
    "\n",
    "Moving forward, we are going to have a look if certain types of exercise are more prone to equipment utilisation."
   ]
  },
  {
   "cell_type": "code",
   "execution_count": 38,
   "id": "13a1d44d",
   "metadata": {
    "scrolled": true
   },
   "outputs": [],
   "source": [
    "#Separate the exercises withouot equipment\n",
    "\n",
    "bodyOnly = df[df.Equipment == 'Body Only']"
   ]
  },
  {
   "cell_type": "code",
   "execution_count": 177,
   "id": "bd9c7374",
   "metadata": {},
   "outputs": [
    {
     "data": {
      "image/png": "[encoded data removed]",
      "text/plain": [
       "<Figure size 640x480 with 1 Axes>"
      ]
     },
     "metadata": {},
     "output_type": "display_data"
    }
   ],
   "source": [
    "#Plot the graph to analyse with type of exercise is most representative of body only equipment\n",
    "\n",
    "fig2, ax = plt.subplots()\n",
    "\n",
    "ax.bar(bodyOnly.Type, bodyOnly.Index, color = 'teal')\n",
    "\n",
    "ax.set_title('Most frequent exercises without Equipment')\n",
    "ax.set_ylabel('Exercice Frequency')\n",
    "ax.set_xlabel('Types of Exercises')\n",
    "plt.xticks(rotation=45, ha='center')\n",
    "plt.grid(color = '#dddddd', axis = 'y')\n",
    "plt.ylim((2500, 3000))\n",
    "\n",
    "plt.show()"
   ]
  },
  {
   "cell_type": "markdown",
   "id": "edb07fef",
   "metadata": {},
   "source": [
    "Of all the body only exercises, **Strength** and **Stretching** seems to be the most frequent in comparison to Plyometrics and Cardio. Clearly Powerlifting, Olympic Weightlifting and Strongman are categories that requires some equipment by definition.\n",
    "\n",
    "Next, to complete our type of exercise analysis, the focus will be on the level. Are cardio exercises the first choice for beginners ?"
   ]
  },
  {
   "cell_type": "code",
   "execution_count": 168,
   "id": "109479c3",
   "metadata": {},
   "outputs": [
    {
     "data": {
      "image/png": "[encoded data removed]",
      "text/plain": [
       "<Figure size 640x480 with 1 Axes>"
      ]
     },
     "metadata": {},
     "output_type": "display_data"
    }
   ],
   "source": [
    "#Plotting type x level scatter graph\n",
    "\n",
    "fig = df.plot.scatter('Type', 'Level', rot = 45, title = \"Types of Exercises vs Level\", color='deepskyblue')"
   ]
  },
  {
   "cell_type": "markdown",
   "id": "74c555c4",
   "metadata": {},
   "source": [
    "If we break down the categories we will have a more refined and detailed analysis."
   ]
  },
  {
   "cell_type": "code",
   "execution_count": 41,
   "id": "6be300ab",
   "metadata": {},
   "outputs": [],
   "source": [
    "#slicing the df into different levels of fitness\n",
    "\n",
    "beginner = df[df.Level == 'Beginner']\n",
    "intermediate = df[df.Level == 'Intermediate']\n",
    "expert = df[df.Level == 'Expert']"
   ]
  },
  {
   "cell_type": "code",
   "execution_count": 42,
   "id": "66838548",
   "metadata": {},
   "outputs": [
    {
     "data": {
      "application/vnd.plotly.v1+json": {
       "config": {
        "plotlyServerURL": "https://plot.ly"
       },
       "data": [
        {
         "alignmentgroup": "True",
         "hovertemplate": "Type=%{x}<br>Index=%{marker.color}<extra></extra>",
         "legendgroup": "",
         "marker": {
          "color": [
           9,
           16,
           27,
           30,
           35,
           63,
           279
          ],
          "coloraxis": "coloraxis",
          "pattern": {
           "shape": ""
          }
         },
         "name": "",
         "offsetgroup": "",
         "orientation": "v",
         "showlegend": false,
         "textposition": "auto",
         "type": "bar",
         "x": [
          "Cardio",
          "Strongman",
          "Powerlifting",
          "Olympic Weightlifting",
          "Plyometrics",
          "Stretching",
          "Strength"
         ],
         "xaxis": "x",
         "y": [
          9,
          16,
          27,
          30,
          35,
          63,
          279
         ],
         "yaxis": "y"
        }
       ],
       "layout": {
        "autosize": true,
        "barmode": "relative",
        "coloraxis": {
         "colorbar": {
          "title": {
           "text": "Index"
          }
         },
         "colorscale": [
          [
           0,
           "#0d0887"
          ],
          [
           0.1111111111111111,
           "#46039f"
          ],
          [
           0.2222222222222222,
           "#7201a8"
          ],
          [
           0.3333333333333333,
           "#9c179e"
          ],
          [
           0.4444444444444444,
           "#bd3786"
          ],
          [
           0.5555555555555556,
           "#d8576b"
          ],
          [
           0.6666666666666666,
           "#ed7953"
          ],
          [
           0.7777777777777778,
           "#fb9f3a"
          ],
          [
           0.8888888888888888,
           "#fdca26"
          ],
          [
           1,
           "#f0f921"
          ]
         ]
        },
        "legend": {
         "tracegroupgap": 0
        },
        "template": {
         "data": {
          "bar": [
           {
            "error_x": {
             "color": "#2a3f5f"
            },
            "error_y": {
             "color": "#2a3f5f"
            },
            "marker": {
             "line": {
              "color": "#E5ECF6",
              "width": 0.5
             },
             "pattern": {
              "fillmode": "overlay",
              "size": 10,
              "solidity": 0.2
             }
            },
            "type": "bar"
           }
          ],
          "barpolar": [
           {
            "marker": {
             "line": {
              "color": "#E5ECF6",
              "width": 0.5
             },
             "pattern": {
              "fillmode": "overlay",
              "size": 10,
              "solidity": 0.2
             }
            },
            "type": "barpolar"
           }
          ],
          "carpet": [
           {
            "aaxis": {
             "endlinecolor": "#2a3f5f",
             "gridcolor": "white",
             "linecolor": "white",
             "minorgridcolor": "white",
             "startlinecolor": "#2a3f5f"
            },
            "baxis": {
             "endlinecolor": "#2a3f5f",
             "gridcolor": "white",
             "linecolor": "white",
             "minorgridcolor": "white",
             "startlinecolor": "#2a3f5f"
            },
            "type": "carpet"
           }
          ],
          "choropleth": [
           {
            "colorbar": {
             "outlinewidth": 0,
             "ticks": ""
            },
            "type": "choropleth"
           }
          ],
          "contour": [
           {
            "colorbar": {
             "outlinewidth": 0,
             "ticks": ""
            },
            "colorscale": [
             [
              0,
              "#0d0887"
             ],
             [
              0.1111111111111111,
              "#46039f"
             ],
             [
              0.2222222222222222,
              "#7201a8"
             ],
             [
              0.3333333333333333,
              "#9c179e"
             ],
             [
              0.4444444444444444,
              "#bd3786"
             ],
             [
              0.5555555555555556,
              "#d8576b"
             ],
             [
              0.6666666666666666,
              "#ed7953"
             ],
             [
              0.7777777777777778,
              "#fb9f3a"
             ],
             [
              0.8888888888888888,
              "#fdca26"
             ],
             [
              1,
              "#f0f921"
             ]
            ],
            "type": "contour"
           }
          ],
          "contourcarpet": [
           {
            "colorbar": {
             "outlinewidth": 0,
             "ticks": ""
            },
            "type": "contourcarpet"
           }
          ],
          "heatmap": [
           {
            "colorbar": {
             "outlinewidth": 0,
             "ticks": ""
            },
            "colorscale": [
             [
              0,
              "#0d0887"
             ],
             [
              0.1111111111111111,
              "#46039f"
             ],
             [
              0.2222222222222222,
              "#7201a8"
             ],
             [
              0.3333333333333333,
              "#9c179e"
             ],
             [
              0.4444444444444444,
              "#bd3786"
             ],
             [
              0.5555555555555556,
              "#d8576b"
             ],
             [
              0.6666666666666666,
              "#ed7953"
             ],
             [
              0.7777777777777778,
              "#fb9f3a"
             ],
             [
              0.8888888888888888,
              "#fdca26"
             ],
             [
              1,
              "#f0f921"
             ]
            ],
            "type": "heatmap"
           }
          ],
          "heatmapgl": [
           {
            "colorbar": {
             "outlinewidth": 0,
             "ticks": ""
            },
            "colorscale": [
             [
              0,
              "#0d0887"
             ],
             [
              0.1111111111111111,
              "#46039f"
             ],
             [
              0.2222222222222222,
              "#7201a8"
             ],
             [
              0.3333333333333333,
              "#9c179e"
             ],
             [
              0.4444444444444444,
              "#bd3786"
             ],
             [
              0.5555555555555556,
              "#d8576b"
             ],
             [
              0.6666666666666666,
              "#ed7953"
             ],
             [
              0.7777777777777778,
              "#fb9f3a"
             ],
             [
              0.8888888888888888,
              "#fdca26"
             ],
             [
              1,
              "#f0f921"
             ]
            ],
            "type": "heatmapgl"
           }
          ],
          "histogram": [
           {
            "marker": {
             "pattern": {
              "fillmode": "overlay",
              "size": 10,
              "solidity": 0.2
             }
            },
            "type": "histogram"
           }
          ],
          "histogram2d": [
           {
            "colorbar": {
             "outlinewidth": 0,
             "ticks": ""
            },
            "colorscale": [
             [
              0,
              "#0d0887"
             ],
             [
              0.1111111111111111,
              "#46039f"
             ],
             [
              0.2222222222222222,
              "#7201a8"
             ],
             [
              0.3333333333333333,
              "#9c179e"
             ],
             [
              0.4444444444444444,
              "#bd3786"
             ],
             [
              0.5555555555555556,
              "#d8576b"
             ],
             [
              0.6666666666666666,
              "#ed7953"
             ],
             [
              0.7777777777777778,
              "#fb9f3a"
             ],
             [
              0.8888888888888888,
              "#fdca26"
             ],
             [
              1,
              "#f0f921"
             ]
            ],
            "type": "histogram2d"
           }
          ],
          "histogram2dcontour": [
           {
            "colorbar": {
             "outlinewidth": 0,
             "ticks": ""
            },
            "colorscale": [
             [
              0,
              "#0d0887"
             ],
             [
              0.1111111111111111,
              "#46039f"
             ],
             [
              0.2222222222222222,
              "#7201a8"
             ],
             [
              0.3333333333333333,
              "#9c179e"
             ],
             [
              0.4444444444444444,
              "#bd3786"
             ],
             [
              0.5555555555555556,
              "#d8576b"
             ],
             [
              0.6666666666666666,
              "#ed7953"
             ],
             [
              0.7777777777777778,
              "#fb9f3a"
             ],
             [
              0.8888888888888888,
              "#fdca26"
             ],
             [
              1,
              "#f0f921"
             ]
            ],
            "type": "histogram2dcontour"
           }
          ],
          "mesh3d": [
           {
            "colorbar": {
             "outlinewidth": 0,
             "ticks": ""
            },
            "type": "mesh3d"
           }
          ],
          "parcoords": [
           {
            "line": {
             "colorbar": {
              "outlinewidth": 0,
              "ticks": ""
             }
            },
            "type": "parcoords"
           }
          ],
          "pie": [
           {
            "automargin": true,
            "type": "pie"
           }
          ],
          "scatter": [
           {
            "fillpattern": {
             "fillmode": "overlay",
             "size": 10,
             "solidity": 0.2
            },
            "type": "scatter"
           }
          ],
          "scatter3d": [
           {
            "line": {
             "colorbar": {
              "outlinewidth": 0,
              "ticks": ""
             }
            },
            "marker": {
             "colorbar": {
              "outlinewidth": 0,
              "ticks": ""
             }
            },
            "type": "scatter3d"
           }
          ],
          "scattercarpet": [
           {
            "marker": {
             "colorbar": {
              "outlinewidth": 0,
              "ticks": ""
             }
            },
            "type": "scattercarpet"
           }
          ],
          "scattergeo": [
           {
            "marker": {
             "colorbar": {
              "outlinewidth": 0,
              "ticks": ""
             }
            },
            "type": "scattergeo"
           }
          ],
          "scattergl": [
           {
            "marker": {
             "colorbar": {
              "outlinewidth": 0,
              "ticks": ""
             }
            },
            "type": "scattergl"
           }
          ],
          "scattermapbox": [
           {
            "marker": {
             "colorbar": {
              "outlinewidth": 0,
              "ticks": ""
             }
            },
            "type": "scattermapbox"
           }
          ],
          "scatterpolar": [
           {
            "marker": {
             "colorbar": {
              "outlinewidth": 0,
              "ticks": ""
             }
            },
            "type": "scatterpolar"
           }
          ],
          "scatterpolargl": [
           {
            "marker": {
             "colorbar": {
              "outlinewidth": 0,
              "ticks": ""
             }
            },
            "type": "scatterpolargl"
           }
          ],
          "scatterternary": [
           {
            "marker": {
             "colorbar": {
              "outlinewidth": 0,
              "ticks": ""
             }
            },
            "type": "scatterternary"
           }
          ],
          "surface": [
           {
            "colorbar": {
             "outlinewidth": 0,
             "ticks": ""
            },
            "colorscale": [
             [
              0,
              "#0d0887"
             ],
             [
              0.1111111111111111,
              "#46039f"
             ],
             [
              0.2222222222222222,
              "#7201a8"
             ],
             [
              0.3333333333333333,
              "#9c179e"
             ],
             [
              0.4444444444444444,
              "#bd3786"
             ],
             [
              0.5555555555555556,
              "#d8576b"
             ],
             [
              0.6666666666666666,
              "#ed7953"
             ],
             [
              0.7777777777777778,
              "#fb9f3a"
             ],
             [
              0.8888888888888888,
              "#fdca26"
             ],
             [
              1,
              "#f0f921"
             ]
            ],
            "type": "surface"
           }
          ],
          "table": [
           {
            "cells": {
             "fill": {
              "color": "#EBF0F8"
             },
             "line": {
              "color": "white"
             }
            },
            "header": {
             "fill": {
              "color": "#C8D4E3"
             },
             "line": {
              "color": "white"
             }
            },
            "type": "table"
           }
          ]
         },
         "layout": {
          "annotationdefaults": {
           "arrowcolor": "#2a3f5f",
           "arrowhead": 0,
           "arrowwidth": 1
          },
          "autotypenumbers": "strict",
          "coloraxis": {
           "colorbar": {
            "outlinewidth": 0,
            "ticks": ""
           }
          },
          "colorscale": {
           "diverging": [
            [
             0,
             "#8e0152"
            ],
            [
             0.1,
             "#c51b7d"
            ],
            [
             0.2,
             "#de77ae"
            ],
            [
             0.3,
             "#f1b6da"
            ],
            [
             0.4,
             "#fde0ef"
            ],
            [
             0.5,
             "#f7f7f7"
            ],
            [
             0.6,
             "#e6f5d0"
            ],
            [
             0.7,
             "#b8e186"
            ],
            [
             0.8,
             "#7fbc41"
            ],
            [
             0.9,
             "#4d9221"
            ],
            [
             1,
             "#276419"
            ]
           ],
           "sequential": [
            [
             0,
             "#0d0887"
            ],
            [
             0.1111111111111111,
             "#46039f"
            ],
            [
             0.2222222222222222,
             "#7201a8"
            ],
            [
             0.3333333333333333,
             "#9c179e"
            ],
            [
             0.4444444444444444,
             "#bd3786"
            ],
            [
             0.5555555555555556,
             "#d8576b"
            ],
            [
             0.6666666666666666,
             "#ed7953"
            ],
            [
             0.7777777777777778,
             "#fb9f3a"
            ],
            [
             0.8888888888888888,
             "#fdca26"
            ],
            [
             1,
             "#f0f921"
            ]
           ],
           "sequentialminus": [
            [
             0,
             "#0d0887"
            ],
            [
             0.1111111111111111,
             "#46039f"
            ],
            [
             0.2222222222222222,
             "#7201a8"
            ],
            [
             0.3333333333333333,
             "#9c179e"
            ],
            [
             0.4444444444444444,
             "#bd3786"
            ],
            [
             0.5555555555555556,
             "#d8576b"
            ],
            [
             0.6666666666666666,
             "#ed7953"
            ],
            [
             0.7777777777777778,
             "#fb9f3a"
            ],
            [
             0.8888888888888888,
             "#fdca26"
            ],
            [
             1,
             "#f0f921"
            ]
           ]
          },
          "colorway": [
           "#636efa",
           "#EF553B",
           "#00cc96",
           "#ab63fa",
           "#FFA15A",
           "#19d3f3",
           "#FF6692",
           "#B6E880",
           "#FF97FF",
           "#FECB52"
          ],
          "font": {
           "color": "#2a3f5f"
          },
          "geo": {
           "bgcolor": "white",
           "lakecolor": "white",
           "landcolor": "#E5ECF6",
           "showlakes": true,
           "showland": true,
           "subunitcolor": "white"
          },
          "hoverlabel": {
           "align": "left"
          },
          "hovermode": "closest",
          "mapbox": {
           "style": "light"
          },
          "paper_bgcolor": "white",
          "plot_bgcolor": "#E5ECF6",
          "polar": {
           "angularaxis": {
            "gridcolor": "white",
            "linecolor": "white",
            "ticks": ""
           },
           "bgcolor": "#E5ECF6",
           "radialaxis": {
            "gridcolor": "white",
            "linecolor": "white",
            "ticks": ""
           }
          },
          "scene": {
           "xaxis": {
            "backgroundcolor": "#E5ECF6",
            "gridcolor": "white",
            "gridwidth": 2,
            "linecolor": "white",
            "showbackground": true,
            "ticks": "",
            "zerolinecolor": "white"
           },
           "yaxis": {
            "backgroundcolor": "#E5ECF6",
            "gridcolor": "white",
            "gridwidth": 2,
            "linecolor": "white",
            "showbackground": true,
            "ticks": "",
            "zerolinecolor": "white"
           },
           "zaxis": {
            "backgroundcolor": "#E5ECF6",
            "gridcolor": "white",
            "gridwidth": 2,
            "linecolor": "white",
            "showbackground": true,
            "ticks": "",
            "zerolinecolor": "white"
           }
          },
          "shapedefaults": {
           "line": {
            "color": "#2a3f5f"
           }
          },
          "ternary": {
           "aaxis": {
            "gridcolor": "white",
            "linecolor": "white",
            "ticks": ""
           },
           "baxis": {
            "gridcolor": "white",
            "linecolor": "white",
            "ticks": ""
           },
           "bgcolor": "#E5ECF6",
           "caxis": {
            "gridcolor": "white",
            "linecolor": "white",
            "ticks": ""
           }
          },
          "title": {
           "x": 0.05
          },
          "xaxis": {
           "automargin": true,
           "gridcolor": "white",
           "linecolor": "white",
           "ticks": "",
           "title": {
            "standoff": 15
           },
           "zerolinecolor": "white",
           "zerolinewidth": 2
          },
          "yaxis": {
           "automargin": true,
           "gridcolor": "white",
           "linecolor": "white",
           "ticks": "",
           "title": {
            "standoff": 15
           },
           "zerolinecolor": "white",
           "zerolinewidth": 2
          }
         }
        },
        "title": {
         "text": "Beginners Types of Exercises"
        },
        "xaxis": {
         "anchor": "y",
         "autorange": true,
         "domain": [
          0,
          1
         ],
         "range": [
          -0.5,
          6.5
         ],
         "title": {
          "text": "Type"
         },
         "type": "category"
        },
        "yaxis": {
         "anchor": "x",
         "autorange": true,
         "domain": [
          0,
          1
         ],
         "range": [
          0,
          293.6842105263158
         ],
         "title": {
          "text": "Index"
         },
         "type": "linear"
        }
       }
      },
      "image/png": "[encoded data removed]",
      "text/html": [
       "<div>                            <div id=\"e0453af0-58cc-4554-a377-3395d9f99a13\" class=\"plotly-graph-div\" style=\"height:525px; width:100%;\"></div>            <script type=\"text/javascript\">                require([\"plotly\"], function(Plotly) {                    window.PLOTLYENV=window.PLOTLYENV || {};                                    if (document.getElementById(\"e0453af0-58cc-4554-a377-3395d9f99a13\")) {                    Plotly.newPlot(                        \"e0453af0-58cc-4554-a377-3395d9f99a13\",                        [{\"alignmentgroup\":\"True\",\"hovertemplate\":\"Type=%{x}\\u003cbr\\u003eIndex=%{marker.color}\\u003cextra\\u003e\\u003c\\u002fextra\\u003e\",\"legendgroup\":\"\",\"marker\":{\"color\":[9,16,27,30,35,63,279],\"coloraxis\":\"coloraxis\",\"pattern\":{\"shape\":\"\"}},\"name\":\"\",\"offsetgroup\":\"\",\"orientation\":\"v\",\"showlegend\":false,\"textposition\":\"auto\",\"x\":[\"Cardio\",\"Strongman\",\"Powerlifting\",\"Olympic Weightlifting\",\"Plyometrics\",\"Stretching\",\"Strength\"],\"xaxis\":\"x\",\"y\":[9,16,27,30,35,63,279],\"yaxis\":\"y\",\"type\":\"bar\"}],                        {\"template\":{\"data\":{\"histogram2dcontour\":[{\"type\":\"histogram2dcontour\",\"colorbar\":{\"outlinewidth\":0,\"ticks\":\"\"},\"colorscale\":[[0.0,\"#0d0887\"],[0.1111111111111111,\"#46039f\"],[0.2222222222222222,\"#7201a8\"],[0.3333333333333333,\"#9c179e\"],[0.4444444444444444,\"#bd3786\"],[0.5555555555555556,\"#d8576b\"],[0.6666666666666666,\"#ed7953\"],[0.7777777777777778,\"#fb9f3a\"],[0.8888888888888888,\"#fdca26\"],[1.0,\"#f0f921\"]]}],\"choropleth\":[{\"type\":\"choropleth\",\"colorbar\":{\"outlinewidth\":0,\"ticks\":\"\"}}],\"histogram2d\":[{\"type\":\"histogram2d\",\"colorbar\":{\"outlinewidth\":0,\"ticks\":\"\"},\"colorscale\":[[0.0,\"#0d0887\"],[0.1111111111111111,\"#46039f\"],[0.2222222222222222,\"#7201a8\"],[0.3333333333333333,\"#9c179e\"],[0.4444444444444444,\"#bd3786\"],[0.5555555555555556,\"#d8576b\"],[0.6666666666666666,\"#ed7953\"],[0.7777777777777778,\"#fb9f3a\"],[0.8888888888888888,\"#fdca26\"],[1.0,\"#f0f921\"]]}],\"heatmap\":[{\"type\":\"heatmap\",\"colorbar\":{\"outlinewidth\":0,\"ticks\":\"\"},\"colorscale\":[[0.0,\"#0d0887\"],[0.1111111111111111,\"#46039f\"],[0.2222222222222222,\"#7201a8\"],[0.3333333333333333,\"#9c179e\"],[0.4444444444444444,\"#bd3786\"],[0.5555555555555556,\"#d8576b\"],[0.6666666666666666,\"#ed7953\"],[0.7777777777777778,\"#fb9f3a\"],[0.8888888888888888,\"#fdca26\"],[1.0,\"#f0f921\"]]}],\"heatmapgl\":[{\"type\":\"heatmapgl\",\"colorbar\":{\"outlinewidth\":0,\"ticks\":\"\"},\"colorscale\":[[0.0,\"#0d0887\"],[0.1111111111111111,\"#46039f\"],[0.2222222222222222,\"#7201a8\"],[0.3333333333333333,\"#9c179e\"],[0.4444444444444444,\"#bd3786\"],[0.5555555555555556,\"#d8576b\"],[0.6666666666666666,\"#ed7953\"],[0.7777777777777778,\"#fb9f3a\"],[0.8888888888888888,\"#fdca26\"],[1.0,\"#f0f921\"]]}],\"contourcarpet\":[{\"type\":\"contourcarpet\",\"colorbar\":{\"outlinewidth\":0,\"ticks\":\"\"}}],\"contour\":[{\"type\":\"contour\",\"colorbar\":{\"outlinewidth\":0,\"ticks\":\"\"},\"colorscale\":[[0.0,\"#0d0887\"],[0.1111111111111111,\"#46039f\"],[0.2222222222222222,\"#7201a8\"],[0.3333333333333333,\"#9c179e\"],[0.4444444444444444,\"#bd3786\"],[0.5555555555555556,\"#d8576b\"],[0.6666666666666666,\"#ed7953\"],[0.7777777777777778,\"#fb9f3a\"],[0.8888888888888888,\"#fdca26\"],[1.0,\"#f0f921\"]]}],\"surface\":[{\"type\":\"surface\",\"colorbar\":{\"outlinewidth\":0,\"ticks\":\"\"},\"colorscale\":[[0.0,\"#0d0887\"],[0.1111111111111111,\"#46039f\"],[0.2222222222222222,\"#7201a8\"],[0.3333333333333333,\"#9c179e\"],[0.4444444444444444,\"#bd3786\"],[0.5555555555555556,\"#d8576b\"],[0.6666666666666666,\"#ed7953\"],[0.7777777777777778,\"#fb9f3a\"],[0.8888888888888888,\"#fdca26\"],[1.0,\"#f0f921\"]]}],\"mesh3d\":[{\"type\":\"mesh3d\",\"colorbar\":{\"outlinewidth\":0,\"ticks\":\"\"}}],\"scatter\":[{\"fillpattern\":{\"fillmode\":\"overlay\",\"size\":10,\"solidity\":0.2},\"type\":\"scatter\"}],\"parcoords\":[{\"type\":\"parcoords\",\"line\":{\"colorbar\":{\"outlinewidth\":0,\"ticks\":\"\"}}}],\"scatterpolargl\":[{\"type\":\"scatterpolargl\",\"marker\":{\"colorbar\":{\"outlinewidth\":0,\"ticks\":\"\"}}}],\"bar\":[{\"error_x\":{\"color\":\"#2a3f5f\"},\"error_y\":{\"color\":\"#2a3f5f\"},\"marker\":{\"line\":{\"color\":\"#E5ECF6\",\"width\":0.5},\"pattern\":{\"fillmode\":\"overlay\",\"size\":10,\"solidity\":0.2}},\"type\":\"bar\"}],\"scattergeo\":[{\"type\":\"scattergeo\",\"marker\":{\"colorbar\":{\"outlinewidth\":0,\"ticks\":\"\"}}}],\"scatterpolar\":[{\"type\":\"scatterpolar\",\"marker\":{\"colorbar\":{\"outlinewidth\":0,\"ticks\":\"\"}}}],\"histogram\":[{\"marker\":{\"pattern\":{\"fillmode\":\"overlay\",\"size\":10,\"solidity\":0.2}},\"type\":\"histogram\"}],\"scattergl\":[{\"type\":\"scattergl\",\"marker\":{\"colorbar\":{\"outlinewidth\":0,\"ticks\":\"\"}}}],\"scatter3d\":[{\"type\":\"scatter3d\",\"line\":{\"colorbar\":{\"outlinewidth\":0,\"ticks\":\"\"}},\"marker\":{\"colorbar\":{\"outlinewidth\":0,\"ticks\":\"\"}}}],\"scattermapbox\":[{\"type\":\"scattermapbox\",\"marker\":{\"colorbar\":{\"outlinewidth\":0,\"ticks\":\"\"}}}],\"scatterternary\":[{\"type\":\"scatterternary\",\"marker\":{\"colorbar\":{\"outlinewidth\":0,\"ticks\":\"\"}}}],\"scattercarpet\":[{\"type\":\"scattercarpet\",\"marker\":{\"colorbar\":{\"outlinewidth\":0,\"ticks\":\"\"}}}],\"carpet\":[{\"aaxis\":{\"endlinecolor\":\"#2a3f5f\",\"gridcolor\":\"white\",\"linecolor\":\"white\",\"minorgridcolor\":\"white\",\"startlinecolor\":\"#2a3f5f\"},\"baxis\":{\"endlinecolor\":\"#2a3f5f\",\"gridcolor\":\"white\",\"linecolor\":\"white\",\"minorgridcolor\":\"white\",\"startlinecolor\":\"#2a3f5f\"},\"type\":\"carpet\"}],\"table\":[{\"cells\":{\"fill\":{\"color\":\"#EBF0F8\"},\"line\":{\"color\":\"white\"}},\"header\":{\"fill\":{\"color\":\"#C8D4E3\"},\"line\":{\"color\":\"white\"}},\"type\":\"table\"}],\"barpolar\":[{\"marker\":{\"line\":{\"color\":\"#E5ECF6\",\"width\":0.5},\"pattern\":{\"fillmode\":\"overlay\",\"size\":10,\"solidity\":0.2}},\"type\":\"barpolar\"}],\"pie\":[{\"automargin\":true,\"type\":\"pie\"}]},\"layout\":{\"autotypenumbers\":\"strict\",\"colorway\":[\"#636efa\",\"#EF553B\",\"#00cc96\",\"#ab63fa\",\"#FFA15A\",\"#19d3f3\",\"#FF6692\",\"#B6E880\",\"#FF97FF\",\"#FECB52\"],\"font\":{\"color\":\"#2a3f5f\"},\"hovermode\":\"closest\",\"hoverlabel\":{\"align\":\"left\"},\"paper_bgcolor\":\"white\",\"plot_bgcolor\":\"#E5ECF6\",\"polar\":{\"bgcolor\":\"#E5ECF6\",\"angularaxis\":{\"gridcolor\":\"white\",\"linecolor\":\"white\",\"ticks\":\"\"},\"radialaxis\":{\"gridcolor\":\"white\",\"linecolor\":\"white\",\"ticks\":\"\"}},\"ternary\":{\"bgcolor\":\"#E5ECF6\",\"aaxis\":{\"gridcolor\":\"white\",\"linecolor\":\"white\",\"ticks\":\"\"},\"baxis\":{\"gridcolor\":\"white\",\"linecolor\":\"white\",\"ticks\":\"\"},\"caxis\":{\"gridcolor\":\"white\",\"linecolor\":\"white\",\"ticks\":\"\"}},\"coloraxis\":{\"colorbar\":{\"outlinewidth\":0,\"ticks\":\"\"}},\"colorscale\":{\"sequential\":[[0.0,\"#0d0887\"],[0.1111111111111111,\"#46039f\"],[0.2222222222222222,\"#7201a8\"],[0.3333333333333333,\"#9c179e\"],[0.4444444444444444,\"#bd3786\"],[0.5555555555555556,\"#d8576b\"],[0.6666666666666666,\"#ed7953\"],[0.7777777777777778,\"#fb9f3a\"],[0.8888888888888888,\"#fdca26\"],[1.0,\"#f0f921\"]],\"sequentialminus\":[[0.0,\"#0d0887\"],[0.1111111111111111,\"#46039f\"],[0.2222222222222222,\"#7201a8\"],[0.3333333333333333,\"#9c179e\"],[0.4444444444444444,\"#bd3786\"],[0.5555555555555556,\"#d8576b\"],[0.6666666666666666,\"#ed7953\"],[0.7777777777777778,\"#fb9f3a\"],[0.8888888888888888,\"#fdca26\"],[1.0,\"#f0f921\"]],\"diverging\":[[0,\"#8e0152\"],[0.1,\"#c51b7d\"],[0.2,\"#de77ae\"],[0.3,\"#f1b6da\"],[0.4,\"#fde0ef\"],[0.5,\"#f7f7f7\"],[0.6,\"#e6f5d0\"],[0.7,\"#b8e186\"],[0.8,\"#7fbc41\"],[0.9,\"#4d9221\"],[1,\"#276419\"]]},\"xaxis\":{\"gridcolor\":\"white\",\"linecolor\":\"white\",\"ticks\":\"\",\"title\":{\"standoff\":15},\"zerolinecolor\":\"white\",\"automargin\":true,\"zerolinewidth\":2},\"yaxis\":{\"gridcolor\":\"white\",\"linecolor\":\"white\",\"ticks\":\"\",\"title\":{\"standoff\":15},\"zerolinecolor\":\"white\",\"automargin\":true,\"zerolinewidth\":2},\"scene\":{\"xaxis\":{\"backgroundcolor\":\"#E5ECF6\",\"gridcolor\":\"white\",\"linecolor\":\"white\",\"showbackground\":true,\"ticks\":\"\",\"zerolinecolor\":\"white\",\"gridwidth\":2},\"yaxis\":{\"backgroundcolor\":\"#E5ECF6\",\"gridcolor\":\"white\",\"linecolor\":\"white\",\"showbackground\":true,\"ticks\":\"\",\"zerolinecolor\":\"white\",\"gridwidth\":2},\"zaxis\":{\"backgroundcolor\":\"#E5ECF6\",\"gridcolor\":\"white\",\"linecolor\":\"white\",\"showbackground\":true,\"ticks\":\"\",\"zerolinecolor\":\"white\",\"gridwidth\":2}},\"shapedefaults\":{\"line\":{\"color\":\"#2a3f5f\"}},\"annotationdefaults\":{\"arrowcolor\":\"#2a3f5f\",\"arrowhead\":0,\"arrowwidth\":1},\"geo\":{\"bgcolor\":\"white\",\"landcolor\":\"#E5ECF6\",\"subunitcolor\":\"white\",\"showland\":true,\"showlakes\":true,\"lakecolor\":\"white\"},\"title\":{\"x\":0.05},\"mapbox\":{\"style\":\"light\"}}},\"xaxis\":{\"anchor\":\"y\",\"domain\":[0.0,1.0],\"title\":{\"text\":\"Type\"}},\"yaxis\":{\"anchor\":\"x\",\"domain\":[0.0,1.0],\"title\":{\"text\":\"Index\"}},\"coloraxis\":{\"colorbar\":{\"title\":{\"text\":\"Index\"}},\"colorscale\":[[0.0,\"#0d0887\"],[0.1111111111111111,\"#46039f\"],[0.2222222222222222,\"#7201a8\"],[0.3333333333333333,\"#9c179e\"],[0.4444444444444444,\"#bd3786\"],[0.5555555555555556,\"#d8576b\"],[0.6666666666666666,\"#ed7953\"],[0.7777777777777778,\"#fb9f3a\"],[0.8888888888888888,\"#fdca26\"],[1.0,\"#f0f921\"]]},\"legend\":{\"tracegroupgap\":0},\"title\":{\"text\":\"Beginners Types of Exercises\"},\"barmode\":\"relative\"},                        {\"responsive\": true}                    ).then(function(){\n",
       "                            \n",
       "var gd = document.getElementById('e0453af0-58cc-4554-a377-3395d9f99a13');\n",
       "var x = new MutationObserver(function (mutations, observer) {{\n",
       "        var display = window.getComputedStyle(gd).display;\n",
       "        if (!display || display === 'none') {{\n",
       "            console.log([gd, 'removed!']);\n",
       "            Plotly.purge(gd);\n",
       "            observer.disconnect();\n",
       "        }}\n",
       "}});\n",
       "\n",
       "// Listen for the removal of the full notebook cells\n",
       "var notebookContainer = gd.closest('#notebook-container');\n",
       "if (notebookContainer) {{\n",
       "    x.observe(notebookContainer, {childList: true});\n",
       "}}\n",
       "\n",
       "// Listen for the clearing of the current output cell\n",
       "var outputEl = gd.closest('.output');\n",
       "if (outputEl) {{\n",
       "    x.observe(outputEl, {childList: true});\n",
       "}}\n",
       "\n",
       "                        })                };                });            </script>        </div>"
      ]
     },
     "metadata": {},
     "output_type": "display_data"
    }
   ],
   "source": [
    "#group by type of exercise - beginners\n",
    "beginner_type = beginner.groupby(['Type']).count()\n",
    "beginner_type= beginner_type.sort_values(by='Index')\n",
    "fig = px.bar(beginner_type, x=beginner_type.index, y='Index', color='Index', title='Beginners Types of Exercises')\n",
    "fig.show()"
   ]
  },
  {
   "cell_type": "markdown",
   "id": "f031a2cd",
   "metadata": {},
   "source": [
    "Against all expectations, beginners will mostly choose to do strenght exercises followed by stretching and plyometrics. Cardio comes as the least favorite of all."
   ]
  },
  {
   "cell_type": "markdown",
   "id": "68428b98",
   "metadata": {},
   "source": [
    "Intermediate level athletes have an even stronger preference for strenght exercises."
   ]
  },
  {
   "cell_type": "code",
   "execution_count": 43,
   "id": "12f2a6b1",
   "metadata": {},
   "outputs": [
    {
     "data": {
      "application/vnd.plotly.v1+json": {
       "config": {
        "plotlyServerURL": "https://plot.ly"
       },
       "data": [
        {
         "alignmentgroup": "True",
         "hovertemplate": "Type=%{x}<br>Index=%{marker.color}<extra></extra>",
         "legendgroup": "",
         "marker": {
          "color": [
           1,
           2,
           10
          ],
          "coloraxis": "coloraxis",
          "pattern": {
           "shape": ""
          }
         },
         "name": "",
         "offsetgroup": "",
         "orientation": "v",
         "showlegend": false,
         "textposition": "auto",
         "type": "bar",
         "x": [
          "Olympic Weightlifting",
          "Plyometrics",
          "Strength"
         ],
         "xaxis": "x",
         "y": [
          1,
          2,
          10
         ],
         "yaxis": "y"
        }
       ],
       "layout": {
        "autosize": true,
        "barmode": "relative",
        "coloraxis": {
         "colorbar": {
          "title": {
           "text": "Index"
          }
         },
         "colorscale": [
          [
           0,
           "#0d0887"
          ],
          [
           0.1111111111111111,
           "#46039f"
          ],
          [
           0.2222222222222222,
           "#7201a8"
          ],
          [
           0.3333333333333333,
           "#9c179e"
          ],
          [
           0.4444444444444444,
           "#bd3786"
          ],
          [
           0.5555555555555556,
           "#d8576b"
          ],
          [
           0.6666666666666666,
           "#ed7953"
          ],
          [
           0.7777777777777778,
           "#fb9f3a"
          ],
          [
           0.8888888888888888,
           "#fdca26"
          ],
          [
           1,
           "#f0f921"
          ]
         ]
        },
        "legend": {
         "tracegroupgap": 0
        },
        "template": {
         "data": {
          "bar": [
           {
            "error_x": {
             "color": "#2a3f5f"
            },
            "error_y": {
             "color": "#2a3f5f"
            },
            "marker": {
             "line": {
              "color": "#E5ECF6",
              "width": 0.5
             },
             "pattern": {
              "fillmode": "overlay",
              "size": 10,
              "solidity": 0.2
             }
            },
            "type": "bar"
           }
          ],
          "barpolar": [
           {
            "marker": {
             "line": {
              "color": "#E5ECF6",
              "width": 0.5
             },
             "pattern": {
              "fillmode": "overlay",
              "size": 10,
              "solidity": 0.2
             }
            },
            "type": "barpolar"
           }
          ],
          "carpet": [
           {
            "aaxis": {
             "endlinecolor": "#2a3f5f",
             "gridcolor": "white",
             "linecolor": "white",
             "minorgridcolor": "white",
             "startlinecolor": "#2a3f5f"
            },
            "baxis": {
             "endlinecolor": "#2a3f5f",
             "gridcolor": "white",
             "linecolor": "white",
             "minorgridcolor": "white",
             "startlinecolor": "#2a3f5f"
            },
            "type": "carpet"
           }
          ],
          "choropleth": [
           {
            "colorbar": {
             "outlinewidth": 0,
             "ticks": ""
            },
            "type": "choropleth"
           }
          ],
          "contour": [
           {
            "colorbar": {
             "outlinewidth": 0,
             "ticks": ""
            },
            "colorscale": [
             [
              0,
              "#0d0887"
             ],
             [
              0.1111111111111111,
              "#46039f"
             ],
             [
              0.2222222222222222,
              "#7201a8"
             ],
             [
              0.3333333333333333,
              "#9c179e"
             ],
             [
              0.4444444444444444,
              "#bd3786"
             ],
             [
              0.5555555555555556,
              "#d8576b"
             ],
             [
              0.6666666666666666,
              "#ed7953"
             ],
             [
              0.7777777777777778,
              "#fb9f3a"
             ],
             [
              0.8888888888888888,
              "#fdca26"
             ],
             [
              1,
              "#f0f921"
             ]
            ],
            "type": "contour"
           }
          ],
          "contourcarpet": [
           {
            "colorbar": {
             "outlinewidth": 0,
             "ticks": ""
            },
            "type": "contourcarpet"
           }
          ],
          "heatmap": [
           {
            "colorbar": {
             "outlinewidth": 0,
             "ticks": ""
            },
            "colorscale": [
             [
              0,
              "#0d0887"
             ],
             [
              0.1111111111111111,
              "#46039f"
             ],
             [
              0.2222222222222222,
              "#7201a8"
             ],
             [
              0.3333333333333333,
              "#9c179e"
             ],
             [
              0.4444444444444444,
              "#bd3786"
             ],
             [
              0.5555555555555556,
              "#d8576b"
             ],
             [
              0.6666666666666666,
              "#ed7953"
             ],
             [
              0.7777777777777778,
              "#fb9f3a"
             ],
             [
              0.8888888888888888,
              "#fdca26"
             ],
             [
              1,
              "#f0f921"
             ]
            ],
            "type": "heatmap"
           }
          ],
          "heatmapgl": [
           {
            "colorbar": {
             "outlinewidth": 0,
             "ticks": ""
            },
            "colorscale": [
             [
              0,
              "#0d0887"
             ],
             [
              0.1111111111111111,
              "#46039f"
             ],
             [
              0.2222222222222222,
              "#7201a8"
             ],
             [
              0.3333333333333333,
              "#9c179e"
             ],
             [
              0.4444444444444444,
              "#bd3786"
             ],
             [
              0.5555555555555556,
              "#d8576b"
             ],
             [
              0.6666666666666666,
              "#ed7953"
             ],
             [
              0.7777777777777778,
              "#fb9f3a"
             ],
             [
              0.8888888888888888,
              "#fdca26"
             ],
             [
              1,
              "#f0f921"
             ]
            ],
            "type": "heatmapgl"
           }
          ],
          "histogram": [
           {
            "marker": {
             "pattern": {
              "fillmode": "overlay",
              "size": 10,
              "solidity": 0.2
             }
            },
            "type": "histogram"
           }
          ],
          "histogram2d": [
           {
            "colorbar": {
             "outlinewidth": 0,
             "ticks": ""
            },
            "colorscale": [
             [
              0,
              "#0d0887"
             ],
             [
              0.1111111111111111,
              "#46039f"
             ],
             [
              0.2222222222222222,
              "#7201a8"
             ],
             [
              0.3333333333333333,
              "#9c179e"
             ],
             [
              0.4444444444444444,
              "#bd3786"
             ],
             [
              0.5555555555555556,
              "#d8576b"
             ],
             [
              0.6666666666666666,
              "#ed7953"
             ],
             [
              0.7777777777777778,
              "#fb9f3a"
             ],
             [
              0.8888888888888888,
              "#fdca26"
             ],
             [
              1,
              "#f0f921"
             ]
            ],
            "type": "histogram2d"
           }
          ],
          "histogram2dcontour": [
           {
            "colorbar": {
             "outlinewidth": 0,
             "ticks": ""
            },
            "colorscale": [
             [
              0,
              "#0d0887"
             ],
             [
              0.1111111111111111,
              "#46039f"
             ],
             [
              0.2222222222222222,
              "#7201a8"
             ],
             [
              0.3333333333333333,
              "#9c179e"
             ],
             [
              0.4444444444444444,
              "#bd3786"
             ],
             [
              0.5555555555555556,
              "#d8576b"
             ],
             [
              0.6666666666666666,
              "#ed7953"
             ],
             [
              0.7777777777777778,
              "#fb9f3a"
             ],
             [
              0.8888888888888888,
              "#fdca26"
             ],
             [
              1,
              "#f0f921"
             ]
            ],
            "type": "histogram2dcontour"
           }
          ],
          "mesh3d": [
           {
            "colorbar": {
             "outlinewidth": 0,
             "ticks": ""
            },
            "type": "mesh3d"
           }
          ],
          "parcoords": [
           {
            "line": {
             "colorbar": {
              "outlinewidth": 0,
              "ticks": ""
             }
            },
            "type": "parcoords"
           }
          ],
          "pie": [
           {
            "automargin": true,
            "type": "pie"
           }
          ],
          "scatter": [
           {
            "fillpattern": {
             "fillmode": "overlay",
             "size": 10,
             "solidity": 0.2
            },
            "type": "scatter"
           }
          ],
          "scatter3d": [
           {
            "line": {
             "colorbar": {
              "outlinewidth": 0,
              "ticks": ""
             }
            },
            "marker": {
             "colorbar": {
              "outlinewidth": 0,
              "ticks": ""
             }
            },
            "type": "scatter3d"
           }
          ],
          "scattercarpet": [
           {
            "marker": {
             "colorbar": {
              "outlinewidth": 0,
              "ticks": ""
             }
            },
            "type": "scattercarpet"
           }
          ],
          "scattergeo": [
           {
            "marker": {
             "colorbar": {
              "outlinewidth": 0,
              "ticks": ""
             }
            },
            "type": "scattergeo"
           }
          ],
          "scattergl": [
           {
            "marker": {
             "colorbar": {
              "outlinewidth": 0,
              "ticks": ""
             }
            },
            "type": "scattergl"
           }
          ],
          "scattermapbox": [
           {
            "marker": {
             "colorbar": {
              "outlinewidth": 0,
              "ticks": ""
             }
            },
            "type": "scattermapbox"
           }
          ],
          "scatterpolar": [
           {
            "marker": {
             "colorbar": {
              "outlinewidth": 0,
              "ticks": ""
             }
            },
            "type": "scatterpolar"
           }
          ],
          "scatterpolargl": [
           {
            "marker": {
             "colorbar": {
              "outlinewidth": 0,
              "ticks": ""
             }
            },
            "type": "scatterpolargl"
           }
          ],
          "scatterternary": [
           {
            "marker": {
             "colorbar": {
              "outlinewidth": 0,
              "ticks": ""
             }
            },
            "type": "scatterternary"
           }
          ],
          "surface": [
           {
            "colorbar": {
             "outlinewidth": 0,
             "ticks": ""
            },
            "colorscale": [
             [
              0,
              "#0d0887"
             ],
             [
              0.1111111111111111,
              "#46039f"
             ],
             [
              0.2222222222222222,
              "#7201a8"
             ],
             [
              0.3333333333333333,
              "#9c179e"
             ],
             [
              0.4444444444444444,
              "#bd3786"
             ],
             [
              0.5555555555555556,
              "#d8576b"
             ],
             [
              0.6666666666666666,
              "#ed7953"
             ],
             [
              0.7777777777777778,
              "#fb9f3a"
             ],
             [
              0.8888888888888888,
              "#fdca26"
             ],
             [
              1,
              "#f0f921"
             ]
            ],
            "type": "surface"
           }
          ],
          "table": [
           {
            "cells": {
             "fill": {
              "color": "#EBF0F8"
             },
             "line": {
              "color": "white"
             }
            },
            "header": {
             "fill": {
              "color": "#C8D4E3"
             },
             "line": {
              "color": "white"
             }
            },
            "type": "table"
           }
          ]
         },
         "layout": {
          "annotationdefaults": {
           "arrowcolor": "#2a3f5f",
           "arrowhead": 0,
           "arrowwidth": 1
          },
          "autotypenumbers": "strict",
          "coloraxis": {
           "colorbar": {
            "outlinewidth": 0,
            "ticks": ""
           }
          },
          "colorscale": {
           "diverging": [
            [
             0,
             "#8e0152"
            ],
            [
             0.1,
             "#c51b7d"
            ],
            [
             0.2,
             "#de77ae"
            ],
            [
             0.3,
             "#f1b6da"
            ],
            [
             0.4,
             "#fde0ef"
            ],
            [
             0.5,
             "#f7f7f7"
            ],
            [
             0.6,
             "#e6f5d0"
            ],
            [
             0.7,
             "#b8e186"
            ],
            [
             0.8,
             "#7fbc41"
            ],
            [
             0.9,
             "#4d9221"
            ],
            [
             1,
             "#276419"
            ]
           ],
           "sequential": [
            [
             0,
             "#0d0887"
            ],
            [
             0.1111111111111111,
             "#46039f"
            ],
            [
             0.2222222222222222,
             "#7201a8"
            ],
            [
             0.3333333333333333,
             "#9c179e"
            ],
            [
             0.4444444444444444,
             "#bd3786"
            ],
            [
             0.5555555555555556,
             "#d8576b"
            ],
            [
             0.6666666666666666,
             "#ed7953"
            ],
            [
             0.7777777777777778,
             "#fb9f3a"
            ],
            [
             0.8888888888888888,
             "#fdca26"
            ],
            [
             1,
             "#f0f921"
            ]
           ],
           "sequentialminus": [
            [
             0,
             "#0d0887"
            ],
            [
             0.1111111111111111,
             "#46039f"
            ],
            [
             0.2222222222222222,
             "#7201a8"
            ],
            [
             0.3333333333333333,
             "#9c179e"
            ],
            [
             0.4444444444444444,
             "#bd3786"
            ],
            [
             0.5555555555555556,
             "#d8576b"
            ],
            [
             0.6666666666666666,
             "#ed7953"
            ],
            [
             0.7777777777777778,
             "#fb9f3a"
            ],
            [
             0.8888888888888888,
             "#fdca26"
            ],
            [
             1,
             "#f0f921"
            ]
           ]
          },
          "colorway": [
           "#636efa",
           "#EF553B",
           "#00cc96",
           "#ab63fa",
           "#FFA15A",
           "#19d3f3",
           "#FF6692",
           "#B6E880",
           "#FF97FF",
           "#FECB52"
          ],
          "font": {
           "color": "#2a3f5f"
          },
          "geo": {
           "bgcolor": "white",
           "lakecolor": "white",
           "landcolor": "#E5ECF6",
           "showlakes": true,
           "showland": true,
           "subunitcolor": "white"
          },
          "hoverlabel": {
           "align": "left"
          },
          "hovermode": "closest",
          "mapbox": {
           "style": "light"
          },
          "paper_bgcolor": "white",
          "plot_bgcolor": "#E5ECF6",
          "polar": {
           "angularaxis": {
            "gridcolor": "white",
            "linecolor": "white",
            "ticks": ""
           },
           "bgcolor": "#E5ECF6",
           "radialaxis": {
            "gridcolor": "white",
            "linecolor": "white",
            "ticks": ""
           }
          },
          "scene": {
           "xaxis": {
            "backgroundcolor": "#E5ECF6",
            "gridcolor": "white",
            "gridwidth": 2,
            "linecolor": "white",
            "showbackground": true,
            "ticks": "",
            "zerolinecolor": "white"
           },
           "yaxis": {
            "backgroundcolor": "#E5ECF6",
            "gridcolor": "white",
            "gridwidth": 2,
            "linecolor": "white",
            "showbackground": true,
            "ticks": "",
            "zerolinecolor": "white"
           },
           "zaxis": {
            "backgroundcolor": "#E5ECF6",
            "gridcolor": "white",
            "gridwidth": 2,
            "linecolor": "white",
            "showbackground": true,
            "ticks": "",
            "zerolinecolor": "white"
           }
          },
          "shapedefaults": {
           "line": {
            "color": "#2a3f5f"
           }
          },
          "ternary": {
           "aaxis": {
            "gridcolor": "white",
            "linecolor": "white",
            "ticks": ""
           },
           "baxis": {
            "gridcolor": "white",
            "linecolor": "white",
            "ticks": ""
           },
           "bgcolor": "#E5ECF6",
           "caxis": {
            "gridcolor": "white",
            "linecolor": "white",
            "ticks": ""
           }
          },
          "title": {
           "x": 0.05
          },
          "xaxis": {
           "automargin": true,
           "gridcolor": "white",
           "linecolor": "white",
           "ticks": "",
           "title": {
            "standoff": 15
           },
           "zerolinecolor": "white",
           "zerolinewidth": 2
          },
          "yaxis": {
           "automargin": true,
           "gridcolor": "white",
           "linecolor": "white",
           "ticks": "",
           "title": {
            "standoff": 15
           },
           "zerolinecolor": "white",
           "zerolinewidth": 2
          }
         }
        },
        "title": {
         "text": "Expert Types of Exercises"
        },
        "xaxis": {
         "anchor": "y",
         "autorange": true,
         "domain": [
          0,
          1
         ],
         "range": [
          -0.5,
          2.5
         ],
         "title": {
          "text": "Type"
         },
         "type": "category"
        },
        "yaxis": {
         "anchor": "x",
         "autorange": true,
         "domain": [
          0,
          1
         ],
         "range": [
          0,
          10.526315789473685
         ],
         "title": {
          "text": "Index"
         },
         "type": "linear"
        }
       }
      },
      "image/png": "[encoded data removed]",
      "text/html": [
       "<div>                            <div id=\"9e3d0971-1eb4-4e76-9d83-700d01c936d6\" class=\"plotly-graph-div\" style=\"height:525px; width:100%;\"></div>            <script type=\"text/javascript\">                require([\"plotly\"], function(Plotly) {                    window.PLOTLYENV=window.PLOTLYENV || {};                                    if (document.getElementById(\"9e3d0971-1eb4-4e76-9d83-700d01c936d6\")) {                    Plotly.newPlot(                        \"9e3d0971-1eb4-4e76-9d83-700d01c936d6\",                        [{\"alignmentgroup\":\"True\",\"hovertemplate\":\"Type=%{x}\\u003cbr\\u003eIndex=%{marker.color}\\u003cextra\\u003e\\u003c\\u002fextra\\u003e\",\"legendgroup\":\"\",\"marker\":{\"color\":[1,2,10],\"coloraxis\":\"coloraxis\",\"pattern\":{\"shape\":\"\"}},\"name\":\"\",\"offsetgroup\":\"\",\"orientation\":\"v\",\"showlegend\":false,\"textposition\":\"auto\",\"x\":[\"Olympic Weightlifting\",\"Plyometrics\",\"Strength\"],\"xaxis\":\"x\",\"y\":[1,2,10],\"yaxis\":\"y\",\"type\":\"bar\"}],                        {\"template\":{\"data\":{\"histogram2dcontour\":[{\"type\":\"histogram2dcontour\",\"colorbar\":{\"outlinewidth\":0,\"ticks\":\"\"},\"colorscale\":[[0.0,\"#0d0887\"],[0.1111111111111111,\"#46039f\"],[0.2222222222222222,\"#7201a8\"],[0.3333333333333333,\"#9c179e\"],[0.4444444444444444,\"#bd3786\"],[0.5555555555555556,\"#d8576b\"],[0.6666666666666666,\"#ed7953\"],[0.7777777777777778,\"#fb9f3a\"],[0.8888888888888888,\"#fdca26\"],[1.0,\"#f0f921\"]]}],\"choropleth\":[{\"type\":\"choropleth\",\"colorbar\":{\"outlinewidth\":0,\"ticks\":\"\"}}],\"histogram2d\":[{\"type\":\"histogram2d\",\"colorbar\":{\"outlinewidth\":0,\"ticks\":\"\"},\"colorscale\":[[0.0,\"#0d0887\"],[0.1111111111111111,\"#46039f\"],[0.2222222222222222,\"#7201a8\"],[0.3333333333333333,\"#9c179e\"],[0.4444444444444444,\"#bd3786\"],[0.5555555555555556,\"#d8576b\"],[0.6666666666666666,\"#ed7953\"],[0.7777777777777778,\"#fb9f3a\"],[0.8888888888888888,\"#fdca26\"],[1.0,\"#f0f921\"]]}],\"heatmap\":[{\"type\":\"heatmap\",\"colorbar\":{\"outlinewidth\":0,\"ticks\":\"\"},\"colorscale\":[[0.0,\"#0d0887\"],[0.1111111111111111,\"#46039f\"],[0.2222222222222222,\"#7201a8\"],[0.3333333333333333,\"#9c179e\"],[0.4444444444444444,\"#bd3786\"],[0.5555555555555556,\"#d8576b\"],[0.6666666666666666,\"#ed7953\"],[0.7777777777777778,\"#fb9f3a\"],[0.8888888888888888,\"#fdca26\"],[1.0,\"#f0f921\"]]}],\"heatmapgl\":[{\"type\":\"heatmapgl\",\"colorbar\":{\"outlinewidth\":0,\"ticks\":\"\"},\"colorscale\":[[0.0,\"#0d0887\"],[0.1111111111111111,\"#46039f\"],[0.2222222222222222,\"#7201a8\"],[0.3333333333333333,\"#9c179e\"],[0.4444444444444444,\"#bd3786\"],[0.5555555555555556,\"#d8576b\"],[0.6666666666666666,\"#ed7953\"],[0.7777777777777778,\"#fb9f3a\"],[0.8888888888888888,\"#fdca26\"],[1.0,\"#f0f921\"]]}],\"contourcarpet\":[{\"type\":\"contourcarpet\",\"colorbar\":{\"outlinewidth\":0,\"ticks\":\"\"}}],\"contour\":[{\"type\":\"contour\",\"colorbar\":{\"outlinewidth\":0,\"ticks\":\"\"},\"colorscale\":[[0.0,\"#0d0887\"],[0.1111111111111111,\"#46039f\"],[0.2222222222222222,\"#7201a8\"],[0.3333333333333333,\"#9c179e\"],[0.4444444444444444,\"#bd3786\"],[0.5555555555555556,\"#d8576b\"],[0.6666666666666666,\"#ed7953\"],[0.7777777777777778,\"#fb9f3a\"],[0.8888888888888888,\"#fdca26\"],[1.0,\"#f0f921\"]]}],\"surface\":[{\"type\":\"surface\",\"colorbar\":{\"outlinewidth\":0,\"ticks\":\"\"},\"colorscale\":[[0.0,\"#0d0887\"],[0.1111111111111111,\"#46039f\"],[0.2222222222222222,\"#7201a8\"],[0.3333333333333333,\"#9c179e\"],[0.4444444444444444,\"#bd3786\"],[0.5555555555555556,\"#d8576b\"],[0.6666666666666666,\"#ed7953\"],[0.7777777777777778,\"#fb9f3a\"],[0.8888888888888888,\"#fdca26\"],[1.0,\"#f0f921\"]]}],\"mesh3d\":[{\"type\":\"mesh3d\",\"colorbar\":{\"outlinewidth\":0,\"ticks\":\"\"}}],\"scatter\":[{\"fillpattern\":{\"fillmode\":\"overlay\",\"size\":10,\"solidity\":0.2},\"type\":\"scatter\"}],\"parcoords\":[{\"type\":\"parcoords\",\"line\":{\"colorbar\":{\"outlinewidth\":0,\"ticks\":\"\"}}}],\"scatterpolargl\":[{\"type\":\"scatterpolargl\",\"marker\":{\"colorbar\":{\"outlinewidth\":0,\"ticks\":\"\"}}}],\"bar\":[{\"error_x\":{\"color\":\"#2a3f5f\"},\"error_y\":{\"color\":\"#2a3f5f\"},\"marker\":{\"line\":{\"color\":\"#E5ECF6\",\"width\":0.5},\"pattern\":{\"fillmode\":\"overlay\",\"size\":10,\"solidity\":0.2}},\"type\":\"bar\"}],\"scattergeo\":[{\"type\":\"scattergeo\",\"marker\":{\"colorbar\":{\"outlinewidth\":0,\"ticks\":\"\"}}}],\"scatterpolar\":[{\"type\":\"scatterpolar\",\"marker\":{\"colorbar\":{\"outlinewidth\":0,\"ticks\":\"\"}}}],\"histogram\":[{\"marker\":{\"pattern\":{\"fillmode\":\"overlay\",\"size\":10,\"solidity\":0.2}},\"type\":\"histogram\"}],\"scattergl\":[{\"type\":\"scattergl\",\"marker\":{\"colorbar\":{\"outlinewidth\":0,\"ticks\":\"\"}}}],\"scatter3d\":[{\"type\":\"scatter3d\",\"line\":{\"colorbar\":{\"outlinewidth\":0,\"ticks\":\"\"}},\"marker\":{\"colorbar\":{\"outlinewidth\":0,\"ticks\":\"\"}}}],\"scattermapbox\":[{\"type\":\"scattermapbox\",\"marker\":{\"colorbar\":{\"outlinewidth\":0,\"ticks\":\"\"}}}],\"scatterternary\":[{\"type\":\"scatterternary\",\"marker\":{\"colorbar\":{\"outlinewidth\":0,\"ticks\":\"\"}}}],\"scattercarpet\":[{\"type\":\"scattercarpet\",\"marker\":{\"colorbar\":{\"outlinewidth\":0,\"ticks\":\"\"}}}],\"carpet\":[{\"aaxis\":{\"endlinecolor\":\"#2a3f5f\",\"gridcolor\":\"white\",\"linecolor\":\"white\",\"minorgridcolor\":\"white\",\"startlinecolor\":\"#2a3f5f\"},\"baxis\":{\"endlinecolor\":\"#2a3f5f\",\"gridcolor\":\"white\",\"linecolor\":\"white\",\"minorgridcolor\":\"white\",\"startlinecolor\":\"#2a3f5f\"},\"type\":\"carpet\"}],\"table\":[{\"cells\":{\"fill\":{\"color\":\"#EBF0F8\"},\"line\":{\"color\":\"white\"}},\"header\":{\"fill\":{\"color\":\"#C8D4E3\"},\"line\":{\"color\":\"white\"}},\"type\":\"table\"}],\"barpolar\":[{\"marker\":{\"line\":{\"color\":\"#E5ECF6\",\"width\":0.5},\"pattern\":{\"fillmode\":\"overlay\",\"size\":10,\"solidity\":0.2}},\"type\":\"barpolar\"}],\"pie\":[{\"automargin\":true,\"type\":\"pie\"}]},\"layout\":{\"autotypenumbers\":\"strict\",\"colorway\":[\"#636efa\",\"#EF553B\",\"#00cc96\",\"#ab63fa\",\"#FFA15A\",\"#19d3f3\",\"#FF6692\",\"#B6E880\",\"#FF97FF\",\"#FECB52\"],\"font\":{\"color\":\"#2a3f5f\"},\"hovermode\":\"closest\",\"hoverlabel\":{\"align\":\"left\"},\"paper_bgcolor\":\"white\",\"plot_bgcolor\":\"#E5ECF6\",\"polar\":{\"bgcolor\":\"#E5ECF6\",\"angularaxis\":{\"gridcolor\":\"white\",\"linecolor\":\"white\",\"ticks\":\"\"},\"radialaxis\":{\"gridcolor\":\"white\",\"linecolor\":\"white\",\"ticks\":\"\"}},\"ternary\":{\"bgcolor\":\"#E5ECF6\",\"aaxis\":{\"gridcolor\":\"white\",\"linecolor\":\"white\",\"ticks\":\"\"},\"baxis\":{\"gridcolor\":\"white\",\"linecolor\":\"white\",\"ticks\":\"\"},\"caxis\":{\"gridcolor\":\"white\",\"linecolor\":\"white\",\"ticks\":\"\"}},\"coloraxis\":{\"colorbar\":{\"outlinewidth\":0,\"ticks\":\"\"}},\"colorscale\":{\"sequential\":[[0.0,\"#0d0887\"],[0.1111111111111111,\"#46039f\"],[0.2222222222222222,\"#7201a8\"],[0.3333333333333333,\"#9c179e\"],[0.4444444444444444,\"#bd3786\"],[0.5555555555555556,\"#d8576b\"],[0.6666666666666666,\"#ed7953\"],[0.7777777777777778,\"#fb9f3a\"],[0.8888888888888888,\"#fdca26\"],[1.0,\"#f0f921\"]],\"sequentialminus\":[[0.0,\"#0d0887\"],[0.1111111111111111,\"#46039f\"],[0.2222222222222222,\"#7201a8\"],[0.3333333333333333,\"#9c179e\"],[0.4444444444444444,\"#bd3786\"],[0.5555555555555556,\"#d8576b\"],[0.6666666666666666,\"#ed7953\"],[0.7777777777777778,\"#fb9f3a\"],[0.8888888888888888,\"#fdca26\"],[1.0,\"#f0f921\"]],\"diverging\":[[0,\"#8e0152\"],[0.1,\"#c51b7d\"],[0.2,\"#de77ae\"],[0.3,\"#f1b6da\"],[0.4,\"#fde0ef\"],[0.5,\"#f7f7f7\"],[0.6,\"#e6f5d0\"],[0.7,\"#b8e186\"],[0.8,\"#7fbc41\"],[0.9,\"#4d9221\"],[1,\"#276419\"]]},\"xaxis\":{\"gridcolor\":\"white\",\"linecolor\":\"white\",\"ticks\":\"\",\"title\":{\"standoff\":15},\"zerolinecolor\":\"white\",\"automargin\":true,\"zerolinewidth\":2},\"yaxis\":{\"gridcolor\":\"white\",\"linecolor\":\"white\",\"ticks\":\"\",\"title\":{\"standoff\":15},\"zerolinecolor\":\"white\",\"automargin\":true,\"zerolinewidth\":2},\"scene\":{\"xaxis\":{\"backgroundcolor\":\"#E5ECF6\",\"gridcolor\":\"white\",\"linecolor\":\"white\",\"showbackground\":true,\"ticks\":\"\",\"zerolinecolor\":\"white\",\"gridwidth\":2},\"yaxis\":{\"backgroundcolor\":\"#E5ECF6\",\"gridcolor\":\"white\",\"linecolor\":\"white\",\"showbackground\":true,\"ticks\":\"\",\"zerolinecolor\":\"white\",\"gridwidth\":2},\"zaxis\":{\"backgroundcolor\":\"#E5ECF6\",\"gridcolor\":\"white\",\"linecolor\":\"white\",\"showbackground\":true,\"ticks\":\"\",\"zerolinecolor\":\"white\",\"gridwidth\":2}},\"shapedefaults\":{\"line\":{\"color\":\"#2a3f5f\"}},\"annotationdefaults\":{\"arrowcolor\":\"#2a3f5f\",\"arrowhead\":0,\"arrowwidth\":1},\"geo\":{\"bgcolor\":\"white\",\"landcolor\":\"#E5ECF6\",\"subunitcolor\":\"white\",\"showland\":true,\"showlakes\":true,\"lakecolor\":\"white\"},\"title\":{\"x\":0.05},\"mapbox\":{\"style\":\"light\"}}},\"xaxis\":{\"anchor\":\"y\",\"domain\":[0.0,1.0],\"title\":{\"text\":\"Type\"}},\"yaxis\":{\"anchor\":\"x\",\"domain\":[0.0,1.0],\"title\":{\"text\":\"Index\"}},\"coloraxis\":{\"colorbar\":{\"title\":{\"text\":\"Index\"}},\"colorscale\":[[0.0,\"#0d0887\"],[0.1111111111111111,\"#46039f\"],[0.2222222222222222,\"#7201a8\"],[0.3333333333333333,\"#9c179e\"],[0.4444444444444444,\"#bd3786\"],[0.5555555555555556,\"#d8576b\"],[0.6666666666666666,\"#ed7953\"],[0.7777777777777778,\"#fb9f3a\"],[0.8888888888888888,\"#fdca26\"],[1.0,\"#f0f921\"]]},\"legend\":{\"tracegroupgap\":0},\"title\":{\"text\":\"Expert Types of Exercises\"},\"barmode\":\"relative\"},                        {\"responsive\": true}                    ).then(function(){\n",
       "                            \n",
       "var gd = document.getElementById('9e3d0971-1eb4-4e76-9d83-700d01c936d6');\n",
       "var x = new MutationObserver(function (mutations, observer) {{\n",
       "        var display = window.getComputedStyle(gd).display;\n",
       "        if (!display || display === 'none') {{\n",
       "            console.log([gd, 'removed!']);\n",
       "            Plotly.purge(gd);\n",
       "            observer.disconnect();\n",
       "        }}\n",
       "}});\n",
       "\n",
       "// Listen for the removal of the full notebook cells\n",
       "var notebookContainer = gd.closest('#notebook-container');\n",
       "if (notebookContainer) {{\n",
       "    x.observe(notebookContainer, {childList: true});\n",
       "}}\n",
       "\n",
       "// Listen for the clearing of the current output cell\n",
       "var outputEl = gd.closest('.output');\n",
       "if (outputEl) {{\n",
       "    x.observe(outputEl, {childList: true});\n",
       "}}\n",
       "\n",
       "                        })                };                });            </script>        </div>"
      ]
     },
     "metadata": {},
     "output_type": "display_data"
    }
   ],
   "source": [
    "#group by type of exercise - intermediate\n",
    "expert_type = expert.groupby(['Type']).count()\n",
    "expert_type= expert_type.sort_values(by='Index')\n",
    "fig = px.bar(expert_type, x=expert_type.index, y='Index', color='Index', title='Expert Types of Exercises')\n",
    "fig.show()"
   ]
  },
  {
   "cell_type": "markdown",
   "id": "7e61d501",
   "metadata": {},
   "source": [
    "Whereares expert level athletes concentrate exclusively in strenght, plyometrics and olympic weightlifting. They tend to specialize and don't disperse their energy doing other types of exercises."
   ]
  },
  {
   "cell_type": "markdown",
   "id": "f7c41816",
   "metadata": {},
   "source": [
    "### Body Part"
   ]
  },
  {
   "cell_type": "markdown",
   "id": "8377578f",
   "metadata": {},
   "source": [
    "For our next analysis we are going to take a look into the use of equipment to efficiently train certain body parts."
   ]
  },
  {
   "cell_type": "code",
   "execution_count": 173,
   "id": "b4b02897",
   "metadata": {},
   "outputs": [
    {
     "data": {
      "application/vnd.plotly.v1+json": {
       "config": {
        "plotlyServerURL": "https://plot.ly"
       },
       "data": [
        {
         "alignmentgroup": "True",
         "hovertemplate": "BodyPart=%{x}<br>Index=%{y}<extra></extra>",
         "legendgroup": "",
         "marker": {
          "color": "peachpuff",
          "opacity": 0.5,
          "pattern": {
           "shape": ""
          }
         },
         "name": "",
         "offsetgroup": "",
         "orientation": "v",
         "showlegend": false,
         "textposition": "auto",
         "type": "bar",
         "x": [
          "Abdominals",
          "Abdominals",
          "Abdominals",
          "Abdominals",
          "Abdominals",
          "Abdominals",
          "Abdominals",
          "Abdominals",
          "Abdominals",
          "Abdominals",
          "Abdominals",
          "Abdominals",
          "Abdominals",
          "Abdominals",
          "Abdominals",
          "Abdominals",
          "Abdominals",
          "Abdominals",
          "Abdominals",
          "Abdominals",
          "Abdominals",
          "Abdominals",
          "Abdominals",
          "Abdominals",
          "Abdominals",
          "Abdominals",
          "Abdominals",
          "Abdominals",
          "Abdominals",
          "Abdominals",
          "Abdominals",
          "Abdominals",
          "Abdominals",
          "Abdominals",
          "Abdominals",
          "Abdominals",
          "Abdominals",
          "Abdominals",
          "Abdominals",
          "Abdominals",
          "Abdominals",
          "Abdominals",
          "Abdominals",
          "Abdominals",
          "Abdominals",
          "Abdominals",
          "Abdominals",
          "Abdominals",
          "Abdominals",
          "Abdominals",
          "Abdominals",
          "Abdominals",
          "Abdominals",
          "Abdominals",
          "Abdominals",
          "Abdominals",
          "Abdominals",
          "Abdominals",
          "Abdominals",
          "Abdominals",
          "Abdominals",
          "Abdominals",
          "Abdominals",
          "Abdominals",
          "Abdominals",
          "Abdominals",
          "Abdominals",
          "Abdominals",
          "Abdominals",
          "Abdominals",
          "Abdominals",
          "Abdominals",
          "Abdominals",
          "Abdominals",
          "Abdominals",
          "Abdominals",
          "Abdominals",
          "Abdominals",
          "Abdominals",
          "Abdominals",
          "Abdominals",
          "Abdominals",
          "Abdominals",
          "Abdominals",
          "Abdominals",
          "Abdominals",
          "Abdominals",
          "Abdominals",
          "Abdominals",
          "Abdominals",
          "Abdominals",
          "Abdominals",
          "Abdominals",
          "Abdominals",
          "Abdominals",
          "Abdominals",
          "Abdominals",
          "Abdominals",
          "Abdominals",
          "Abdominals",
          "Abdominals",
          "Abdominals",
          "Abdominals",
          "Abdominals",
          "Abdominals",
          "Abdominals",
          "Abdominals",
          "Abdominals",
          "Abdominals",
          "Abdominals",
          "Abdominals",
          "Abdominals",
          "Abdominals",
          "Abdominals",
          "Abdominals",
          "Abdominals",
          "Abdominals",
          "Abdominals",
          "Abdominals",
          "Abdominals",
          "Abdominals",
          "Abdominals",
          "Abdominals",
          "Abdominals",
          "Abdominals",
          "Abdominals",
          "Abdominals",
          "Abdominals",
          "Abdominals",
          "Abdominals",
          "Abdominals",
          "Abdominals",
          "Abdominals",
          "Abdominals",
          "Abdominals",
          "Abdominals",
          "Abdominals",
          "Abdominals",
          "Abdominals",
          "Abdominals",
          "Abdominals",
          "Abdominals",
          "Abdominals",
          "Abdominals",
          "Abdominals",
          "Abdominals",
          "Abdominals",
          "Abdominals",
          "Abdominals",
          "Abdominals",
          "Abdominals",
          "Abdominals",
          "Abdominals",
          "Abdominals",
          "Abdominals",
          "Abdominals",
          "Abdominals",
          "Abdominals",
          "Abdominals",
          "Abdominals",
          "Abdominals",
          "Abdominals",
          "Abdominals",
          "Abdominals",
          "Abdominals",
          "Abdominals",
          "Abdominals",
          "Abdominals",
          "Abdominals",
          "Abdominals",
          "Abdominals",
          "Abdominals",
          "Abdominals",
          "Abdominals",
          "Abdominals",
          "Abdominals",
          "Abdominals",
          "Abdominals",
          "Abdominals",
          "Abdominals",
          "Abdominals",
          "Abdominals",
          "Abdominals",
          "Abdominals",
          "Abdominals",
          "Abdominals",
          "Abdominals",
          "Abdominals",
          "Abdominals",
          "Abdominals",
          "Abdominals",
          "Abdominals",
          "Abdominals",
          "Abdominals",
          "Abdominals",
          "Abdominals",
          "Abdominals",
          "Abdominals",
          "Abdominals",
          "Abdominals",
          "Abdominals",
          "Abdominals",
          "Abdominals",
          "Abdominals",
          "Abdominals",
          "Abdominals",
          "Abdominals",
          "Abdominals",
          "Abdominals",
          "Abdominals",
          "Abdominals",
          "Abdominals",
          "Abdominals",
          "Abdominals",
          "Abdominals",
          "Abdominals",
          "Abdominals",
          "Abdominals",
          "Abdominals",
          "Abdominals",
          "Abdominals",
          "Abdominals",
          "Abdominals",
          "Abdominals",
          "Abdominals",
          "Abdominals",
          "Abdominals",
          "Abdominals",
          "Adductors",
          "Abductors",
          "Abductors",
          "Abductors",
          "Adductors",
          "Adductors",
          "Adductors",
          "Adductors",
          "Abductors",
          "Adductors",
          "Adductors",
          "Biceps",
          "Biceps",
          "Biceps",
          "Biceps",
          "Biceps",
          "Biceps",
          "Biceps",
          "Biceps",
          "Biceps",
          "Biceps",
          "Biceps",
          "Biceps",
          "Biceps",
          "Biceps",
          "Biceps",
          "Biceps",
          "Biceps",
          "Biceps",
          "Biceps",
          "Biceps",
          "Biceps",
          "Biceps",
          "Biceps",
          "Biceps",
          "Biceps",
          "Biceps",
          "Biceps",
          "Biceps",
          "Biceps",
          "Biceps",
          "Biceps",
          "Biceps",
          "Biceps",
          "Biceps",
          "Biceps",
          "Biceps",
          "Biceps",
          "Biceps",
          "Biceps",
          "Biceps",
          "Biceps",
          "Biceps",
          "Biceps",
          "Biceps",
          "Biceps",
          "Biceps",
          "Biceps",
          "Biceps",
          "Biceps",
          "Biceps",
          "Biceps",
          "Biceps",
          "Biceps",
          "Biceps",
          "Biceps",
          "Biceps",
          "Biceps",
          "Biceps",
          "Biceps",
          "Biceps",
          "Biceps",
          "Biceps",
          "Biceps",
          "Biceps",
          "Biceps",
          "Biceps",
          "Biceps",
          "Biceps",
          "Biceps",
          "Biceps",
          "Biceps",
          "Biceps",
          "Biceps",
          "Biceps",
          "Biceps",
          "Biceps",
          "Biceps",
          "Biceps",
          "Biceps",
          "Biceps",
          "Biceps",
          "Biceps",
          "Biceps",
          "Biceps",
          "Biceps",
          "Biceps",
          "Biceps",
          "Biceps",
          "Biceps",
          "Biceps",
          "Biceps",
          "Biceps",
          "Biceps",
          "Biceps",
          "Biceps",
          "Biceps",
          "Biceps",
          "Biceps",
          "Biceps",
          "Biceps",
          "Biceps",
          "Biceps",
          "Biceps",
          "Biceps",
          "Biceps",
          "Biceps",
          "Biceps",
          "Biceps",
          "Biceps",
          "Biceps",
          "Biceps",
          "Biceps",
          "Biceps",
          "Biceps",
          "Biceps",
          "Biceps",
          "Biceps",
          "Biceps",
          "Biceps",
          "Biceps",
          "Biceps",
          "Biceps",
          "Biceps",
          "Biceps",
          "Biceps",
          "Biceps",
          "Biceps",
          "Biceps",
          "Biceps",
          "Biceps",
          "Biceps",
          "Biceps",
          "Biceps",
          "Biceps",
          "Biceps",
          "Biceps",
          "Biceps",
          "Biceps",
          "Biceps",
          "Biceps",
          "Biceps",
          "Biceps",
          "Biceps",
          "Biceps",
          "Biceps",
          "Biceps",
          "Biceps",
          "Biceps",
          "Biceps",
          "Biceps",
          "Biceps",
          "Biceps",
          "Biceps",
          "Biceps",
          "Biceps",
          "Biceps",
          "Biceps",
          "Biceps",
          "Biceps",
          "Biceps",
          "Biceps",
          "Biceps",
          "Calves",
          "Calves",
          "Calves",
          "Calves",
          "Calves",
          "Calves",
          "Calves",
          "Calves",
          "Calves",
          "Calves",
          "Calves",
          "Calves",
          "Calves",
          "Calves",
          "Calves",
          "Calves",
          "Calves",
          "Calves",
          "Calves",
          "Calves",
          "Calves",
          "Calves",
          "Calves",
          "Calves",
          "Calves",
          "Calves",
          "Calves",
          "Calves",
          "Calves",
          "Calves",
          "Calves",
          "Calves",
          "Calves",
          "Calves",
          "Calves",
          "Calves",
          "Calves",
          "Calves",
          "Calves",
          "Chest",
          "Chest",
          "Chest",
          "Chest",
          "Chest",
          "Chest",
          "Chest",
          "Chest",
          "Chest",
          "Chest",
          "Chest",
          "Chest",
          "Chest",
          "Chest",
          "Chest",
          "Chest",
          "Chest",
          "Chest",
          "Chest",
          "Chest",
          "Chest",
          "Chest",
          "Chest",
          "Chest",
          "Chest",
          "Chest",
          "Chest",
          "Chest",
          "Chest",
          "Chest",
          "Chest",
          "Chest",
          "Chest",
          "Chest",
          "Chest",
          "Chest",
          "Chest",
          "Chest",
          "Chest",
          "Chest",
          "Chest",
          "Chest",
          "Chest",
          "Chest",
          "Chest",
          "Chest",
          "Chest",
          "Chest",
          "Chest",
          "Chest",
          "Chest",
          "Chest",
          "Chest",
          "Chest",
          "Chest",
          "Chest",
          "Chest",
          "Chest",
          "Chest",
          "Chest",
          "Chest",
          "Chest",
          "Chest",
          "Chest",
          "Chest",
          "Chest",
          "Chest",
          "Chest",
          "Chest",
          "Chest",
          "Chest",
          "Chest",
          "Chest",
          "Chest",
          "Chest",
          "Chest",
          "Chest",
          "Chest",
          "Chest",
          "Chest",
          "Chest",
          "Chest",
          "Chest",
          "Chest",
          "Chest",
          "Chest",
          "Chest",
          "Chest",
          "Chest",
          "Chest",
          "Chest",
          "Chest",
          "Chest",
          "Chest",
          "Chest",
          "Chest",
          "Chest",
          "Chest",
          "Chest",
          "Chest",
          "Chest",
          "Chest",
          "Chest",
          "Chest",
          "Chest",
          "Chest",
          "Chest",
          "Chest",
          "Chest",
          "Chest",
          "Chest",
          "Chest",
          "Chest",
          "Chest",
          "Chest",
          "Chest",
          "Chest",
          "Chest",
          "Chest",
          "Chest",
          "Chest",
          "Chest",
          "Chest",
          "Chest",
          "Chest",
          "Chest",
          "Chest",
          "Chest",
          "Chest",
          "Chest",
          "Chest",
          "Chest",
          "Chest",
          "Chest",
          "Chest",
          "Chest",
          "Chest",
          "Chest",
          "Chest",
          "Chest",
          "Chest",
          "Chest",
          "Chest",
          "Chest",
          "Chest",
          "Chest",
          "Chest",
          "Chest",
          "Chest",
          "Chest",
          "Chest",
          "Chest",
          "Chest",
          "Chest",
          "Chest",
          "Chest",
          "Chest",
          "Chest",
          "Chest",
          "Chest",
          "Chest",
          "Chest",
          "Chest",
          "Chest",
          "Chest",
          "Chest",
          "Chest",
          "Chest",
          "Chest",
          "Chest",
          "Chest",
          "Chest",
          "Chest",
          "Chest",
          "Forearms",
          "Forearms",
          "Forearms",
          "Forearms",
          "Forearms",
          "Forearms",
          "Forearms",
          "Forearms",
          "Forearms",
          "Forearms",
          "Forearms",
          "Forearms",
          "Forearms",
          "Forearms",
          "Forearms",
          "Forearms",
          "Forearms",
          "Forearms",
          "Forearms",
          "Forearms",
          "Forearms",
          "Forearms",
          "Forearms",
          "Forearms",
          "Forearms",
          "Forearms",
          "Forearms",
          "Forearms",
          "Forearms",
          "Forearms",
          "Glutes",
          "Glutes",
          "Glutes",
          "Glutes",
          "Glutes",
          "Glutes",
          "Glutes",
          "Glutes",
          "Glutes",
          "Glutes",
          "Glutes",
          "Glutes",
          "Glutes",
          "Glutes",
          "Glutes",
          "Glutes",
          "Glutes",
          "Glutes",
          "Glutes",
          "Glutes",
          "Glutes",
          "Glutes",
          "Glutes",
          "Glutes",
          "Glutes",
          "Glutes",
          "Glutes",
          "Hamstrings",
          "Hamstrings",
          "Hamstrings",
          "Hamstrings",
          "Hamstrings",
          "Hamstrings",
          "Hamstrings",
          "Hamstrings",
          "Hamstrings",
          "Hamstrings",
          "Hamstrings",
          "Hamstrings",
          "Hamstrings",
          "Hamstrings",
          "Hamstrings",
          "Hamstrings",
          "Hamstrings",
          "Hamstrings",
          "Hamstrings",
          "Hamstrings",
          "Hamstrings",
          "Hamstrings",
          "Hamstrings",
          "Hamstrings",
          "Hamstrings",
          "Hamstrings",
          "Hamstrings",
          "Hamstrings",
          "Hamstrings",
          "Hamstrings",
          "Hamstrings",
          "Hamstrings",
          "Hamstrings",
          "Hamstrings",
          "Hamstrings",
          "Hamstrings",
          "Hamstrings",
          "Hamstrings",
          "Hamstrings",
          "Hamstrings",
          "Hamstrings",
          "Hamstrings",
          "Hamstrings",
          "Hamstrings",
          "Hamstrings",
          "Hamstrings",
          "Hamstrings",
          "Hamstrings",
          "Hamstrings",
          "Hamstrings",
          "Hamstrings",
          "Hamstrings",
          "Hamstrings",
          "Hamstrings",
          "Hamstrings",
          "Hamstrings",
          "Hamstrings",
          "Hamstrings",
          "Hamstrings",
          "Hamstrings",
          "Hamstrings",
          "Hamstrings",
          "Hamstrings",
          "Hamstrings",
          "Hamstrings",
          "Hamstrings",
          "Hamstrings",
          "Hamstrings",
          "Hamstrings",
          "Hamstrings",
          "Hamstrings",
          "Hamstrings",
          "Hamstrings",
          "Hamstrings",
          "Hamstrings",
          "Hamstrings",
          "Hamstrings",
          "Hamstrings",
          "Hamstrings",
          "Hamstrings",
          "Hamstrings",
          "Hamstrings",
          "Hamstrings",
          "Hamstrings",
          "Hamstrings",
          "Hamstrings",
          "Lats",
          "Lats",
          "Lats",
          "Lats",
          "Lats",
          "Lats",
          "Lats",
          "Lats",
          "Lats",
          "Lats",
          "Lats",
          "Lats",
          "Lats",
          "Lats",
          "Lats",
          "Lats",
          "Lats",
          "Lats",
          "Lats",
          "Lats",
          "Lats",
          "Lats",
          "Lats",
          "Lats",
          "Lats",
          "Lats",
          "Lats",
          "Lats",
          "Lats",
          "Lats",
          "Lats",
          "Lats",
          "Lats",
          "Lats",
          "Lats",
          "Lats",
          "Lats",
          "Lats",
          "Lats",
          "Lats",
          "Lats",
          "Lats",
          "Lats",
          "Lats",
          "Lats",
          "Lats",
          "Lats",
          "Lats",
          "Lats",
          "Lats",
          "Lats",
          "Lats",
          "Lats",
          "Lats",
          "Lats",
          "Lats",
          "Lats",
          "Lats",
          "Lats",
          "Lats",
          "Lats",
          "Lats",
          "Lats",
          "Lats",
          "Lats",
          "Lats",
          "Lats",
          "Lats",
          "Lats",
          "Lats",
          "Lats",
          "Lats",
          "Lats",
          "Lats",
          "Lats",
          "Lats",
          "Lats",
          "Lats",
          "Lats",
          "Lats",
          "Lats",
          "Lats",
          "Lats",
          "Lats",
          "Lats",
          "Lats",
          "Lats",
          "Lats",
          "Lats",
          "Lats",
          "Lats",
          "Lats",
          "Lats",
          "Lats",
          "Lats",
          "Lats",
          "Lats",
          "Lats",
          "Lats",
          "Lats",
          "Lats",
          "Lower Back",
          "Lower Back",
          "Lower Back",
          "Lower Back",
          "Lower Back",
          "Lower Back",
          "Lower Back",
          "Lower Back",
          "Lower Back",
          "Lower Back",
          "Lower Back",
          "Lower Back",
          "Lower Back",
          "Lower Back",
          "Lower Back",
          "Lower Back",
          "Lower Back",
          "Lower Back",
          "Lower Back",
          "Lower Back",
          "Lower Back",
          "Lower Back",
          "Lower Back",
          "Lower Back",
          "Lower Back",
          "Lower Back",
          "Lower Back",
          "Lower Back",
          "Lower Back",
          "Lower Back",
          "Lower Back",
          "Lower Back",
          "Lower Back",
          "Lower Back",
          "Lower Back",
          "Lower Back",
          "Lower Back",
          "Lower Back",
          "Lower Back",
          "Lower Back",
          "Lower Back",
          "Lower Back",
          "Lower Back",
          "Lower Back",
          "Lower Back",
          "Lower Back",
          "Lower Back",
          "Lower Back",
          "Lower Back",
          "Lower Back",
          "Lower Back",
          "Lower Back",
          "Lower Back",
          "Lower Back",
          "Lower Back",
          "Lower Back",
          "Lower Back",
          "Lower Back",
          "Lower Back",
          "Lower Back",
          "Lower Back",
          "Lower Back",
          "Lower Back",
          "Lower Back",
          "Lower Back",
          "Lower Back",
          "Middle Back",
          "Middle Back",
          "Middle Back",
          "Middle Back",
          "Middle Back",
          "Middle Back",
          "Middle Back",
          "Middle Back",
          "Middle Back",
          "Middle Back",
          "Middle Back",
          "Middle Back",
          "Middle Back",
          "Middle Back",
          "Middle Back",
          "Middle Back",
          "Middle Back",
          "Middle Back",
          "Middle Back",
          "Middle Back",
          "Middle Back",
          "Middle Back",
          "Middle Back",
          "Middle Back",
          "Middle Back",
          "Middle Back",
          "Middle Back",
          "Middle Back",
          "Middle Back",
          "Middle Back",
          "Middle Back",
          "Middle Back",
          "Middle Back",
          "Middle Back",
          "Middle Back",
          "Middle Back",
          "Middle Back",
          "Middle Back",
          "Middle Back",
          "Middle Back",
          "Middle Back",
          "Middle Back",
          "Middle Back",
          "Middle Back",
          "Middle Back",
          "Middle Back",
          "Middle Back",
          "Middle Back",
          "Middle Back",
          "Middle Back",
          "Middle Back",
          "Middle Back",
          "Middle Back",
          "Middle Back",
          "Middle Back",
          "Middle Back",
          "Middle Back",
          "Middle Back",
          "Middle Back",
          "Middle Back",
          "Middle Back",
          "Middle Back",
          "Middle Back",
          "Middle Back",
          "Middle Back",
          "Middle Back",
          "Middle Back",
          "Middle Back",
          "Middle Back",
          "Middle Back",
          "Middle Back",
          "Middle Back",
          "Middle Back",
          "Middle Back",
          "Middle Back",
          "Middle Back",
          "Middle Back",
          "Middle Back",
          "Middle Back",
          "Middle Back",
          "Middle Back",
          "Middle Back",
          "Middle Back",
          "Middle Back",
          "Middle Back",
          "Middle Back",
          "Middle Back",
          "Middle Back",
          "Middle Back",
          "Middle Back",
          "Middle Back",
          "Middle Back",
          "Middle Back",
          "Middle Back",
          "Middle Back",
          "Middle Back",
          "Middle Back",
          "Middle Back",
          "Middle Back",
          "Middle Back",
          "Middle Back",
          "Middle Back",
          "Middle Back",
          "Middle Back",
          "Middle Back",
          "Middle Back",
          "Middle Back",
          "Traps",
          "Traps",
          "Traps",
          "Traps",
          "Traps",
          "Traps",
          "Traps",
          "Traps",
          "Traps",
          "Traps",
          "Traps",
          "Traps",
          "Traps",
          "Neck",
          "Neck",
          "Neck",
          "Traps",
          "Traps",
          "Traps",
          "Traps",
          "Traps",
          "Traps",
          "Traps",
          "Traps",
          "Traps",
          "Traps",
          "Traps",
          "Quadriceps",
          "Quadriceps",
          "Quadriceps",
          "Quadriceps",
          "Quadriceps",
          "Quadriceps",
          "Quadriceps",
          "Quadriceps",
          "Quadriceps",
          "Quadriceps",
          "Quadriceps",
          "Quadriceps",
          "Quadriceps",
          "Quadriceps",
          "Quadriceps",
          "Quadriceps",
          "Quadriceps",
          "Quadriceps",
          "Quadriceps",
          "Quadriceps",
          "Quadriceps",
          "Quadriceps",
          "Quadriceps",
          "Quadriceps",
          "Quadriceps",
          "Quadriceps",
          "Quadriceps",
          "Quadriceps",
          "Quadriceps",
          "Quadriceps",
          "Quadriceps",
          "Quadriceps",
          "Quadriceps",
          "Quadriceps",
          "Quadriceps",
          "Quadriceps",
          "Quadriceps",
          "Quadriceps",
          "Quadriceps",
          "Quadriceps",
          "Quadriceps",
          "Quadriceps",
          "Quadriceps",
          "Quadriceps",
          "Quadriceps",
          "Quadriceps",
          "Quadriceps",
          "Quadriceps",
          "Quadriceps",
          "Quadriceps",
          "Quadriceps",
          "Quadriceps",
          "Quadriceps",
          "Quadriceps",
          "Quadriceps",
          "Quadriceps",
          "Quadriceps",
          "Quadriceps",
          "Quadriceps",
          "Quadriceps",
          "Quadriceps",
          "Quadriceps",
          "Quadriceps",
          "Quadriceps",
          "Quadriceps",
          "Quadriceps",
          "Quadriceps",
          "Quadriceps",
          "Quadriceps",
          "Quadriceps",
          "Quadriceps",
          "Quadriceps",
          "Quadriceps",
          "Quadriceps",
          "Quadriceps",
          "Quadriceps",
          "Quadriceps",
          "Quadriceps",
          "Quadriceps",
          "Quadriceps",
          "Quadriceps",
          "Quadriceps",
          "Quadriceps",
          "Quadriceps",
          "Quadriceps",
          "Quadriceps",
          "Quadriceps",
          "Quadriceps",
          "Quadriceps",
          "Quadriceps",
          "Quadriceps",
          "Quadriceps",
          "Quadriceps",
          "Quadriceps",
          "Quadriceps",
          "Quadriceps",
          "Quadriceps",
          "Quadriceps",
          "Quadriceps",
          "Quadriceps",
          "Quadriceps",
          "Quadriceps",
          "Quadriceps",
          "Quadriceps",
          "Quadriceps",
          "Quadriceps",
          "Quadriceps",
          "Quadriceps",
          "Quadriceps",
          "Quadriceps",
          "Quadriceps",
          "Quadriceps",
          "Quadriceps",
          "Quadriceps",
          "Quadriceps",
          "Quadriceps",
          "Quadriceps",
          "Quadriceps",
          "Quadriceps",
          "Quadriceps",
          "Quadriceps",
          "Quadriceps",
          "Quadriceps",
          "Quadriceps",
          "Quadriceps",
          "Quadriceps",
          "Quadriceps",
          "Quadriceps",
          "Quadriceps",
          "Quadriceps",
          "Quadriceps",
          "Quadriceps",
          "Quadriceps",
          "Quadriceps",
          "Quadriceps",
          "Quadriceps",
          "Quadriceps",
          "Quadriceps",
          "Quadriceps",
          "Quadriceps",
          "Quadriceps",
          "Quadriceps",
          "Quadriceps",
          "Quadriceps",
          "Quadriceps",
          "Quadriceps",
          "Quadriceps",
          "Quadriceps",
          "Quadriceps",
          "Quadriceps",
          "Quadriceps",
          "Quadriceps",
          "Quadriceps",
          "Quadriceps",
          "Quadriceps",
          "Quadriceps",
          "Quadriceps",
          "Quadriceps",
          "Quadriceps",
          "Quadriceps",
          "Quadriceps",
          "Quadriceps",
          "Quadriceps",
          "Quadriceps",
          "Quadriceps",
          "Quadriceps",
          "Quadriceps",
          "Quadriceps",
          "Quadriceps",
          "Quadriceps",
          "Quadriceps",
          "Quadriceps",
          "Quadriceps",
          "Quadriceps",
          "Quadriceps",
          "Quadriceps",
          "Quadriceps",
          "Quadriceps",
          "Quadriceps",
          "Quadriceps",
          "Quadriceps",
          "Quadriceps",
          "Quadriceps",
          "Quadriceps",
          "Quadriceps",
          "Quadriceps",
          "Quadriceps",
          "Quadriceps",
          "Quadriceps",
          "Quadriceps",
          "Quadriceps",
          "Quadriceps",
          "Quadriceps",
          "Quadriceps",
          "Quadriceps",
          "Quadriceps",
          "Quadriceps",
          "Quadriceps",
          "Quadriceps",
          "Quadriceps",
          "Quadriceps",
          "Quadriceps",
          "Quadriceps",
          "Quadriceps",
          "Quadriceps",
          "Quadriceps",
          "Quadriceps",
          "Quadriceps",
          "Quadriceps",
          "Quadriceps",
          "Quadriceps",
          "Quadriceps",
          "Quadriceps",
          "Quadriceps",
          "Quadriceps",
          "Quadriceps",
          "Quadriceps",
          "Quadriceps",
          "Quadriceps",
          "Quadriceps",
          "Quadriceps",
          "Quadriceps",
          "Quadriceps",
          "Quadriceps",
          "Quadriceps",
          "Quadriceps",
          "Quadriceps",
          "Quadriceps",
          "Quadriceps",
          "Quadriceps",
          "Quadriceps",
          "Quadriceps",
          "Quadriceps",
          "Quadriceps",
          "Quadriceps",
          "Quadriceps",
          "Quadriceps",
          "Quadriceps",
          "Quadriceps",
          "Quadriceps",
          "Quadriceps",
          "Quadriceps",
          "Quadriceps",
          "Quadriceps",
          "Quadriceps",
          "Quadriceps",
          "Quadriceps",
          "Quadriceps",
          "Quadriceps",
          "Quadriceps",
          "Quadriceps",
          "Quadriceps",
          "Quadriceps",
          "Quadriceps",
          "Quadriceps",
          "Quadriceps",
          "Quadriceps",
          "Quadriceps",
          "Quadriceps",
          "Quadriceps",
          "Quadriceps",
          "Quadriceps",
          "Quadriceps",
          "Quadriceps",
          "Quadriceps",
          "Quadriceps",
          "Quadriceps",
          "Quadriceps",
          "Quadriceps",
          "Quadriceps",
          "Quadriceps",
          "Quadriceps",
          "Quadriceps",
          "Quadriceps",
          "Quadriceps",
          "Quadriceps",
          "Quadriceps",
          "Quadriceps",
          "Quadriceps",
          "Quadriceps",
          "Quadriceps",
          "Quadriceps",
          "Quadriceps",
          "Quadriceps",
          "Quadriceps",
          "Quadriceps",
          "Quadriceps",
          "Quadriceps",
          "Quadriceps",
          "Quadriceps",
          "Quadriceps",
          "Quadriceps",
          "Quadriceps",
          "Quadriceps",
          "Quadriceps",
          "Quadriceps",
          "Quadriceps",
          "Quadriceps",
          "Quadriceps",
          "Quadriceps",
          "Quadriceps",
          "Quadriceps",
          "Quadriceps",
          "Quadriceps",
          "Quadriceps",
          "Quadriceps",
          "Quadriceps",
          "Quadriceps",
          "Quadriceps",
          "Quadriceps",
          "Quadriceps",
          "Quadriceps",
          "Quadriceps",
          "Quadriceps",
          "Quadriceps",
          "Quadriceps",
          "Quadriceps",
          "Quadriceps",
          "Quadriceps",
          "Quadriceps",
          "Quadriceps",
          "Quadriceps",
          "Quadriceps",
          "Quadriceps",
          "Quadriceps",
          "Quadriceps",
          "Quadriceps",
          "Quadriceps",
          "Quadriceps",
          "Quadriceps",
          "Quadriceps",
          "Quadriceps",
          "Quadriceps",
          "Quadriceps",
          "Quadriceps",
          "Quadriceps",
          "Quadriceps",
          "Quadriceps",
          "Quadriceps",
          "Quadriceps",
          "Quadriceps",
          "Quadriceps",
          "Quadriceps",
          "Quadriceps",
          "Quadriceps",
          "Quadriceps",
          "Quadriceps",
          "Quadriceps",
          "Quadriceps",
          "Quadriceps",
          "Shoulders",
          "Shoulders",
          "Shoulders",
          "Shoulders",
          "Shoulders",
          "Shoulders",
          "Shoulders",
          "Shoulders",
          "Shoulders",
          "Shoulders",
          "Shoulders",
          "Shoulders",
          "Shoulders",
          "Shoulders",
          "Shoulders",
          "Shoulders",
          "Shoulders",
          "Shoulders",
          "Shoulders",
          "Shoulders",
          "Shoulders",
          "Shoulders",
          "Shoulders",
          "Shoulders",
          "Shoulders",
          "Shoulders",
          "Shoulders",
          "Shoulders",
          "Shoulders",
          "Shoulders",
          "Shoulders",
          "Shoulders",
          "Shoulders",
          "Shoulders",
          "Shoulders",
          "Shoulders",
          "Shoulders",
          "Shoulders",
          "Shoulders",
          "Shoulders",
          "Shoulders",
          "Shoulders",
          "Shoulders",
          "Shoulders",
          "Shoulders",
          "Shoulders",
          "Shoulders",
          "Shoulders",
          "Shoulders",
          "Shoulders",
          "Shoulders",
          "Shoulders",
          "Shoulders",
          "Shoulders",
          "Shoulders",
          "Shoulders",
          "Shoulders",
          "Shoulders",
          "Shoulders",
          "Shoulders",
          "Shoulders",
          "Shoulders",
          "Shoulders",
          "Shoulders",
          "Shoulders",
          "Shoulders",
          "Shoulders",
          "Shoulders",
          "Shoulders",
          "Shoulders",
          "Shoulders",
          "Shoulders",
          "Shoulders",
          "Shoulders",
          "Shoulders",
          "Shoulders",
          "Shoulders",
          "Shoulders",
          "Shoulders",
          "Shoulders",
          "Shoulders",
          "Shoulders",
          "Shoulders",
          "Shoulders",
          "Shoulders",
          "Shoulders",
          "Shoulders",
          "Shoulders",
          "Shoulders",
          "Shoulders",
          "Shoulders",
          "Shoulders",
          "Shoulders",
          "Shoulders",
          "Shoulders",
          "Shoulders",
          "Shoulders",
          "Shoulders",
          "Shoulders",
          "Shoulders",
          "Shoulders",
          "Shoulders",
          "Shoulders",
          "Shoulders",
          "Shoulders",
          "Shoulders",
          "Shoulders",
          "Shoulders",
          "Shoulders",
          "Shoulders",
          "Shoulders",
          "Shoulders",
          "Shoulders",
          "Shoulders",
          "Shoulders",
          "Shoulders",
          "Shoulders",
          "Shoulders",
          "Shoulders",
          "Shoulders",
          "Shoulders",
          "Shoulders",
          "Shoulders",
          "Shoulders",
          "Shoulders",
          "Shoulders",
          "Shoulders",
          "Shoulders",
          "Shoulders",
          "Shoulders",
          "Shoulders",
          "Shoulders",
          "Shoulders",
          "Shoulders",
          "Shoulders",
          "Shoulders",
          "Shoulders",
          "Shoulders",
          "Shoulders",
          "Shoulders",
          "Shoulders",
          "Shoulders",
          "Shoulders",
          "Shoulders",
          "Shoulders",
          "Shoulders",
          "Shoulders",
          "Shoulders",
          "Shoulders",
          "Shoulders",
          "Shoulders",
          "Shoulders",
          "Shoulders",
          "Shoulders",
          "Shoulders",
          "Shoulders",
          "Shoulders",
          "Shoulders",
          "Shoulders",
          "Shoulders",
          "Shoulders",
          "Shoulders",
          "Shoulders",
          "Shoulders",
          "Shoulders",
          "Shoulders",
          "Shoulders",
          "Shoulders",
          "Shoulders",
          "Shoulders",
          "Shoulders",
          "Shoulders",
          "Shoulders",
          "Shoulders",
          "Shoulders",
          "Shoulders",
          "Shoulders",
          "Shoulders",
          "Shoulders",
          "Shoulders",
          "Shoulders",
          "Shoulders",
          "Shoulders",
          "Shoulders",
          "Shoulders",
          "Shoulders",
          "Shoulders",
          "Shoulders",
          "Shoulders",
          "Shoulders",
          "Shoulders",
          "Shoulders",
          "Shoulders",
          "Shoulders",
          "Shoulders",
          "Shoulders",
          "Shoulders",
          "Shoulders",
          "Shoulders",
          "Shoulders",
          "Shoulders",
          "Shoulders",
          "Shoulders",
          "Shoulders",
          "Shoulders",
          "Shoulders",
          "Shoulders",
          "Shoulders",
          "Shoulders",
          "Shoulders",
          "Shoulders",
          "Shoulders",
          "Shoulders",
          "Shoulders",
          "Shoulders",
          "Shoulders",
          "Shoulders",
          "Shoulders",
          "Shoulders",
          "Shoulders",
          "Shoulders",
          "Shoulders",
          "Shoulders",
          "Shoulders",
          "Shoulders",
          "Shoulders",
          "Shoulders",
          "Shoulders",
          "Shoulders",
          "Shoulders",
          "Shoulders",
          "Shoulders",
          "Shoulders",
          "Shoulders",
          "Shoulders",
          "Shoulders",
          "Shoulders",
          "Shoulders",
          "Shoulders",
          "Shoulders",
          "Shoulders",
          "Shoulders",
          "Shoulders",
          "Shoulders",
          "Shoulders",
          "Shoulders",
          "Shoulders",
          "Shoulders",
          "Shoulders",
          "Shoulders",
          "Shoulders",
          "Shoulders",
          "Shoulders",
          "Shoulders",
          "Shoulders",
          "Shoulders",
          "Shoulders",
          "Shoulders",
          "Shoulders",
          "Shoulders",
          "Shoulders",
          "Shoulders",
          "Shoulders",
          "Shoulders",
          "Shoulders",
          "Shoulders",
          "Shoulders",
          "Shoulders",
          "Shoulders",
          "Shoulders",
          "Shoulders",
          "Shoulders",
          "Shoulders",
          "Shoulders",
          "Shoulders",
          "Shoulders",
          "Shoulders",
          "Shoulders",
          "Shoulders",
          "Shoulders",
          "Shoulders",
          "Shoulders",
          "Shoulders",
          "Shoulders",
          "Shoulders",
          "Shoulders",
          "Shoulders",
          "Shoulders",
          "Shoulders",
          "Shoulders",
          "Shoulders",
          "Shoulders",
          "Shoulders",
          "Shoulders",
          "Shoulders",
          "Shoulders",
          "Shoulders",
          "Shoulders",
          "Shoulders",
          "Shoulders",
          "Shoulders",
          "Shoulders",
          "Shoulders",
          "Shoulders",
          "Shoulders",
          "Shoulders",
          "Shoulders",
          "Shoulders",
          "Shoulders",
          "Triceps",
          "Triceps",
          "Triceps",
          "Triceps",
          "Triceps",
          "Triceps",
          "Triceps",
          "Triceps",
          "Triceps",
          "Triceps",
          "Triceps",
          "Triceps",
          "Triceps",
          "Triceps",
          "Triceps",
          "Triceps",
          "Triceps",
          "Triceps",
          "Triceps",
          "Triceps",
          "Triceps",
          "Triceps",
          "Triceps",
          "Triceps",
          "Triceps",
          "Triceps",
          "Triceps",
          "Triceps",
          "Triceps",
          "Triceps",
          "Triceps",
          "Triceps",
          "Triceps",
          "Triceps",
          "Triceps",
          "Triceps",
          "Triceps",
          "Triceps",
          "Triceps",
          "Triceps",
          "Triceps",
          "Triceps",
          "Triceps",
          "Triceps",
          "Triceps",
          "Triceps",
          "Triceps",
          "Triceps",
          "Triceps",
          "Triceps",
          "Triceps",
          "Triceps",
          "Triceps",
          "Triceps",
          "Triceps",
          "Triceps",
          "Triceps",
          "Triceps",
          "Triceps",
          "Triceps",
          "Triceps",
          "Triceps",
          "Triceps",
          "Triceps",
          "Triceps",
          "Triceps",
          "Triceps",
          "Triceps",
          "Triceps",
          "Triceps",
          "Triceps",
          "Triceps",
          "Triceps",
          "Triceps",
          "Triceps",
          "Triceps",
          "Triceps",
          "Triceps",
          "Triceps",
          "Triceps",
          "Triceps",
          "Triceps",
          "Triceps",
          "Triceps",
          "Triceps",
          "Triceps",
          "Triceps",
          "Triceps",
          "Triceps",
          "Triceps",
          "Triceps",
          "Triceps",
          "Triceps",
          "Triceps",
          "Triceps",
          "Triceps",
          "Triceps",
          "Triceps",
          "Triceps",
          "Triceps",
          "Triceps",
          "Triceps",
          "Triceps",
          "Triceps",
          "Triceps",
          "Triceps",
          "Triceps",
          "Triceps",
          "Triceps",
          "Triceps",
          "Triceps",
          "Triceps",
          "Triceps",
          "Triceps",
          "Triceps",
          "Triceps",
          "Triceps",
          "Triceps",
          "Triceps",
          "Triceps",
          "Triceps",
          "Triceps",
          "Triceps"
         ],
         "xaxis": "x",
         "y": [
          0,
          1,
          2,
          3,
          4,
          5,
          6,
          7,
          8,
          9,
          10,
          11,
          12,
          13,
          14,
          15,
          16,
          17,
          18,
          19,
          20,
          21,
          22,
          23,
          24,
          25,
          26,
          27,
          28,
          29,
          30,
          31,
          32,
          33,
          34,
          35,
          36,
          37,
          38,
          39,
          40,
          41,
          42,
          43,
          44,
          45,
          46,
          47,
          48,
          49,
          50,
          51,
          52,
          53,
          54,
          55,
          56,
          57,
          58,
          59,
          60,
          61,
          62,
          63,
          64,
          65,
          66,
          67,
          68,
          69,
          70,
          71,
          72,
          73,
          74,
          75,
          76,
          77,
          78,
          79,
          80,
          81,
          82,
          83,
          84,
          85,
          86,
          87,
          88,
          89,
          90,
          91,
          92,
          93,
          94,
          95,
          96,
          97,
          98,
          99,
          100,
          101,
          102,
          103,
          104,
          105,
          106,
          107,
          108,
          109,
          110,
          111,
          112,
          113,
          114,
          115,
          116,
          117,
          118,
          119,
          120,
          121,
          122,
          123,
          124,
          125,
          126,
          127,
          128,
          129,
          130,
          131,
          132,
          133,
          134,
          135,
          136,
          137,
          138,
          139,
          140,
          141,
          142,
          143,
          144,
          145,
          146,
          147,
          148,
          149,
          150,
          151,
          152,
          153,
          154,
          155,
          156,
          157,
          158,
          159,
          160,
          161,
          162,
          163,
          164,
          165,
          166,
          167,
          168,
          169,
          170,
          171,
          172,
          173,
          174,
          175,
          176,
          177,
          178,
          179,
          180,
          181,
          182,
          183,
          184,
          619,
          620,
          621,
          622,
          623,
          624,
          625,
          626,
          627,
          628,
          629,
          630,
          631,
          632,
          633,
          634,
          635,
          636,
          637,
          638,
          639,
          640,
          641,
          642,
          643,
          644,
          645,
          646,
          647,
          648,
          649,
          650,
          651,
          652,
          653,
          654,
          655,
          656,
          657,
          658,
          659,
          660,
          661,
          662,
          663,
          664,
          665,
          666,
          667,
          668,
          669,
          670,
          698,
          699,
          700,
          701,
          702,
          703,
          704,
          705,
          706,
          707,
          708,
          709,
          710,
          711,
          712,
          713,
          714,
          715,
          716,
          717,
          718,
          719,
          720,
          721,
          722,
          723,
          724,
          725,
          726,
          727,
          728,
          729,
          730,
          731,
          732,
          733,
          734,
          735,
          736,
          737,
          738,
          739,
          740,
          741,
          742,
          743,
          744,
          745,
          746,
          747,
          748,
          749,
          750,
          751,
          752,
          753,
          754,
          755,
          756,
          757,
          758,
          759,
          760,
          761,
          762,
          763,
          764,
          765,
          766,
          767,
          768,
          769,
          770,
          771,
          772,
          773,
          774,
          775,
          776,
          777,
          778,
          779,
          780,
          781,
          782,
          783,
          784,
          785,
          786,
          787,
          788,
          789,
          790,
          791,
          792,
          793,
          794,
          795,
          796,
          797,
          798,
          799,
          800,
          801,
          802,
          803,
          804,
          805,
          806,
          807,
          808,
          809,
          810,
          811,
          812,
          813,
          814,
          815,
          816,
          817,
          818,
          819,
          820,
          821,
          822,
          823,
          824,
          825,
          826,
          827,
          828,
          829,
          830,
          831,
          832,
          833,
          834,
          835,
          836,
          837,
          838,
          839,
          840,
          841,
          842,
          843,
          844,
          845,
          846,
          847,
          848,
          849,
          850,
          851,
          858,
          859,
          860,
          861,
          862,
          863,
          864,
          865,
          866,
          867,
          868,
          869,
          870,
          871,
          872,
          873,
          874,
          875,
          876,
          877,
          878,
          879,
          880,
          881,
          882,
          883,
          884,
          885,
          886,
          887,
          888,
          889,
          890,
          891,
          892,
          893,
          894,
          895,
          896,
          897,
          898,
          899,
          900,
          901,
          902,
          903,
          912,
          913,
          914,
          915,
          916,
          917,
          918,
          919,
          920,
          921,
          922,
          923,
          924,
          925,
          926,
          927,
          928,
          929,
          930,
          931,
          932,
          933,
          934,
          935,
          936,
          937,
          938,
          939,
          940,
          941,
          942,
          943,
          944,
          945,
          946,
          947,
          948,
          949,
          950,
          951,
          952,
          953,
          954,
          955,
          956,
          957,
          958,
          959,
          1048,
          1049,
          1050,
          1051,
          1052,
          1053,
          1054,
          1055,
          1056,
          1057,
          1058,
          1059,
          1060,
          1061,
          1062,
          1063,
          1064,
          1065,
          1066,
          1067,
          1068,
          1069,
          1070,
          1071,
          1072,
          1073,
          1074,
          1075,
          1076,
          1077,
          1078,
          1079,
          1080,
          1081,
          1082,
          1083,
          1084,
          1085,
          1086,
          1087,
          1088,
          1089,
          1090,
          1091,
          1092,
          1093,
          1094,
          1095,
          1096,
          1097,
          1098,
          1099,
          1100,
          1101,
          1102,
          1103,
          1104,
          1105,
          1106,
          1107,
          1108,
          1109,
          1110,
          1111,
          1112,
          1113,
          1114,
          1115,
          1116,
          1117,
          1118,
          1119,
          1120,
          1121,
          1122,
          1123,
          1124,
          1125,
          1126,
          1127,
          1128,
          1129,
          1130,
          1131,
          1132,
          1133,
          1134,
          1135,
          1136,
          1137,
          1138,
          1139,
          1140,
          1141,
          1142,
          1143,
          1144,
          1145,
          1146,
          1147,
          1148,
          1149,
          1150,
          1151,
          1152,
          1153,
          1154,
          1155,
          1156,
          1157,
          1158,
          1159,
          1160,
          1161,
          1162,
          1163,
          1164,
          1165,
          1166,
          1167,
          1168,
          1169,
          1170,
          1171,
          1172,
          1173,
          1174,
          1175,
          1176,
          1177,
          1178,
          1179,
          1180,
          1181,
          1182,
          1183,
          1184,
          1185,
          1186,
          1187,
          1188,
          1189,
          1190,
          1191,
          1192,
          1193,
          1194,
          1195,
          1196,
          1197,
          1198,
          1199,
          1200,
          1201,
          1202,
          1203,
          1204,
          1205,
          1207,
          1208,
          1209,
          1210,
          1211,
          1212,
          1213,
          1214,
          1215,
          1216,
          1217,
          1218,
          1219,
          1220,
          1221,
          1222,
          1223,
          1224,
          1225,
          1226,
          1227,
          1228,
          1229,
          1230,
          1231,
          1286,
          1287,
          1288,
          1289,
          1290,
          1291,
          1292,
          1293,
          1294,
          1295,
          1296,
          1297,
          1298,
          1299,
          1300,
          1301,
          1302,
          1303,
          1304,
          1305,
          1306,
          1307,
          1308,
          1309,
          1310,
          1311,
          1312,
          1313,
          1314,
          1315,
          1316,
          1317,
          1318,
          1319,
          1320,
          1321,
          1322,
          1323,
          1324,
          1325,
          1326,
          1327,
          1328,
          1329,
          1330,
          1331,
          1332,
          1333,
          1334,
          1335,
          1336,
          1337,
          1338,
          1339,
          1340,
          1341,
          1342,
          1343,
          1344,
          1345,
          1346,
          1347,
          1348,
          1349,
          1350,
          1351,
          1352,
          1353,
          1354,
          1355,
          1356,
          1357,
          1358,
          1359,
          1360,
          1361,
          1362,
          1363,
          1364,
          1365,
          1366,
          1402,
          1403,
          1404,
          1405,
          1406,
          1407,
          1408,
          1409,
          1410,
          1411,
          1412,
          1413,
          1414,
          1415,
          1416,
          1417,
          1418,
          1419,
          1420,
          1421,
          1422,
          1423,
          1424,
          1425,
          1426,
          1427,
          1428,
          1429,
          1430,
          1431,
          1432,
          1433,
          1434,
          1435,
          1436,
          1437,
          1438,
          1439,
          1440,
          1441,
          1442,
          1443,
          1444,
          1445,
          1446,
          1447,
          1448,
          1449,
          1450,
          1451,
          1452,
          1453,
          1454,
          1455,
          1456,
          1457,
          1458,
          1459,
          1460,
          1461,
          1462,
          1463,
          1464,
          1465,
          1466,
          1467,
          1468,
          1469,
          1470,
          1471,
          1472,
          1473,
          1474,
          1475,
          1476,
          1477,
          1478,
          1479,
          1480,
          1481,
          1482,
          1483,
          1484,
          1485,
          1486,
          1487,
          1488,
          1489,
          1490,
          1491,
          1492,
          1493,
          1494,
          1495,
          1496,
          1497,
          1498,
          1499,
          1500,
          1501,
          1502,
          1503,
          1504,
          1528,
          1529,
          1530,
          1531,
          1532,
          1533,
          1534,
          1535,
          1536,
          1537,
          1538,
          1539,
          1540,
          1541,
          1542,
          1543,
          1544,
          1545,
          1546,
          1547,
          1548,
          1549,
          1550,
          1551,
          1552,
          1553,
          1554,
          1555,
          1556,
          1557,
          1558,
          1559,
          1560,
          1561,
          1562,
          1563,
          1564,
          1565,
          1566,
          1567,
          1568,
          1569,
          1570,
          1571,
          1572,
          1573,
          1574,
          1575,
          1576,
          1577,
          1578,
          1579,
          1580,
          1581,
          1582,
          1583,
          1584,
          1585,
          1586,
          1587,
          1588,
          1589,
          1590,
          1591,
          1592,
          1624,
          1625,
          1626,
          1627,
          1628,
          1629,
          1630,
          1631,
          1632,
          1633,
          1634,
          1635,
          1636,
          1637,
          1638,
          1639,
          1640,
          1641,
          1642,
          1643,
          1644,
          1645,
          1646,
          1647,
          1648,
          1649,
          1650,
          1651,
          1652,
          1653,
          1654,
          1655,
          1656,
          1657,
          1658,
          1659,
          1660,
          1661,
          1662,
          1663,
          1664,
          1665,
          1666,
          1667,
          1668,
          1669,
          1670,
          1671,
          1672,
          1673,
          1674,
          1675,
          1676,
          1677,
          1678,
          1679,
          1680,
          1681,
          1682,
          1683,
          1684,
          1685,
          1686,
          1687,
          1688,
          1689,
          1690,
          1691,
          1692,
          1693,
          1694,
          1695,
          1696,
          1697,
          1698,
          1699,
          1700,
          1701,
          1702,
          1703,
          1704,
          1705,
          1706,
          1707,
          1708,
          1709,
          1710,
          1711,
          1712,
          1713,
          1714,
          1715,
          1716,
          1717,
          1718,
          1719,
          1720,
          1721,
          1722,
          1723,
          1724,
          1725,
          1726,
          1727,
          1728,
          1729,
          1730,
          1731,
          1732,
          1733,
          1734,
          1735,
          1736,
          1748,
          1749,
          1750,
          1751,
          1752,
          1753,
          1754,
          1755,
          1756,
          1757,
          1758,
          1759,
          1760,
          1761,
          1762,
          1763,
          1764,
          1765,
          1766,
          1767,
          1768,
          1769,
          1770,
          1771,
          1772,
          1773,
          1774,
          1780,
          1781,
          1782,
          1783,
          1784,
          1785,
          1786,
          1787,
          1788,
          1789,
          1790,
          1791,
          1792,
          1793,
          1794,
          1795,
          1796,
          1797,
          1798,
          1799,
          1800,
          1801,
          1802,
          1803,
          1804,
          1805,
          1806,
          1807,
          1808,
          1809,
          1810,
          1811,
          1812,
          1813,
          1814,
          1815,
          1816,
          1817,
          1818,
          1819,
          1820,
          1821,
          1822,
          1823,
          1824,
          1825,
          1826,
          1827,
          1828,
          1829,
          1830,
          1831,
          1832,
          1833,
          1834,
          1835,
          1836,
          1837,
          1838,
          1839,
          1840,
          1841,
          1842,
          1843,
          1844,
          1845,
          1846,
          1847,
          1848,
          1849,
          1850,
          1851,
          1852,
          1853,
          1854,
          1855,
          1856,
          1857,
          1858,
          1859,
          1860,
          1861,
          1862,
          1863,
          1864,
          1865,
          1866,
          1867,
          1868,
          1869,
          1870,
          1871,
          1872,
          1873,
          1874,
          1875,
          1876,
          1877,
          1878,
          1879,
          1880,
          1881,
          1882,
          1883,
          1884,
          1885,
          1886,
          1887,
          1888,
          1889,
          1890,
          1891,
          1892,
          1893,
          1894,
          1895,
          1896,
          1897,
          1898,
          1899,
          1900,
          1901,
          1902,
          1903,
          1904,
          1905,
          1906,
          1907,
          1908,
          1909,
          1910,
          1911,
          1912,
          1913,
          1914,
          1915,
          1916,
          1917,
          1918,
          1919,
          1920,
          1921,
          1922,
          1923,
          1924,
          1925,
          1926,
          1927,
          1928,
          1929,
          1930,
          1931,
          1932,
          1933,
          1934,
          1935,
          1936,
          1937,
          1938,
          1939,
          1940,
          1941,
          1942,
          1943,
          1944,
          1945,
          1946,
          1947,
          1948,
          1949,
          1950,
          1951,
          1952,
          1953,
          1954,
          1955,
          1956,
          1957,
          1958,
          1959,
          1960,
          1961,
          1962,
          1963,
          1964,
          1965,
          1966,
          1967,
          1968,
          1969,
          1970,
          1971,
          1972,
          1973,
          1974,
          1975,
          1976,
          1977,
          1978,
          1979,
          1980,
          1981,
          1982,
          1983,
          1984,
          1985,
          1986,
          1987,
          1988,
          1989,
          1990,
          1991,
          1992,
          1993,
          1994,
          1995,
          1996,
          1997,
          1998,
          1999,
          2000,
          2001,
          2002,
          2003,
          2004,
          2005,
          2006,
          2007,
          2008,
          2009,
          2010,
          2011,
          2012,
          2013,
          2014,
          2015,
          2016,
          2017,
          2018,
          2019,
          2020,
          2021,
          2022,
          2023,
          2024,
          2025,
          2026,
          2027,
          2028,
          2029,
          2030,
          2031,
          2032,
          2033,
          2034,
          2035,
          2036,
          2037,
          2038,
          2039,
          2040,
          2041,
          2042,
          2043,
          2044,
          2045,
          2046,
          2047,
          2048,
          2049,
          2050,
          2051,
          2052,
          2053,
          2054,
          2055,
          2056,
          2057,
          2058,
          2059,
          2060,
          2061,
          2062,
          2063,
          2064,
          2065,
          2066,
          2067,
          2068,
          2069,
          2070,
          2071,
          2072,
          2073,
          2074,
          2075,
          2076,
          2077,
          2078,
          2079,
          2080,
          2081,
          2082,
          2083,
          2084,
          2085,
          2086,
          2087,
          2088,
          2089,
          2090,
          2091,
          2092,
          2093,
          2094,
          2095,
          2096,
          2097,
          2098,
          2099,
          2100,
          2101,
          2102,
          2103,
          2104,
          2105,
          2106,
          2107,
          2108,
          2109,
          2110,
          2111,
          2112,
          2113,
          2114,
          2115,
          2116,
          2117,
          2414,
          2415,
          2416,
          2417,
          2418,
          2419,
          2420,
          2421,
          2422,
          2423,
          2424,
          2425,
          2426,
          2427,
          2428,
          2429,
          2430,
          2431,
          2432,
          2433,
          2434,
          2435,
          2436,
          2437,
          2438,
          2439,
          2440,
          2441,
          2442,
          2443,
          2444,
          2445,
          2446,
          2447,
          2448,
          2449,
          2450,
          2451,
          2452,
          2453,
          2454,
          2455,
          2456,
          2457,
          2458,
          2459,
          2460,
          2461,
          2462,
          2463,
          2464,
          2465,
          2466,
          2467,
          2468,
          2469,
          2470,
          2471,
          2472,
          2473,
          2474,
          2475,
          2476,
          2477,
          2478,
          2479,
          2480,
          2481,
          2482,
          2483,
          2484,
          2485,
          2486,
          2487,
          2488,
          2489,
          2490,
          2491,
          2492,
          2493,
          2494,
          2495,
          2496,
          2497,
          2498,
          2499,
          2500,
          2501,
          2502,
          2503,
          2504,
          2505,
          2506,
          2507,
          2508,
          2509,
          2510,
          2511,
          2512,
          2513,
          2514,
          2515,
          2516,
          2517,
          2518,
          2519,
          2520,
          2521,
          2522,
          2523,
          2524,
          2525,
          2526,
          2527,
          2528,
          2529,
          2530,
          2531,
          2532,
          2533,
          2534,
          2535,
          2536,
          2537,
          2538,
          2539,
          2540,
          2541,
          2542,
          2543,
          2544,
          2545,
          2546,
          2547,
          2548,
          2549,
          2550,
          2551,
          2552,
          2553,
          2554,
          2555,
          2556,
          2557,
          2558,
          2559,
          2560,
          2561,
          2562,
          2563,
          2564,
          2565,
          2566,
          2567,
          2568,
          2569,
          2570,
          2571,
          2572,
          2573,
          2574,
          2575,
          2576,
          2577,
          2578,
          2579,
          2580,
          2581,
          2582,
          2583,
          2584,
          2585,
          2586,
          2587,
          2588,
          2589,
          2590,
          2591,
          2592,
          2593,
          2594,
          2595,
          2596,
          2597,
          2598,
          2599,
          2600,
          2601,
          2602,
          2603,
          2604,
          2605,
          2606,
          2607,
          2608,
          2609,
          2610,
          2611,
          2612,
          2613,
          2614,
          2615,
          2616,
          2617,
          2618,
          2619,
          2620,
          2621,
          2622,
          2623,
          2624,
          2625,
          2626,
          2627,
          2628,
          2629,
          2630,
          2631,
          2632,
          2633,
          2634,
          2635,
          2636,
          2637,
          2638,
          2639,
          2640,
          2641,
          2642,
          2643,
          2644,
          2645,
          2646,
          2647,
          2648,
          2649,
          2650,
          2651,
          2652,
          2653,
          2654,
          2655,
          2656,
          2657,
          2658,
          2659,
          2660,
          2661,
          2662,
          2663,
          2664,
          2665,
          2666,
          2667,
          2668,
          2669,
          2670,
          2671,
          2672,
          2673,
          2674,
          2675,
          2676,
          2677,
          2678,
          2679,
          2680,
          2681,
          2682,
          2683,
          2684,
          2685,
          2686,
          2687,
          2688,
          2689,
          2690,
          2691,
          2692,
          2693,
          2694,
          2695,
          2696,
          2697,
          2698,
          2699,
          2700,
          2701,
          2702,
          2703,
          2704,
          2705,
          2706,
          2707,
          2708,
          2709,
          2710,
          2711,
          2712,
          2713,
          2714,
          2715,
          2716,
          2717,
          2718,
          2719,
          2720,
          2721,
          2722,
          2723,
          2724,
          2725,
          2757,
          2758,
          2759,
          2760,
          2761,
          2762,
          2763,
          2764,
          2765,
          2766,
          2767,
          2768,
          2769,
          2770,
          2771,
          2772,
          2773,
          2774,
          2775,
          2776,
          2777,
          2778,
          2779,
          2780,
          2781,
          2782,
          2783,
          2784,
          2785,
          2786,
          2787,
          2788,
          2789,
          2790,
          2791,
          2792,
          2793,
          2794,
          2795,
          2796,
          2797,
          2798,
          2799,
          2800,
          2801,
          2802,
          2803,
          2804,
          2805,
          2806,
          2807,
          2808,
          2809,
          2810,
          2811,
          2812,
          2813,
          2814,
          2815,
          2816,
          2817,
          2818,
          2819,
          2820,
          2821,
          2822,
          2823,
          2824,
          2825,
          2826,
          2827,
          2828,
          2829,
          2830,
          2831,
          2832,
          2833,
          2834,
          2835,
          2836,
          2837,
          2838,
          2839,
          2840,
          2841,
          2842,
          2843,
          2844,
          2845,
          2846,
          2847,
          2848,
          2849,
          2850,
          2851,
          2852,
          2853,
          2854,
          2855,
          2856,
          2857,
          2858,
          2859,
          2860,
          2861,
          2862,
          2863,
          2864,
          2865,
          2866,
          2867,
          2868,
          2869,
          2870,
          2871,
          2872,
          2873,
          2874,
          2875,
          2876,
          2877,
          2878,
          2879,
          2880,
          2881,
          2910,
          2911,
          2912,
          2913,
          2914,
          2915,
          2916,
          2917
         ],
         "yaxis": "y"
        }
       ],
       "layout": {
        "autosize": true,
        "barmode": "overlay",
        "legend": {
         "tracegroupgap": 0
        },
        "template": {
         "data": {
          "bar": [
           {
            "error_x": {
             "color": "#2a3f5f"
            },
            "error_y": {
             "color": "#2a3f5f"
            },
            "marker": {
             "line": {
              "color": "#E5ECF6",
              "width": 0.5
             },
             "pattern": {
              "fillmode": "overlay",
              "size": 10,
              "solidity": 0.2
             }
            },
            "type": "bar"
           }
          ],
          "barpolar": [
           {
            "marker": {
             "line": {
              "color": "#E5ECF6",
              "width": 0.5
             },
             "pattern": {
              "fillmode": "overlay",
              "size": 10,
              "solidity": 0.2
             }
            },
            "type": "barpolar"
           }
          ],
          "carpet": [
           {
            "aaxis": {
             "endlinecolor": "#2a3f5f",
             "gridcolor": "white",
             "linecolor": "white",
             "minorgridcolor": "white",
             "startlinecolor": "#2a3f5f"
            },
            "baxis": {
             "endlinecolor": "#2a3f5f",
             "gridcolor": "white",
             "linecolor": "white",
             "minorgridcolor": "white",
             "startlinecolor": "#2a3f5f"
            },
            "type": "carpet"
           }
          ],
          "choropleth": [
           {
            "colorbar": {
             "outlinewidth": 0,
             "ticks": ""
            },
            "type": "choropleth"
           }
          ],
          "contour": [
           {
            "colorbar": {
             "outlinewidth": 0,
             "ticks": ""
            },
            "colorscale": [
             [
              0,
              "#0d0887"
             ],
             [
              0.1111111111111111,
              "#46039f"
             ],
             [
              0.2222222222222222,
              "#7201a8"
             ],
             [
              0.3333333333333333,
              "#9c179e"
             ],
             [
              0.4444444444444444,
              "#bd3786"
             ],
             [
              0.5555555555555556,
              "#d8576b"
             ],
             [
              0.6666666666666666,
              "#ed7953"
             ],
             [
              0.7777777777777778,
              "#fb9f3a"
             ],
             [
              0.8888888888888888,
              "#fdca26"
             ],
             [
              1,
              "#f0f921"
             ]
            ],
            "type": "contour"
           }
          ],
          "contourcarpet": [
           {
            "colorbar": {
             "outlinewidth": 0,
             "ticks": ""
            },
            "type": "contourcarpet"
           }
          ],
          "heatmap": [
           {
            "colorbar": {
             "outlinewidth": 0,
             "ticks": ""
            },
            "colorscale": [
             [
              0,
              "#0d0887"
             ],
             [
              0.1111111111111111,
              "#46039f"
             ],
             [
              0.2222222222222222,
              "#7201a8"
             ],
             [
              0.3333333333333333,
              "#9c179e"
             ],
             [
              0.4444444444444444,
              "#bd3786"
             ],
             [
              0.5555555555555556,
              "#d8576b"
             ],
             [
              0.6666666666666666,
              "#ed7953"
             ],
             [
              0.7777777777777778,
              "#fb9f3a"
             ],
             [
              0.8888888888888888,
              "#fdca26"
             ],
             [
              1,
              "#f0f921"
             ]
            ],
            "type": "heatmap"
           }
          ],
          "heatmapgl": [
           {
            "colorbar": {
             "outlinewidth": 0,
             "ticks": ""
            },
            "colorscale": [
             [
              0,
              "#0d0887"
             ],
             [
              0.1111111111111111,
              "#46039f"
             ],
             [
              0.2222222222222222,
              "#7201a8"
             ],
             [
              0.3333333333333333,
              "#9c179e"
             ],
             [
              0.4444444444444444,
              "#bd3786"
             ],
             [
              0.5555555555555556,
              "#d8576b"
             ],
             [
              0.6666666666666666,
              "#ed7953"
             ],
             [
              0.7777777777777778,
              "#fb9f3a"
             ],
             [
              0.8888888888888888,
              "#fdca26"
             ],
             [
              1,
              "#f0f921"
             ]
            ],
            "type": "heatmapgl"
           }
          ],
          "histogram": [
           {
            "marker": {
             "pattern": {
              "fillmode": "overlay",
              "size": 10,
              "solidity": 0.2
             }
            },
            "type": "histogram"
           }
          ],
          "histogram2d": [
           {
            "colorbar": {
             "outlinewidth": 0,
             "ticks": ""
            },
            "colorscale": [
             [
              0,
              "#0d0887"
             ],
             [
              0.1111111111111111,
              "#46039f"
             ],
             [
              0.2222222222222222,
              "#7201a8"
             ],
             [
              0.3333333333333333,
              "#9c179e"
             ],
             [
              0.4444444444444444,
              "#bd3786"
             ],
             [
              0.5555555555555556,
              "#d8576b"
             ],
             [
              0.6666666666666666,
              "#ed7953"
             ],
             [
              0.7777777777777778,
              "#fb9f3a"
             ],
             [
              0.8888888888888888,
              "#fdca26"
             ],
             [
              1,
              "#f0f921"
             ]
            ],
            "type": "histogram2d"
           }
          ],
          "histogram2dcontour": [
           {
            "colorbar": {
             "outlinewidth": 0,
             "ticks": ""
            },
            "colorscale": [
             [
              0,
              "#0d0887"
             ],
             [
              0.1111111111111111,
              "#46039f"
             ],
             [
              0.2222222222222222,
              "#7201a8"
             ],
             [
              0.3333333333333333,
              "#9c179e"
             ],
             [
              0.4444444444444444,
              "#bd3786"
             ],
             [
              0.5555555555555556,
              "#d8576b"
             ],
             [
              0.6666666666666666,
              "#ed7953"
             ],
             [
              0.7777777777777778,
              "#fb9f3a"
             ],
             [
              0.8888888888888888,
              "#fdca26"
             ],
             [
              1,
              "#f0f921"
             ]
            ],
            "type": "histogram2dcontour"
           }
          ],
          "mesh3d": [
           {
            "colorbar": {
             "outlinewidth": 0,
             "ticks": ""
            },
            "type": "mesh3d"
           }
          ],
          "parcoords": [
           {
            "line": {
             "colorbar": {
              "outlinewidth": 0,
              "ticks": ""
             }
            },
            "type": "parcoords"
           }
          ],
          "pie": [
           {
            "automargin": true,
            "type": "pie"
           }
          ],
          "scatter": [
           {
            "fillpattern": {
             "fillmode": "overlay",
             "size": 10,
             "solidity": 0.2
            },
            "type": "scatter"
           }
          ],
          "scatter3d": [
           {
            "line": {
             "colorbar": {
              "outlinewidth": 0,
              "ticks": ""
             }
            },
            "marker": {
             "colorbar": {
              "outlinewidth": 0,
              "ticks": ""
             }
            },
            "type": "scatter3d"
           }
          ],
          "scattercarpet": [
           {
            "marker": {
             "colorbar": {
              "outlinewidth": 0,
              "ticks": ""
             }
            },
            "type": "scattercarpet"
           }
          ],
          "scattergeo": [
           {
            "marker": {
             "colorbar": {
              "outlinewidth": 0,
              "ticks": ""
             }
            },
            "type": "scattergeo"
           }
          ],
          "scattergl": [
           {
            "marker": {
             "colorbar": {
              "outlinewidth": 0,
              "ticks": ""
             }
            },
            "type": "scattergl"
           }
          ],
          "scattermapbox": [
           {
            "marker": {
             "colorbar": {
              "outlinewidth": 0,
              "ticks": ""
             }
            },
            "type": "scattermapbox"
           }
          ],
          "scatterpolar": [
           {
            "marker": {
             "colorbar": {
              "outlinewidth": 0,
              "ticks": ""
             }
            },
            "type": "scatterpolar"
           }
          ],
          "scatterpolargl": [
           {
            "marker": {
             "colorbar": {
              "outlinewidth": 0,
              "ticks": ""
             }
            },
            "type": "scatterpolargl"
           }
          ],
          "scatterternary": [
           {
            "marker": {
             "colorbar": {
              "outlinewidth": 0,
              "ticks": ""
             }
            },
            "type": "scatterternary"
           }
          ],
          "surface": [
           {
            "colorbar": {
             "outlinewidth": 0,
             "ticks": ""
            },
            "colorscale": [
             [
              0,
              "#0d0887"
             ],
             [
              0.1111111111111111,
              "#46039f"
             ],
             [
              0.2222222222222222,
              "#7201a8"
             ],
             [
              0.3333333333333333,
              "#9c179e"
             ],
             [
              0.4444444444444444,
              "#bd3786"
             ],
             [
              0.5555555555555556,
              "#d8576b"
             ],
             [
              0.6666666666666666,
              "#ed7953"
             ],
             [
              0.7777777777777778,
              "#fb9f3a"
             ],
             [
              0.8888888888888888,
              "#fdca26"
             ],
             [
              1,
              "#f0f921"
             ]
            ],
            "type": "surface"
           }
          ],
          "table": [
           {
            "cells": {
             "fill": {
              "color": "#EBF0F8"
             },
             "line": {
              "color": "white"
             }
            },
            "header": {
             "fill": {
              "color": "#C8D4E3"
             },
             "line": {
              "color": "white"
             }
            },
            "type": "table"
           }
          ]
         },
         "layout": {
          "annotationdefaults": {
           "arrowcolor": "#2a3f5f",
           "arrowhead": 0,
           "arrowwidth": 1
          },
          "autotypenumbers": "strict",
          "coloraxis": {
           "colorbar": {
            "outlinewidth": 0,
            "ticks": ""
           }
          },
          "colorscale": {
           "diverging": [
            [
             0,
             "#8e0152"
            ],
            [
             0.1,
             "#c51b7d"
            ],
            [
             0.2,
             "#de77ae"
            ],
            [
             0.3,
             "#f1b6da"
            ],
            [
             0.4,
             "#fde0ef"
            ],
            [
             0.5,
             "#f7f7f7"
            ],
            [
             0.6,
             "#e6f5d0"
            ],
            [
             0.7,
             "#b8e186"
            ],
            [
             0.8,
             "#7fbc41"
            ],
            [
             0.9,
             "#4d9221"
            ],
            [
             1,
             "#276419"
            ]
           ],
           "sequential": [
            [
             0,
             "#0d0887"
            ],
            [
             0.1111111111111111,
             "#46039f"
            ],
            [
             0.2222222222222222,
             "#7201a8"
            ],
            [
             0.3333333333333333,
             "#9c179e"
            ],
            [
             0.4444444444444444,
             "#bd3786"
            ],
            [
             0.5555555555555556,
             "#d8576b"
            ],
            [
             0.6666666666666666,
             "#ed7953"
            ],
            [
             0.7777777777777778,
             "#fb9f3a"
            ],
            [
             0.8888888888888888,
             "#fdca26"
            ],
            [
             1,
             "#f0f921"
            ]
           ],
           "sequentialminus": [
            [
             0,
             "#0d0887"
            ],
            [
             0.1111111111111111,
             "#46039f"
            ],
            [
             0.2222222222222222,
             "#7201a8"
            ],
            [
             0.3333333333333333,
             "#9c179e"
            ],
            [
             0.4444444444444444,
             "#bd3786"
            ],
            [
             0.5555555555555556,
             "#d8576b"
            ],
            [
             0.6666666666666666,
             "#ed7953"
            ],
            [
             0.7777777777777778,
             "#fb9f3a"
            ],
            [
             0.8888888888888888,
             "#fdca26"
            ],
            [
             1,
             "#f0f921"
            ]
           ]
          },
          "colorway": [
           "#636efa",
           "#EF553B",
           "#00cc96",
           "#ab63fa",
           "#FFA15A",
           "#19d3f3",
           "#FF6692",
           "#B6E880",
           "#FF97FF",
           "#FECB52"
          ],
          "font": {
           "color": "#2a3f5f"
          },
          "geo": {
           "bgcolor": "white",
           "lakecolor": "white",
           "landcolor": "#E5ECF6",
           "showlakes": true,
           "showland": true,
           "subunitcolor": "white"
          },
          "hoverlabel": {
           "align": "left"
          },
          "hovermode": "closest",
          "mapbox": {
           "style": "light"
          },
          "paper_bgcolor": "white",
          "plot_bgcolor": "#E5ECF6",
          "polar": {
           "angularaxis": {
            "gridcolor": "white",
            "linecolor": "white",
            "ticks": ""
           },
           "bgcolor": "#E5ECF6",
           "radialaxis": {
            "gridcolor": "white",
            "linecolor": "white",
            "ticks": ""
           }
          },
          "scene": {
           "xaxis": {
            "backgroundcolor": "#E5ECF6",
            "gridcolor": "white",
            "gridwidth": 2,
            "linecolor": "white",
            "showbackground": true,
            "ticks": "",
            "zerolinecolor": "white"
           },
           "yaxis": {
            "backgroundcolor": "#E5ECF6",
            "gridcolor": "white",
            "gridwidth": 2,
            "linecolor": "white",
            "showbackground": true,
            "ticks": "",
            "zerolinecolor": "white"
           },
           "zaxis": {
            "backgroundcolor": "#E5ECF6",
            "gridcolor": "white",
            "gridwidth": 2,
            "linecolor": "white",
            "showbackground": true,
            "ticks": "",
            "zerolinecolor": "white"
           }
          },
          "shapedefaults": {
           "line": {
            "color": "#2a3f5f"
           }
          },
          "ternary": {
           "aaxis": {
            "gridcolor": "white",
            "linecolor": "white",
            "ticks": ""
           },
           "baxis": {
            "gridcolor": "white",
            "linecolor": "white",
            "ticks": ""
           },
           "bgcolor": "#E5ECF6",
           "caxis": {
            "gridcolor": "white",
            "linecolor": "white",
            "ticks": ""
           }
          },
          "title": {
           "x": 0.05
          },
          "xaxis": {
           "automargin": true,
           "gridcolor": "white",
           "linecolor": "white",
           "ticks": "",
           "title": {
            "standoff": 15
           },
           "zerolinecolor": "white",
           "zerolinewidth": 2
          },
          "yaxis": {
           "automargin": true,
           "gridcolor": "white",
           "linecolor": "white",
           "ticks": "",
           "title": {
            "standoff": 15
           },
           "zerolinecolor": "white",
           "zerolinewidth": 2
          }
         }
        },
        "title": {
         "text": "Body Parts with most use of Equipment"
        },
        "xaxis": {
         "anchor": "y",
         "autorange": true,
         "domain": [
          0,
          1
         ],
         "range": [
          -0.5,
          16.5
         ],
         "title": {
          "text": "BodyPart"
         },
         "type": "category"
        },
        "yaxis": {
         "anchor": "x",
         "autorange": true,
         "domain": [
          0,
          1
         ],
         "range": [
          0,
          3070.5263157894738
         ],
         "title": {
          "text": "Index"
         },
         "type": "linear"
        }
       }
      },
      "image/png": "[encoded data removed]",
      "text/html": [
       "<div>                            <div id=\"d317bd30-5c1e-4971-a36e-8ff2c268be6f\" class=\"plotly-graph-div\" style=\"height:525px; width:100%;\"></div>            <script type=\"text/javascript\">                require([\"plotly\"], function(Plotly) {                    window.PLOTLYENV=window.PLOTLYENV || {};                                    if (document.getElementById(\"d317bd30-5c1e-4971-a36e-8ff2c268be6f\")) {                    Plotly.newPlot(                        \"d317bd30-5c1e-4971-a36e-8ff2c268be6f\",                        [{\"alignmentgroup\":\"True\",\"hovertemplate\":\"BodyPart=%{x}\\u003cbr\\u003eIndex=%{y}\\u003cextra\\u003e\\u003c\\u002fextra\\u003e\",\"legendgroup\":\"\",\"marker\":{\"color\":\"peachpuff\",\"opacity\":0.5,\"pattern\":{\"shape\":\"\"}},\"name\":\"\",\"offsetgroup\":\"\",\"orientation\":\"v\",\"showlegend\":false,\"textposition\":\"auto\",\"x\":[\"Abdominals\",\"Abdominals\",\"Abdominals\",\"Abdominals\",\"Abdominals\",\"Abdominals\",\"Abdominals\",\"Abdominals\",\"Abdominals\",\"Abdominals\",\"Abdominals\",\"Abdominals\",\"Abdominals\",\"Abdominals\",\"Abdominals\",\"Abdominals\",\"Abdominals\",\"Abdominals\",\"Abdominals\",\"Abdominals\",\"Abdominals\",\"Abdominals\",\"Abdominals\",\"Abdominals\",\"Abdominals\",\"Abdominals\",\"Abdominals\",\"Abdominals\",\"Abdominals\",\"Abdominals\",\"Abdominals\",\"Abdominals\",\"Abdominals\",\"Abdominals\",\"Abdominals\",\"Abdominals\",\"Abdominals\",\"Abdominals\",\"Abdominals\",\"Abdominals\",\"Abdominals\",\"Abdominals\",\"Abdominals\",\"Abdominals\",\"Abdominals\",\"Abdominals\",\"Abdominals\",\"Abdominals\",\"Abdominals\",\"Abdominals\",\"Abdominals\",\"Abdominals\",\"Abdominals\",\"Abdominals\",\"Abdominals\",\"Abdominals\",\"Abdominals\",\"Abdominals\",\"Abdominals\",\"Abdominals\",\"Abdominals\",\"Abdominals\",\"Abdominals\",\"Abdominals\",\"Abdominals\",\"Abdominals\",\"Abdominals\",\"Abdominals\",\"Abdominals\",\"Abdominals\",\"Abdominals\",\"Abdominals\",\"Abdominals\",\"Abdominals\",\"Abdominals\",\"Abdominals\",\"Abdominals\",\"Abdominals\",\"Abdominals\",\"Abdominals\",\"Abdominals\",\"Abdominals\",\"Abdominals\",\"Abdominals\",\"Abdominals\",\"Abdominals\",\"Abdominals\",\"Abdominals\",\"Abdominals\",\"Abdominals\",\"Abdominals\",\"Abdominals\",\"Abdominals\",\"Abdominals\",\"Abdominals\",\"Abdominals\",\"Abdominals\",\"Abdominals\",\"Abdominals\",\"Abdominals\",\"Abdominals\",\"Abdominals\",\"Abdominals\",\"Abdominals\",\"Abdominals\",\"Abdominals\",\"Abdominals\",\"Abdominals\",\"Abdominals\",\"Abdominals\",\"Abdominals\",\"Abdominals\",\"Abdominals\",\"Abdominals\",\"Abdominals\",\"Abdominals\",\"Abdominals\",\"Abdominals\",\"Abdominals\",\"Abdominals\",\"Abdominals\",\"Abdominals\",\"Abdominals\",\"Abdominals\",\"Abdominals\",\"Abdominals\",\"Abdominals\",\"Abdominals\",\"Abdominals\",\"Abdominals\",\"Abdominals\",\"Abdominals\",\"Abdominals\",\"Abdominals\",\"Abdominals\",\"Abdominals\",\"Abdominals\",\"Abdominals\",\"Abdominals\",\"Abdominals\",\"Abdominals\",\"Abdominals\",\"Abdominals\",\"Abdominals\",\"Abdominals\",\"Abdominals\",\"Abdominals\",\"Abdominals\",\"Abdominals\",\"Abdominals\",\"Abdominals\",\"Abdominals\",\"Abdominals\",\"Abdominals\",\"Abdominals\",\"Abdominals\",\"Abdominals\",\"Abdominals\",\"Abdominals\",\"Abdominals\",\"Abdominals\",\"Abdominals\",\"Abdominals\",\"Abdominals\",\"Abdominals\",\"Abdominals\",\"Abdominals\",\"Abdominals\",\"Abdominals\",\"Abdominals\",\"Abdominals\",\"Abdominals\",\"Abdominals\",\"Abdominals\",\"Abdominals\",\"Abdominals\",\"Abdominals\",\"Abdominals\",\"Abdominals\",\"Abdominals\",\"Abdominals\",\"Abdominals\",\"Abdominals\",\"Abdominals\",\"Abdominals\",\"Abdominals\",\"Abdominals\",\"Abdominals\",\"Abdominals\",\"Abdominals\",\"Abdominals\",\"Abdominals\",\"Abdominals\",\"Abdominals\",\"Abdominals\",\"Abdominals\",\"Abdominals\",\"Abdominals\",\"Abdominals\",\"Abdominals\",\"Abdominals\",\"Abdominals\",\"Abdominals\",\"Abdominals\",\"Abdominals\",\"Abdominals\",\"Abdominals\",\"Abdominals\",\"Abdominals\",\"Abdominals\",\"Abdominals\",\"Abdominals\",\"Abdominals\",\"Abdominals\",\"Abdominals\",\"Abdominals\",\"Abdominals\",\"Abdominals\",\"Abdominals\",\"Abdominals\",\"Abdominals\",\"Abdominals\",\"Abdominals\",\"Abdominals\",\"Abdominals\",\"Abdominals\",\"Abdominals\",\"Abdominals\",\"Adductors\",\"Abductors\",\"Abductors\",\"Abductors\",\"Adductors\",\"Adductors\",\"Adductors\",\"Adductors\",\"Abductors\",\"Adductors\",\"Adductors\",\"Biceps\",\"Biceps\",\"Biceps\",\"Biceps\",\"Biceps\",\"Biceps\",\"Biceps\",\"Biceps\",\"Biceps\",\"Biceps\",\"Biceps\",\"Biceps\",\"Biceps\",\"Biceps\",\"Biceps\",\"Biceps\",\"Biceps\",\"Biceps\",\"Biceps\",\"Biceps\",\"Biceps\",\"Biceps\",\"Biceps\",\"Biceps\",\"Biceps\",\"Biceps\",\"Biceps\",\"Biceps\",\"Biceps\",\"Biceps\",\"Biceps\",\"Biceps\",\"Biceps\",\"Biceps\",\"Biceps\",\"Biceps\",\"Biceps\",\"Biceps\",\"Biceps\",\"Biceps\",\"Biceps\",\"Biceps\",\"Biceps\",\"Biceps\",\"Biceps\",\"Biceps\",\"Biceps\",\"Biceps\",\"Biceps\",\"Biceps\",\"Biceps\",\"Biceps\",\"Biceps\",\"Biceps\",\"Biceps\",\"Biceps\",\"Biceps\",\"Biceps\",\"Biceps\",\"Biceps\",\"Biceps\",\"Biceps\",\"Biceps\",\"Biceps\",\"Biceps\",\"Biceps\",\"Biceps\",\"Biceps\",\"Biceps\",\"Biceps\",\"Biceps\",\"Biceps\",\"Biceps\",\"Biceps\",\"Biceps\",\"Biceps\",\"Biceps\",\"Biceps\",\"Biceps\",\"Biceps\",\"Biceps\",\"Biceps\",\"Biceps\",\"Biceps\",\"Biceps\",\"Biceps\",\"Biceps\",\"Biceps\",\"Biceps\",\"Biceps\",\"Biceps\",\"Biceps\",\"Biceps\",\"Biceps\",\"Biceps\",\"Biceps\",\"Biceps\",\"Biceps\",\"Biceps\",\"Biceps\",\"Biceps\",\"Biceps\",\"Biceps\",\"Biceps\",\"Biceps\",\"Biceps\",\"Biceps\",\"Biceps\",\"Biceps\",\"Biceps\",\"Biceps\",\"Biceps\",\"Biceps\",\"Biceps\",\"Biceps\",\"Biceps\",\"Biceps\",\"Biceps\",\"Biceps\",\"Biceps\",\"Biceps\",\"Biceps\",\"Biceps\",\"Biceps\",\"Biceps\",\"Biceps\",\"Biceps\",\"Biceps\",\"Biceps\",\"Biceps\",\"Biceps\",\"Biceps\",\"Biceps\",\"Biceps\",\"Biceps\",\"Biceps\",\"Biceps\",\"Biceps\",\"Biceps\",\"Biceps\",\"Biceps\",\"Biceps\",\"Biceps\",\"Biceps\",\"Biceps\",\"Biceps\",\"Biceps\",\"Biceps\",\"Biceps\",\"Biceps\",\"Biceps\",\"Biceps\",\"Biceps\",\"Biceps\",\"Biceps\",\"Biceps\",\"Biceps\",\"Biceps\",\"Biceps\",\"Biceps\",\"Biceps\",\"Biceps\",\"Calves\",\"Calves\",\"Calves\",\"Calves\",\"Calves\",\"Calves\",\"Calves\",\"Calves\",\"Calves\",\"Calves\",\"Calves\",\"Calves\",\"Calves\",\"Calves\",\"Calves\",\"Calves\",\"Calves\",\"Calves\",\"Calves\",\"Calves\",\"Calves\",\"Calves\",\"Calves\",\"Calves\",\"Calves\",\"Calves\",\"Calves\",\"Calves\",\"Calves\",\"Calves\",\"Calves\",\"Calves\",\"Calves\",\"Calves\",\"Calves\",\"Calves\",\"Calves\",\"Calves\",\"Calves\",\"Chest\",\"Chest\",\"Chest\",\"Chest\",\"Chest\",\"Chest\",\"Chest\",\"Chest\",\"Chest\",\"Chest\",\"Chest\",\"Chest\",\"Chest\",\"Chest\",\"Chest\",\"Chest\",\"Chest\",\"Chest\",\"Chest\",\"Chest\",\"Chest\",\"Chest\",\"Chest\",\"Chest\",\"Chest\",\"Chest\",\"Chest\",\"Chest\",\"Chest\",\"Chest\",\"Chest\",\"Chest\",\"Chest\",\"Chest\",\"Chest\",\"Chest\",\"Chest\",\"Chest\",\"Chest\",\"Chest\",\"Chest\",\"Chest\",\"Chest\",\"Chest\",\"Chest\",\"Chest\",\"Chest\",\"Chest\",\"Chest\",\"Chest\",\"Chest\",\"Chest\",\"Chest\",\"Chest\",\"Chest\",\"Chest\",\"Chest\",\"Chest\",\"Chest\",\"Chest\",\"Chest\",\"Chest\",\"Chest\",\"Chest\",\"Chest\",\"Chest\",\"Chest\",\"Chest\",\"Chest\",\"Chest\",\"Chest\",\"Chest\",\"Chest\",\"Chest\",\"Chest\",\"Chest\",\"Chest\",\"Chest\",\"Chest\",\"Chest\",\"Chest\",\"Chest\",\"Chest\",\"Chest\",\"Chest\",\"Chest\",\"Chest\",\"Chest\",\"Chest\",\"Chest\",\"Chest\",\"Chest\",\"Chest\",\"Chest\",\"Chest\",\"Chest\",\"Chest\",\"Chest\",\"Chest\",\"Chest\",\"Chest\",\"Chest\",\"Chest\",\"Chest\",\"Chest\",\"Chest\",\"Chest\",\"Chest\",\"Chest\",\"Chest\",\"Chest\",\"Chest\",\"Chest\",\"Chest\",\"Chest\",\"Chest\",\"Chest\",\"Chest\",\"Chest\",\"Chest\",\"Chest\",\"Chest\",\"Chest\",\"Chest\",\"Chest\",\"Chest\",\"Chest\",\"Chest\",\"Chest\",\"Chest\",\"Chest\",\"Chest\",\"Chest\",\"Chest\",\"Chest\",\"Chest\",\"Chest\",\"Chest\",\"Chest\",\"Chest\",\"Chest\",\"Chest\",\"Chest\",\"Chest\",\"Chest\",\"Chest\",\"Chest\",\"Chest\",\"Chest\",\"Chest\",\"Chest\",\"Chest\",\"Chest\",\"Chest\",\"Chest\",\"Chest\",\"Chest\",\"Chest\",\"Chest\",\"Chest\",\"Chest\",\"Chest\",\"Chest\",\"Chest\",\"Chest\",\"Chest\",\"Chest\",\"Chest\",\"Chest\",\"Chest\",\"Chest\",\"Chest\",\"Chest\",\"Chest\",\"Forearms\",\"Forearms\",\"Forearms\",\"Forearms\",\"Forearms\",\"Forearms\",\"Forearms\",\"Forearms\",\"Forearms\",\"Forearms\",\"Forearms\",\"Forearms\",\"Forearms\",\"Forearms\",\"Forearms\",\"Forearms\",\"Forearms\",\"Forearms\",\"Forearms\",\"Forearms\",\"Forearms\",\"Forearms\",\"Forearms\",\"Forearms\",\"Forearms\",\"Forearms\",\"Forearms\",\"Forearms\",\"Forearms\",\"Forearms\",\"Glutes\",\"Glutes\",\"Glutes\",\"Glutes\",\"Glutes\",\"Glutes\",\"Glutes\",\"Glutes\",\"Glutes\",\"Glutes\",\"Glutes\",\"Glutes\",\"Glutes\",\"Glutes\",\"Glutes\",\"Glutes\",\"Glutes\",\"Glutes\",\"Glutes\",\"Glutes\",\"Glutes\",\"Glutes\",\"Glutes\",\"Glutes\",\"Glutes\",\"Glutes\",\"Glutes\",\"Hamstrings\",\"Hamstrings\",\"Hamstrings\",\"Hamstrings\",\"Hamstrings\",\"Hamstrings\",\"Hamstrings\",\"Hamstrings\",\"Hamstrings\",\"Hamstrings\",\"Hamstrings\",\"Hamstrings\",\"Hamstrings\",\"Hamstrings\",\"Hamstrings\",\"Hamstrings\",\"Hamstrings\",\"Hamstrings\",\"Hamstrings\",\"Hamstrings\",\"Hamstrings\",\"Hamstrings\",\"Hamstrings\",\"Hamstrings\",\"Hamstrings\",\"Hamstrings\",\"Hamstrings\",\"Hamstrings\",\"Hamstrings\",\"Hamstrings\",\"Hamstrings\",\"Hamstrings\",\"Hamstrings\",\"Hamstrings\",\"Hamstrings\",\"Hamstrings\",\"Hamstrings\",\"Hamstrings\",\"Hamstrings\",\"Hamstrings\",\"Hamstrings\",\"Hamstrings\",\"Hamstrings\",\"Hamstrings\",\"Hamstrings\",\"Hamstrings\",\"Hamstrings\",\"Hamstrings\",\"Hamstrings\",\"Hamstrings\",\"Hamstrings\",\"Hamstrings\",\"Hamstrings\",\"Hamstrings\",\"Hamstrings\",\"Hamstrings\",\"Hamstrings\",\"Hamstrings\",\"Hamstrings\",\"Hamstrings\",\"Hamstrings\",\"Hamstrings\",\"Hamstrings\",\"Hamstrings\",\"Hamstrings\",\"Hamstrings\",\"Hamstrings\",\"Hamstrings\",\"Hamstrings\",\"Hamstrings\",\"Hamstrings\",\"Hamstrings\",\"Hamstrings\",\"Hamstrings\",\"Hamstrings\",\"Hamstrings\",\"Hamstrings\",\"Hamstrings\",\"Hamstrings\",\"Hamstrings\",\"Hamstrings\",\"Hamstrings\",\"Hamstrings\",\"Hamstrings\",\"Hamstrings\",\"Hamstrings\",\"Lats\",\"Lats\",\"Lats\",\"Lats\",\"Lats\",\"Lats\",\"Lats\",\"Lats\",\"Lats\",\"Lats\",\"Lats\",\"Lats\",\"Lats\",\"Lats\",\"Lats\",\"Lats\",\"Lats\",\"Lats\",\"Lats\",\"Lats\",\"Lats\",\"Lats\",\"Lats\",\"Lats\",\"Lats\",\"Lats\",\"Lats\",\"Lats\",\"Lats\",\"Lats\",\"Lats\",\"Lats\",\"Lats\",\"Lats\",\"Lats\",\"Lats\",\"Lats\",\"Lats\",\"Lats\",\"Lats\",\"Lats\",\"Lats\",\"Lats\",\"Lats\",\"Lats\",\"Lats\",\"Lats\",\"Lats\",\"Lats\",\"Lats\",\"Lats\",\"Lats\",\"Lats\",\"Lats\",\"Lats\",\"Lats\",\"Lats\",\"Lats\",\"Lats\",\"Lats\",\"Lats\",\"Lats\",\"Lats\",\"Lats\",\"Lats\",\"Lats\",\"Lats\",\"Lats\",\"Lats\",\"Lats\",\"Lats\",\"Lats\",\"Lats\",\"Lats\",\"Lats\",\"Lats\",\"Lats\",\"Lats\",\"Lats\",\"Lats\",\"Lats\",\"Lats\",\"Lats\",\"Lats\",\"Lats\",\"Lats\",\"Lats\",\"Lats\",\"Lats\",\"Lats\",\"Lats\",\"Lats\",\"Lats\",\"Lats\",\"Lats\",\"Lats\",\"Lats\",\"Lats\",\"Lats\",\"Lats\",\"Lats\",\"Lower Back\",\"Lower Back\",\"Lower Back\",\"Lower Back\",\"Lower Back\",\"Lower Back\",\"Lower Back\",\"Lower Back\",\"Lower Back\",\"Lower Back\",\"Lower Back\",\"Lower Back\",\"Lower Back\",\"Lower Back\",\"Lower Back\",\"Lower Back\",\"Lower Back\",\"Lower Back\",\"Lower Back\",\"Lower Back\",\"Lower Back\",\"Lower Back\",\"Lower Back\",\"Lower Back\",\"Lower Back\",\"Lower Back\",\"Lower Back\",\"Lower Back\",\"Lower Back\",\"Lower Back\",\"Lower Back\",\"Lower Back\",\"Lower Back\",\"Lower Back\",\"Lower Back\",\"Lower Back\",\"Lower Back\",\"Lower Back\",\"Lower Back\",\"Lower Back\",\"Lower Back\",\"Lower Back\",\"Lower Back\",\"Lower Back\",\"Lower Back\",\"Lower Back\",\"Lower Back\",\"Lower Back\",\"Lower Back\",\"Lower Back\",\"Lower Back\",\"Lower Back\",\"Lower Back\",\"Lower Back\",\"Lower Back\",\"Lower Back\",\"Lower Back\",\"Lower Back\",\"Lower Back\",\"Lower Back\",\"Lower Back\",\"Lower Back\",\"Lower Back\",\"Lower Back\",\"Lower Back\",\"Lower Back\",\"Middle Back\",\"Middle Back\",\"Middle Back\",\"Middle Back\",\"Middle Back\",\"Middle Back\",\"Middle Back\",\"Middle Back\",\"Middle Back\",\"Middle Back\",\"Middle Back\",\"Middle Back\",\"Middle Back\",\"Middle Back\",\"Middle Back\",\"Middle Back\",\"Middle Back\",\"Middle Back\",\"Middle Back\",\"Middle Back\",\"Middle Back\",\"Middle Back\",\"Middle Back\",\"Middle Back\",\"Middle Back\",\"Middle Back\",\"Middle Back\",\"Middle Back\",\"Middle Back\",\"Middle Back\",\"Middle Back\",\"Middle Back\",\"Middle Back\",\"Middle Back\",\"Middle Back\",\"Middle Back\",\"Middle Back\",\"Middle Back\",\"Middle Back\",\"Middle Back\",\"Middle Back\",\"Middle Back\",\"Middle Back\",\"Middle Back\",\"Middle Back\",\"Middle Back\",\"Middle Back\",\"Middle Back\",\"Middle Back\",\"Middle Back\",\"Middle Back\",\"Middle Back\",\"Middle Back\",\"Middle Back\",\"Middle Back\",\"Middle Back\",\"Middle Back\",\"Middle Back\",\"Middle Back\",\"Middle Back\",\"Middle Back\",\"Middle Back\",\"Middle Back\",\"Middle Back\",\"Middle Back\",\"Middle Back\",\"Middle Back\",\"Middle Back\",\"Middle Back\",\"Middle Back\",\"Middle Back\",\"Middle Back\",\"Middle Back\",\"Middle Back\",\"Middle Back\",\"Middle Back\",\"Middle Back\",\"Middle Back\",\"Middle Back\",\"Middle Back\",\"Middle Back\",\"Middle Back\",\"Middle Back\",\"Middle Back\",\"Middle Back\",\"Middle Back\",\"Middle Back\",\"Middle Back\",\"Middle Back\",\"Middle Back\",\"Middle Back\",\"Middle Back\",\"Middle Back\",\"Middle Back\",\"Middle Back\",\"Middle Back\",\"Middle Back\",\"Middle Back\",\"Middle Back\",\"Middle Back\",\"Middle Back\",\"Middle Back\",\"Middle Back\",\"Middle Back\",\"Middle Back\",\"Middle Back\",\"Middle Back\",\"Traps\",\"Traps\",\"Traps\",\"Traps\",\"Traps\",\"Traps\",\"Traps\",\"Traps\",\"Traps\",\"Traps\",\"Traps\",\"Traps\",\"Traps\",\"Neck\",\"Neck\",\"Neck\",\"Traps\",\"Traps\",\"Traps\",\"Traps\",\"Traps\",\"Traps\",\"Traps\",\"Traps\",\"Traps\",\"Traps\",\"Traps\",\"Quadriceps\",\"Quadriceps\",\"Quadriceps\",\"Quadriceps\",\"Quadriceps\",\"Quadriceps\",\"Quadriceps\",\"Quadriceps\",\"Quadriceps\",\"Quadriceps\",\"Quadriceps\",\"Quadriceps\",\"Quadriceps\",\"Quadriceps\",\"Quadriceps\",\"Quadriceps\",\"Quadriceps\",\"Quadriceps\",\"Quadriceps\",\"Quadriceps\",\"Quadriceps\",\"Quadriceps\",\"Quadriceps\",\"Quadriceps\",\"Quadriceps\",\"Quadriceps\",\"Quadriceps\",\"Quadriceps\",\"Quadriceps\",\"Quadriceps\",\"Quadriceps\",\"Quadriceps\",\"Quadriceps\",\"Quadriceps\",\"Quadriceps\",\"Quadriceps\",\"Quadriceps\",\"Quadriceps\",\"Quadriceps\",\"Quadriceps\",\"Quadriceps\",\"Quadriceps\",\"Quadriceps\",\"Quadriceps\",\"Quadriceps\",\"Quadriceps\",\"Quadriceps\",\"Quadriceps\",\"Quadriceps\",\"Quadriceps\",\"Quadriceps\",\"Quadriceps\",\"Quadriceps\",\"Quadriceps\",\"Quadriceps\",\"Quadriceps\",\"Quadriceps\",\"Quadriceps\",\"Quadriceps\",\"Quadriceps\",\"Quadriceps\",\"Quadriceps\",\"Quadriceps\",\"Quadriceps\",\"Quadriceps\",\"Quadriceps\",\"Quadriceps\",\"Quadriceps\",\"Quadriceps\",\"Quadriceps\",\"Quadriceps\",\"Quadriceps\",\"Quadriceps\",\"Quadriceps\",\"Quadriceps\",\"Quadriceps\",\"Quadriceps\",\"Quadriceps\",\"Quadriceps\",\"Quadriceps\",\"Quadriceps\",\"Quadriceps\",\"Quadriceps\",\"Quadriceps\",\"Quadriceps\",\"Quadriceps\",\"Quadriceps\",\"Quadriceps\",\"Quadriceps\",\"Quadriceps\",\"Quadriceps\",\"Quadriceps\",\"Quadriceps\",\"Quadriceps\",\"Quadriceps\",\"Quadriceps\",\"Quadriceps\",\"Quadriceps\",\"Quadriceps\",\"Quadriceps\",\"Quadriceps\",\"Quadriceps\",\"Quadriceps\",\"Quadriceps\",\"Quadriceps\",\"Quadriceps\",\"Quadriceps\",\"Quadriceps\",\"Quadriceps\",\"Quadriceps\",\"Quadriceps\",\"Quadriceps\",\"Quadriceps\",\"Quadriceps\",\"Quadriceps\",\"Quadriceps\",\"Quadriceps\",\"Quadriceps\",\"Quadriceps\",\"Quadriceps\",\"Quadriceps\",\"Quadriceps\",\"Quadriceps\",\"Quadriceps\",\"Quadriceps\",\"Quadriceps\",\"Quadriceps\",\"Quadriceps\",\"Quadriceps\",\"Quadriceps\",\"Quadriceps\",\"Quadriceps\",\"Quadriceps\",\"Quadriceps\",\"Quadriceps\",\"Quadriceps\",\"Quadriceps\",\"Quadriceps\",\"Quadriceps\",\"Quadriceps\",\"Quadriceps\",\"Quadriceps\",\"Quadriceps\",\"Quadriceps\",\"Quadriceps\",\"Quadriceps\",\"Quadriceps\",\"Quadriceps\",\"Quadriceps\",\"Quadriceps\",\"Quadriceps\",\"Quadriceps\",\"Quadriceps\",\"Quadriceps\",\"Quadriceps\",\"Quadriceps\",\"Quadriceps\",\"Quadriceps\",\"Quadriceps\",\"Quadriceps\",\"Quadriceps\",\"Quadriceps\",\"Quadriceps\",\"Quadriceps\",\"Quadriceps\",\"Quadriceps\",\"Quadriceps\",\"Quadriceps\",\"Quadriceps\",\"Quadriceps\",\"Quadriceps\",\"Quadriceps\",\"Quadriceps\",\"Quadriceps\",\"Quadriceps\",\"Quadriceps\",\"Quadriceps\",\"Quadriceps\",\"Quadriceps\",\"Quadriceps\",\"Quadriceps\",\"Quadriceps\",\"Quadriceps\",\"Quadriceps\",\"Quadriceps\",\"Quadriceps\",\"Quadriceps\",\"Quadriceps\",\"Quadriceps\",\"Quadriceps\",\"Quadriceps\",\"Quadriceps\",\"Quadriceps\",\"Quadriceps\",\"Quadriceps\",\"Quadriceps\",\"Quadriceps\",\"Quadriceps\",\"Quadriceps\",\"Quadriceps\",\"Quadriceps\",\"Quadriceps\",\"Quadriceps\",\"Quadriceps\",\"Quadriceps\",\"Quadriceps\",\"Quadriceps\",\"Quadriceps\",\"Quadriceps\",\"Quadriceps\",\"Quadriceps\",\"Quadriceps\",\"Quadriceps\",\"Quadriceps\",\"Quadriceps\",\"Quadriceps\",\"Quadriceps\",\"Quadriceps\",\"Quadriceps\",\"Quadriceps\",\"Quadriceps\",\"Quadriceps\",\"Quadriceps\",\"Quadriceps\",\"Quadriceps\",\"Quadriceps\",\"Quadriceps\",\"Quadriceps\",\"Quadriceps\",\"Quadriceps\",\"Quadriceps\",\"Quadriceps\",\"Quadriceps\",\"Quadriceps\",\"Quadriceps\",\"Quadriceps\",\"Quadriceps\",\"Quadriceps\",\"Quadriceps\",\"Quadriceps\",\"Quadriceps\",\"Quadriceps\",\"Quadriceps\",\"Quadriceps\",\"Quadriceps\",\"Quadriceps\",\"Quadriceps\",\"Quadriceps\",\"Quadriceps\",\"Quadriceps\",\"Quadriceps\",\"Quadriceps\",\"Quadriceps\",\"Quadriceps\",\"Quadriceps\",\"Quadriceps\",\"Quadriceps\",\"Quadriceps\",\"Quadriceps\",\"Quadriceps\",\"Quadriceps\",\"Quadriceps\",\"Quadriceps\",\"Quadriceps\",\"Quadriceps\",\"Quadriceps\",\"Quadriceps\",\"Quadriceps\",\"Quadriceps\",\"Quadriceps\",\"Quadriceps\",\"Quadriceps\",\"Quadriceps\",\"Quadriceps\",\"Quadriceps\",\"Quadriceps\",\"Quadriceps\",\"Quadriceps\",\"Quadriceps\",\"Quadriceps\",\"Quadriceps\",\"Quadriceps\",\"Quadriceps\",\"Quadriceps\",\"Quadriceps\",\"Quadriceps\",\"Quadriceps\",\"Quadriceps\",\"Quadriceps\",\"Quadriceps\",\"Quadriceps\",\"Quadriceps\",\"Quadriceps\",\"Quadriceps\",\"Quadriceps\",\"Quadriceps\",\"Quadriceps\",\"Quadriceps\",\"Quadriceps\",\"Quadriceps\",\"Quadriceps\",\"Quadriceps\",\"Quadriceps\",\"Quadriceps\",\"Quadriceps\",\"Quadriceps\",\"Quadriceps\",\"Quadriceps\",\"Quadriceps\",\"Quadriceps\",\"Quadriceps\",\"Quadriceps\",\"Quadriceps\",\"Quadriceps\",\"Quadriceps\",\"Quadriceps\",\"Quadriceps\",\"Quadriceps\",\"Quadriceps\",\"Quadriceps\",\"Quadriceps\",\"Quadriceps\",\"Quadriceps\",\"Quadriceps\",\"Quadriceps\",\"Quadriceps\",\"Quadriceps\",\"Quadriceps\",\"Quadriceps\",\"Quadriceps\",\"Quadriceps\",\"Quadriceps\",\"Quadriceps\",\"Quadriceps\",\"Quadriceps\",\"Quadriceps\",\"Quadriceps\",\"Quadriceps\",\"Quadriceps\",\"Quadriceps\",\"Quadriceps\",\"Quadriceps\",\"Quadriceps\",\"Quadriceps\",\"Quadriceps\",\"Quadriceps\",\"Quadriceps\",\"Quadriceps\",\"Quadriceps\",\"Quadriceps\",\"Shoulders\",\"Shoulders\",\"Shoulders\",\"Shoulders\",\"Shoulders\",\"Shoulders\",\"Shoulders\",\"Shoulders\",\"Shoulders\",\"Shoulders\",\"Shoulders\",\"Shoulders\",\"Shoulders\",\"Shoulders\",\"Shoulders\",\"Shoulders\",\"Shoulders\",\"Shoulders\",\"Shoulders\",\"Shoulders\",\"Shoulders\",\"Shoulders\",\"Shoulders\",\"Shoulders\",\"Shoulders\",\"Shoulders\",\"Shoulders\",\"Shoulders\",\"Shoulders\",\"Shoulders\",\"Shoulders\",\"Shoulders\",\"Shoulders\",\"Shoulders\",\"Shoulders\",\"Shoulders\",\"Shoulders\",\"Shoulders\",\"Shoulders\",\"Shoulders\",\"Shoulders\",\"Shoulders\",\"Shoulders\",\"Shoulders\",\"Shoulders\",\"Shoulders\",\"Shoulders\",\"Shoulders\",\"Shoulders\",\"Shoulders\",\"Shoulders\",\"Shoulders\",\"Shoulders\",\"Shoulders\",\"Shoulders\",\"Shoulders\",\"Shoulders\",\"Shoulders\",\"Shoulders\",\"Shoulders\",\"Shoulders\",\"Shoulders\",\"Shoulders\",\"Shoulders\",\"Shoulders\",\"Shoulders\",\"Shoulders\",\"Shoulders\",\"Shoulders\",\"Shoulders\",\"Shoulders\",\"Shoulders\",\"Shoulders\",\"Shoulders\",\"Shoulders\",\"Shoulders\",\"Shoulders\",\"Shoulders\",\"Shoulders\",\"Shoulders\",\"Shoulders\",\"Shoulders\",\"Shoulders\",\"Shoulders\",\"Shoulders\",\"Shoulders\",\"Shoulders\",\"Shoulders\",\"Shoulders\",\"Shoulders\",\"Shoulders\",\"Shoulders\",\"Shoulders\",\"Shoulders\",\"Shoulders\",\"Shoulders\",\"Shoulders\",\"Shoulders\",\"Shoulders\",\"Shoulders\",\"Shoulders\",\"Shoulders\",\"Shoulders\",\"Shoulders\",\"Shoulders\",\"Shoulders\",\"Shoulders\",\"Shoulders\",\"Shoulders\",\"Shoulders\",\"Shoulders\",\"Shoulders\",\"Shoulders\",\"Shoulders\",\"Shoulders\",\"Shoulders\",\"Shoulders\",\"Shoulders\",\"Shoulders\",\"Shoulders\",\"Shoulders\",\"Shoulders\",\"Shoulders\",\"Shoulders\",\"Shoulders\",\"Shoulders\",\"Shoulders\",\"Shoulders\",\"Shoulders\",\"Shoulders\",\"Shoulders\",\"Shoulders\",\"Shoulders\",\"Shoulders\",\"Shoulders\",\"Shoulders\",\"Shoulders\",\"Shoulders\",\"Shoulders\",\"Shoulders\",\"Shoulders\",\"Shoulders\",\"Shoulders\",\"Shoulders\",\"Shoulders\",\"Shoulders\",\"Shoulders\",\"Shoulders\",\"Shoulders\",\"Shoulders\",\"Shoulders\",\"Shoulders\",\"Shoulders\",\"Shoulders\",\"Shoulders\",\"Shoulders\",\"Shoulders\",\"Shoulders\",\"Shoulders\",\"Shoulders\",\"Shoulders\",\"Shoulders\",\"Shoulders\",\"Shoulders\",\"Shoulders\",\"Shoulders\",\"Shoulders\",\"Shoulders\",\"Shoulders\",\"Shoulders\",\"Shoulders\",\"Shoulders\",\"Shoulders\",\"Shoulders\",\"Shoulders\",\"Shoulders\",\"Shoulders\",\"Shoulders\",\"Shoulders\",\"Shoulders\",\"Shoulders\",\"Shoulders\",\"Shoulders\",\"Shoulders\",\"Shoulders\",\"Shoulders\",\"Shoulders\",\"Shoulders\",\"Shoulders\",\"Shoulders\",\"Shoulders\",\"Shoulders\",\"Shoulders\",\"Shoulders\",\"Shoulders\",\"Shoulders\",\"Shoulders\",\"Shoulders\",\"Shoulders\",\"Shoulders\",\"Shoulders\",\"Shoulders\",\"Shoulders\",\"Shoulders\",\"Shoulders\",\"Shoulders\",\"Shoulders\",\"Shoulders\",\"Shoulders\",\"Shoulders\",\"Shoulders\",\"Shoulders\",\"Shoulders\",\"Shoulders\",\"Shoulders\",\"Shoulders\",\"Shoulders\",\"Shoulders\",\"Shoulders\",\"Shoulders\",\"Shoulders\",\"Shoulders\",\"Shoulders\",\"Shoulders\",\"Shoulders\",\"Shoulders\",\"Shoulders\",\"Shoulders\",\"Shoulders\",\"Shoulders\",\"Shoulders\",\"Shoulders\",\"Shoulders\",\"Shoulders\",\"Shoulders\",\"Shoulders\",\"Shoulders\",\"Shoulders\",\"Shoulders\",\"Shoulders\",\"Shoulders\",\"Shoulders\",\"Shoulders\",\"Shoulders\",\"Shoulders\",\"Shoulders\",\"Shoulders\",\"Shoulders\",\"Shoulders\",\"Shoulders\",\"Shoulders\",\"Shoulders\",\"Shoulders\",\"Shoulders\",\"Shoulders\",\"Shoulders\",\"Shoulders\",\"Shoulders\",\"Shoulders\",\"Shoulders\",\"Shoulders\",\"Shoulders\",\"Shoulders\",\"Shoulders\",\"Shoulders\",\"Shoulders\",\"Shoulders\",\"Shoulders\",\"Shoulders\",\"Shoulders\",\"Shoulders\",\"Shoulders\",\"Shoulders\",\"Shoulders\",\"Shoulders\",\"Shoulders\",\"Shoulders\",\"Shoulders\",\"Shoulders\",\"Shoulders\",\"Shoulders\",\"Shoulders\",\"Shoulders\",\"Shoulders\",\"Shoulders\",\"Shoulders\",\"Shoulders\",\"Shoulders\",\"Shoulders\",\"Shoulders\",\"Shoulders\",\"Shoulders\",\"Shoulders\",\"Shoulders\",\"Shoulders\",\"Shoulders\",\"Shoulders\",\"Shoulders\",\"Shoulders\",\"Shoulders\",\"Shoulders\",\"Shoulders\",\"Shoulders\",\"Shoulders\",\"Shoulders\",\"Shoulders\",\"Shoulders\",\"Shoulders\",\"Shoulders\",\"Triceps\",\"Triceps\",\"Triceps\",\"Triceps\",\"Triceps\",\"Triceps\",\"Triceps\",\"Triceps\",\"Triceps\",\"Triceps\",\"Triceps\",\"Triceps\",\"Triceps\",\"Triceps\",\"Triceps\",\"Triceps\",\"Triceps\",\"Triceps\",\"Triceps\",\"Triceps\",\"Triceps\",\"Triceps\",\"Triceps\",\"Triceps\",\"Triceps\",\"Triceps\",\"Triceps\",\"Triceps\",\"Triceps\",\"Triceps\",\"Triceps\",\"Triceps\",\"Triceps\",\"Triceps\",\"Triceps\",\"Triceps\",\"Triceps\",\"Triceps\",\"Triceps\",\"Triceps\",\"Triceps\",\"Triceps\",\"Triceps\",\"Triceps\",\"Triceps\",\"Triceps\",\"Triceps\",\"Triceps\",\"Triceps\",\"Triceps\",\"Triceps\",\"Triceps\",\"Triceps\",\"Triceps\",\"Triceps\",\"Triceps\",\"Triceps\",\"Triceps\",\"Triceps\",\"Triceps\",\"Triceps\",\"Triceps\",\"Triceps\",\"Triceps\",\"Triceps\",\"Triceps\",\"Triceps\",\"Triceps\",\"Triceps\",\"Triceps\",\"Triceps\",\"Triceps\",\"Triceps\",\"Triceps\",\"Triceps\",\"Triceps\",\"Triceps\",\"Triceps\",\"Triceps\",\"Triceps\",\"Triceps\",\"Triceps\",\"Triceps\",\"Triceps\",\"Triceps\",\"Triceps\",\"Triceps\",\"Triceps\",\"Triceps\",\"Triceps\",\"Triceps\",\"Triceps\",\"Triceps\",\"Triceps\",\"Triceps\",\"Triceps\",\"Triceps\",\"Triceps\",\"Triceps\",\"Triceps\",\"Triceps\",\"Triceps\",\"Triceps\",\"Triceps\",\"Triceps\",\"Triceps\",\"Triceps\",\"Triceps\",\"Triceps\",\"Triceps\",\"Triceps\",\"Triceps\",\"Triceps\",\"Triceps\",\"Triceps\",\"Triceps\",\"Triceps\",\"Triceps\",\"Triceps\",\"Triceps\",\"Triceps\",\"Triceps\",\"Triceps\"],\"xaxis\":\"x\",\"y\":[0,1,2,3,4,5,6,7,8,9,10,11,12,13,14,15,16,17,18,19,20,21,22,23,24,25,26,27,28,29,30,31,32,33,34,35,36,37,38,39,40,41,42,43,44,45,46,47,48,49,50,51,52,53,54,55,56,57,58,59,60,61,62,63,64,65,66,67,68,69,70,71,72,73,74,75,76,77,78,79,80,81,82,83,84,85,86,87,88,89,90,91,92,93,94,95,96,97,98,99,100,101,102,103,104,105,106,107,108,109,110,111,112,113,114,115,116,117,118,119,120,121,122,123,124,125,126,127,128,129,130,131,132,133,134,135,136,137,138,139,140,141,142,143,144,145,146,147,148,149,150,151,152,153,154,155,156,157,158,159,160,161,162,163,164,165,166,167,168,169,170,171,172,173,174,175,176,177,178,179,180,181,182,183,184,619,620,621,622,623,624,625,626,627,628,629,630,631,632,633,634,635,636,637,638,639,640,641,642,643,644,645,646,647,648,649,650,651,652,653,654,655,656,657,658,659,660,661,662,663,664,665,666,667,668,669,670,698,699,700,701,702,703,704,705,706,707,708,709,710,711,712,713,714,715,716,717,718,719,720,721,722,723,724,725,726,727,728,729,730,731,732,733,734,735,736,737,738,739,740,741,742,743,744,745,746,747,748,749,750,751,752,753,754,755,756,757,758,759,760,761,762,763,764,765,766,767,768,769,770,771,772,773,774,775,776,777,778,779,780,781,782,783,784,785,786,787,788,789,790,791,792,793,794,795,796,797,798,799,800,801,802,803,804,805,806,807,808,809,810,811,812,813,814,815,816,817,818,819,820,821,822,823,824,825,826,827,828,829,830,831,832,833,834,835,836,837,838,839,840,841,842,843,844,845,846,847,848,849,850,851,858,859,860,861,862,863,864,865,866,867,868,869,870,871,872,873,874,875,876,877,878,879,880,881,882,883,884,885,886,887,888,889,890,891,892,893,894,895,896,897,898,899,900,901,902,903,912,913,914,915,916,917,918,919,920,921,922,923,924,925,926,927,928,929,930,931,932,933,934,935,936,937,938,939,940,941,942,943,944,945,946,947,948,949,950,951,952,953,954,955,956,957,958,959,1048,1049,1050,1051,1052,1053,1054,1055,1056,1057,1058,1059,1060,1061,1062,1063,1064,1065,1066,1067,1068,1069,1070,1071,1072,1073,1074,1075,1076,1077,1078,1079,1080,1081,1082,1083,1084,1085,1086,1087,1088,1089,1090,1091,1092,1093,1094,1095,1096,1097,1098,1099,1100,1101,1102,1103,1104,1105,1106,1107,1108,1109,1110,1111,1112,1113,1114,1115,1116,1117,1118,1119,1120,1121,1122,1123,1124,1125,1126,1127,1128,1129,1130,1131,1132,1133,1134,1135,1136,1137,1138,1139,1140,1141,1142,1143,1144,1145,1146,1147,1148,1149,1150,1151,1152,1153,1154,1155,1156,1157,1158,1159,1160,1161,1162,1163,1164,1165,1166,1167,1168,1169,1170,1171,1172,1173,1174,1175,1176,1177,1178,1179,1180,1181,1182,1183,1184,1185,1186,1187,1188,1189,1190,1191,1192,1193,1194,1195,1196,1197,1198,1199,1200,1201,1202,1203,1204,1205,1207,1208,1209,1210,1211,1212,1213,1214,1215,1216,1217,1218,1219,1220,1221,1222,1223,1224,1225,1226,1227,1228,1229,1230,1231,1286,1287,1288,1289,1290,1291,1292,1293,1294,1295,1296,1297,1298,1299,1300,1301,1302,1303,1304,1305,1306,1307,1308,1309,1310,1311,1312,1313,1314,1315,1316,1317,1318,1319,1320,1321,1322,1323,1324,1325,1326,1327,1328,1329,1330,1331,1332,1333,1334,1335,1336,1337,1338,1339,1340,1341,1342,1343,1344,1345,1346,1347,1348,1349,1350,1351,1352,1353,1354,1355,1356,1357,1358,1359,1360,1361,1362,1363,1364,1365,1366,1402,1403,1404,1405,1406,1407,1408,1409,1410,1411,1412,1413,1414,1415,1416,1417,1418,1419,1420,1421,1422,1423,1424,1425,1426,1427,1428,1429,1430,1431,1432,1433,1434,1435,1436,1437,1438,1439,1440,1441,1442,1443,1444,1445,1446,1447,1448,1449,1450,1451,1452,1453,1454,1455,1456,1457,1458,1459,1460,1461,1462,1463,1464,1465,1466,1467,1468,1469,1470,1471,1472,1473,1474,1475,1476,1477,1478,1479,1480,1481,1482,1483,1484,1485,1486,1487,1488,1489,1490,1491,1492,1493,1494,1495,1496,1497,1498,1499,1500,1501,1502,1503,1504,1528,1529,1530,1531,1532,1533,1534,1535,1536,1537,1538,1539,1540,1541,1542,1543,1544,1545,1546,1547,1548,1549,1550,1551,1552,1553,1554,1555,1556,1557,1558,1559,1560,1561,1562,1563,1564,1565,1566,1567,1568,1569,1570,1571,1572,1573,1574,1575,1576,1577,1578,1579,1580,1581,1582,1583,1584,1585,1586,1587,1588,1589,1590,1591,1592,1624,1625,1626,1627,1628,1629,1630,1631,1632,1633,1634,1635,1636,1637,1638,1639,1640,1641,1642,1643,1644,1645,1646,1647,1648,1649,1650,1651,1652,1653,1654,1655,1656,1657,1658,1659,1660,1661,1662,1663,1664,1665,1666,1667,1668,1669,1670,1671,1672,1673,1674,1675,1676,1677,1678,1679,1680,1681,1682,1683,1684,1685,1686,1687,1688,1689,1690,1691,1692,1693,1694,1695,1696,1697,1698,1699,1700,1701,1702,1703,1704,1705,1706,1707,1708,1709,1710,1711,1712,1713,1714,1715,1716,1717,1718,1719,1720,1721,1722,1723,1724,1725,1726,1727,1728,1729,1730,1731,1732,1733,1734,1735,1736,1748,1749,1750,1751,1752,1753,1754,1755,1756,1757,1758,1759,1760,1761,1762,1763,1764,1765,1766,1767,1768,1769,1770,1771,1772,1773,1774,1780,1781,1782,1783,1784,1785,1786,1787,1788,1789,1790,1791,1792,1793,1794,1795,1796,1797,1798,1799,1800,1801,1802,1803,1804,1805,1806,1807,1808,1809,1810,1811,1812,1813,1814,1815,1816,1817,1818,1819,1820,1821,1822,1823,1824,1825,1826,1827,1828,1829,1830,1831,1832,1833,1834,1835,1836,1837,1838,1839,1840,1841,1842,1843,1844,1845,1846,1847,1848,1849,1850,1851,1852,1853,1854,1855,1856,1857,1858,1859,1860,1861,1862,1863,1864,1865,1866,1867,1868,1869,1870,1871,1872,1873,1874,1875,1876,1877,1878,1879,1880,1881,1882,1883,1884,1885,1886,1887,1888,1889,1890,1891,1892,1893,1894,1895,1896,1897,1898,1899,1900,1901,1902,1903,1904,1905,1906,1907,1908,1909,1910,1911,1912,1913,1914,1915,1916,1917,1918,1919,1920,1921,1922,1923,1924,1925,1926,1927,1928,1929,1930,1931,1932,1933,1934,1935,1936,1937,1938,1939,1940,1941,1942,1943,1944,1945,1946,1947,1948,1949,1950,1951,1952,1953,1954,1955,1956,1957,1958,1959,1960,1961,1962,1963,1964,1965,1966,1967,1968,1969,1970,1971,1972,1973,1974,1975,1976,1977,1978,1979,1980,1981,1982,1983,1984,1985,1986,1987,1988,1989,1990,1991,1992,1993,1994,1995,1996,1997,1998,1999,2000,2001,2002,2003,2004,2005,2006,2007,2008,2009,2010,2011,2012,2013,2014,2015,2016,2017,2018,2019,2020,2021,2022,2023,2024,2025,2026,2027,2028,2029,2030,2031,2032,2033,2034,2035,2036,2037,2038,2039,2040,2041,2042,2043,2044,2045,2046,2047,2048,2049,2050,2051,2052,2053,2054,2055,2056,2057,2058,2059,2060,2061,2062,2063,2064,2065,2066,2067,2068,2069,2070,2071,2072,2073,2074,2075,2076,2077,2078,2079,2080,2081,2082,2083,2084,2085,2086,2087,2088,2089,2090,2091,2092,2093,2094,2095,2096,2097,2098,2099,2100,2101,2102,2103,2104,2105,2106,2107,2108,2109,2110,2111,2112,2113,2114,2115,2116,2117,2414,2415,2416,2417,2418,2419,2420,2421,2422,2423,2424,2425,2426,2427,2428,2429,2430,2431,2432,2433,2434,2435,2436,2437,2438,2439,2440,2441,2442,2443,2444,2445,2446,2447,2448,2449,2450,2451,2452,2453,2454,2455,2456,2457,2458,2459,2460,2461,2462,2463,2464,2465,2466,2467,2468,2469,2470,2471,2472,2473,2474,2475,2476,2477,2478,2479,2480,2481,2482,2483,2484,2485,2486,2487,2488,2489,2490,2491,2492,2493,2494,2495,2496,2497,2498,2499,2500,2501,2502,2503,2504,2505,2506,2507,2508,2509,2510,2511,2512,2513,2514,2515,2516,2517,2518,2519,2520,2521,2522,2523,2524,2525,2526,2527,2528,2529,2530,2531,2532,2533,2534,2535,2536,2537,2538,2539,2540,2541,2542,2543,2544,2545,2546,2547,2548,2549,2550,2551,2552,2553,2554,2555,2556,2557,2558,2559,2560,2561,2562,2563,2564,2565,2566,2567,2568,2569,2570,2571,2572,2573,2574,2575,2576,2577,2578,2579,2580,2581,2582,2583,2584,2585,2586,2587,2588,2589,2590,2591,2592,2593,2594,2595,2596,2597,2598,2599,2600,2601,2602,2603,2604,2605,2606,2607,2608,2609,2610,2611,2612,2613,2614,2615,2616,2617,2618,2619,2620,2621,2622,2623,2624,2625,2626,2627,2628,2629,2630,2631,2632,2633,2634,2635,2636,2637,2638,2639,2640,2641,2642,2643,2644,2645,2646,2647,2648,2649,2650,2651,2652,2653,2654,2655,2656,2657,2658,2659,2660,2661,2662,2663,2664,2665,2666,2667,2668,2669,2670,2671,2672,2673,2674,2675,2676,2677,2678,2679,2680,2681,2682,2683,2684,2685,2686,2687,2688,2689,2690,2691,2692,2693,2694,2695,2696,2697,2698,2699,2700,2701,2702,2703,2704,2705,2706,2707,2708,2709,2710,2711,2712,2713,2714,2715,2716,2717,2718,2719,2720,2721,2722,2723,2724,2725,2757,2758,2759,2760,2761,2762,2763,2764,2765,2766,2767,2768,2769,2770,2771,2772,2773,2774,2775,2776,2777,2778,2779,2780,2781,2782,2783,2784,2785,2786,2787,2788,2789,2790,2791,2792,2793,2794,2795,2796,2797,2798,2799,2800,2801,2802,2803,2804,2805,2806,2807,2808,2809,2810,2811,2812,2813,2814,2815,2816,2817,2818,2819,2820,2821,2822,2823,2824,2825,2826,2827,2828,2829,2830,2831,2832,2833,2834,2835,2836,2837,2838,2839,2840,2841,2842,2843,2844,2845,2846,2847,2848,2849,2850,2851,2852,2853,2854,2855,2856,2857,2858,2859,2860,2861,2862,2863,2864,2865,2866,2867,2868,2869,2870,2871,2872,2873,2874,2875,2876,2877,2878,2879,2880,2881,2910,2911,2912,2913,2914,2915,2916,2917],\"yaxis\":\"y\",\"type\":\"bar\"}],                        {\"template\":{\"data\":{\"histogram2dcontour\":[{\"type\":\"histogram2dcontour\",\"colorbar\":{\"outlinewidth\":0,\"ticks\":\"\"},\"colorscale\":[[0.0,\"#0d0887\"],[0.1111111111111111,\"#46039f\"],[0.2222222222222222,\"#7201a8\"],[0.3333333333333333,\"#9c179e\"],[0.4444444444444444,\"#bd3786\"],[0.5555555555555556,\"#d8576b\"],[0.6666666666666666,\"#ed7953\"],[0.7777777777777778,\"#fb9f3a\"],[0.8888888888888888,\"#fdca26\"],[1.0,\"#f0f921\"]]}],\"choropleth\":[{\"type\":\"choropleth\",\"colorbar\":{\"outlinewidth\":0,\"ticks\":\"\"}}],\"histogram2d\":[{\"type\":\"histogram2d\",\"colorbar\":{\"outlinewidth\":0,\"ticks\":\"\"},\"colorscale\":[[0.0,\"#0d0887\"],[0.1111111111111111,\"#46039f\"],[0.2222222222222222,\"#7201a8\"],[0.3333333333333333,\"#9c179e\"],[0.4444444444444444,\"#bd3786\"],[0.5555555555555556,\"#d8576b\"],[0.6666666666666666,\"#ed7953\"],[0.7777777777777778,\"#fb9f3a\"],[0.8888888888888888,\"#fdca26\"],[1.0,\"#f0f921\"]]}],\"heatmap\":[{\"type\":\"heatmap\",\"colorbar\":{\"outlinewidth\":0,\"ticks\":\"\"},\"colorscale\":[[0.0,\"#0d0887\"],[0.1111111111111111,\"#46039f\"],[0.2222222222222222,\"#7201a8\"],[0.3333333333333333,\"#9c179e\"],[0.4444444444444444,\"#bd3786\"],[0.5555555555555556,\"#d8576b\"],[0.6666666666666666,\"#ed7953\"],[0.7777777777777778,\"#fb9f3a\"],[0.8888888888888888,\"#fdca26\"],[1.0,\"#f0f921\"]]}],\"heatmapgl\":[{\"type\":\"heatmapgl\",\"colorbar\":{\"outlinewidth\":0,\"ticks\":\"\"},\"colorscale\":[[0.0,\"#0d0887\"],[0.1111111111111111,\"#46039f\"],[0.2222222222222222,\"#7201a8\"],[0.3333333333333333,\"#9c179e\"],[0.4444444444444444,\"#bd3786\"],[0.5555555555555556,\"#d8576b\"],[0.6666666666666666,\"#ed7953\"],[0.7777777777777778,\"#fb9f3a\"],[0.8888888888888888,\"#fdca26\"],[1.0,\"#f0f921\"]]}],\"contourcarpet\":[{\"type\":\"contourcarpet\",\"colorbar\":{\"outlinewidth\":0,\"ticks\":\"\"}}],\"contour\":[{\"type\":\"contour\",\"colorbar\":{\"outlinewidth\":0,\"ticks\":\"\"},\"colorscale\":[[0.0,\"#0d0887\"],[0.1111111111111111,\"#46039f\"],[0.2222222222222222,\"#7201a8\"],[0.3333333333333333,\"#9c179e\"],[0.4444444444444444,\"#bd3786\"],[0.5555555555555556,\"#d8576b\"],[0.6666666666666666,\"#ed7953\"],[0.7777777777777778,\"#fb9f3a\"],[0.8888888888888888,\"#fdca26\"],[1.0,\"#f0f921\"]]}],\"surface\":[{\"type\":\"surface\",\"colorbar\":{\"outlinewidth\":0,\"ticks\":\"\"},\"colorscale\":[[0.0,\"#0d0887\"],[0.1111111111111111,\"#46039f\"],[0.2222222222222222,\"#7201a8\"],[0.3333333333333333,\"#9c179e\"],[0.4444444444444444,\"#bd3786\"],[0.5555555555555556,\"#d8576b\"],[0.6666666666666666,\"#ed7953\"],[0.7777777777777778,\"#fb9f3a\"],[0.8888888888888888,\"#fdca26\"],[1.0,\"#f0f921\"]]}],\"mesh3d\":[{\"type\":\"mesh3d\",\"colorbar\":{\"outlinewidth\":0,\"ticks\":\"\"}}],\"scatter\":[{\"fillpattern\":{\"fillmode\":\"overlay\",\"size\":10,\"solidity\":0.2},\"type\":\"scatter\"}],\"parcoords\":[{\"type\":\"parcoords\",\"line\":{\"colorbar\":{\"outlinewidth\":0,\"ticks\":\"\"}}}],\"scatterpolargl\":[{\"type\":\"scatterpolargl\",\"marker\":{\"colorbar\":{\"outlinewidth\":0,\"ticks\":\"\"}}}],\"bar\":[{\"error_x\":{\"color\":\"#2a3f5f\"},\"error_y\":{\"color\":\"#2a3f5f\"},\"marker\":{\"line\":{\"color\":\"#E5ECF6\",\"width\":0.5},\"pattern\":{\"fillmode\":\"overlay\",\"size\":10,\"solidity\":0.2}},\"type\":\"bar\"}],\"scattergeo\":[{\"type\":\"scattergeo\",\"marker\":{\"colorbar\":{\"outlinewidth\":0,\"ticks\":\"\"}}}],\"scatterpolar\":[{\"type\":\"scatterpolar\",\"marker\":{\"colorbar\":{\"outlinewidth\":0,\"ticks\":\"\"}}}],\"histogram\":[{\"marker\":{\"pattern\":{\"fillmode\":\"overlay\",\"size\":10,\"solidity\":0.2}},\"type\":\"histogram\"}],\"scattergl\":[{\"type\":\"scattergl\",\"marker\":{\"colorbar\":{\"outlinewidth\":0,\"ticks\":\"\"}}}],\"scatter3d\":[{\"type\":\"scatter3d\",\"line\":{\"colorbar\":{\"outlinewidth\":0,\"ticks\":\"\"}},\"marker\":{\"colorbar\":{\"outlinewidth\":0,\"ticks\":\"\"}}}],\"scattermapbox\":[{\"type\":\"scattermapbox\",\"marker\":{\"colorbar\":{\"outlinewidth\":0,\"ticks\":\"\"}}}],\"scatterternary\":[{\"type\":\"scatterternary\",\"marker\":{\"colorbar\":{\"outlinewidth\":0,\"ticks\":\"\"}}}],\"scattercarpet\":[{\"type\":\"scattercarpet\",\"marker\":{\"colorbar\":{\"outlinewidth\":0,\"ticks\":\"\"}}}],\"carpet\":[{\"aaxis\":{\"endlinecolor\":\"#2a3f5f\",\"gridcolor\":\"white\",\"linecolor\":\"white\",\"minorgridcolor\":\"white\",\"startlinecolor\":\"#2a3f5f\"},\"baxis\":{\"endlinecolor\":\"#2a3f5f\",\"gridcolor\":\"white\",\"linecolor\":\"white\",\"minorgridcolor\":\"white\",\"startlinecolor\":\"#2a3f5f\"},\"type\":\"carpet\"}],\"table\":[{\"cells\":{\"fill\":{\"color\":\"#EBF0F8\"},\"line\":{\"color\":\"white\"}},\"header\":{\"fill\":{\"color\":\"#C8D4E3\"},\"line\":{\"color\":\"white\"}},\"type\":\"table\"}],\"barpolar\":[{\"marker\":{\"line\":{\"color\":\"#E5ECF6\",\"width\":0.5},\"pattern\":{\"fillmode\":\"overlay\",\"size\":10,\"solidity\":0.2}},\"type\":\"barpolar\"}],\"pie\":[{\"automargin\":true,\"type\":\"pie\"}]},\"layout\":{\"autotypenumbers\":\"strict\",\"colorway\":[\"#636efa\",\"#EF553B\",\"#00cc96\",\"#ab63fa\",\"#FFA15A\",\"#19d3f3\",\"#FF6692\",\"#B6E880\",\"#FF97FF\",\"#FECB52\"],\"font\":{\"color\":\"#2a3f5f\"},\"hovermode\":\"closest\",\"hoverlabel\":{\"align\":\"left\"},\"paper_bgcolor\":\"white\",\"plot_bgcolor\":\"#E5ECF6\",\"polar\":{\"bgcolor\":\"#E5ECF6\",\"angularaxis\":{\"gridcolor\":\"white\",\"linecolor\":\"white\",\"ticks\":\"\"},\"radialaxis\":{\"gridcolor\":\"white\",\"linecolor\":\"white\",\"ticks\":\"\"}},\"ternary\":{\"bgcolor\":\"#E5ECF6\",\"aaxis\":{\"gridcolor\":\"white\",\"linecolor\":\"white\",\"ticks\":\"\"},\"baxis\":{\"gridcolor\":\"white\",\"linecolor\":\"white\",\"ticks\":\"\"},\"caxis\":{\"gridcolor\":\"white\",\"linecolor\":\"white\",\"ticks\":\"\"}},\"coloraxis\":{\"colorbar\":{\"outlinewidth\":0,\"ticks\":\"\"}},\"colorscale\":{\"sequential\":[[0.0,\"#0d0887\"],[0.1111111111111111,\"#46039f\"],[0.2222222222222222,\"#7201a8\"],[0.3333333333333333,\"#9c179e\"],[0.4444444444444444,\"#bd3786\"],[0.5555555555555556,\"#d8576b\"],[0.6666666666666666,\"#ed7953\"],[0.7777777777777778,\"#fb9f3a\"],[0.8888888888888888,\"#fdca26\"],[1.0,\"#f0f921\"]],\"sequentialminus\":[[0.0,\"#0d0887\"],[0.1111111111111111,\"#46039f\"],[0.2222222222222222,\"#7201a8\"],[0.3333333333333333,\"#9c179e\"],[0.4444444444444444,\"#bd3786\"],[0.5555555555555556,\"#d8576b\"],[0.6666666666666666,\"#ed7953\"],[0.7777777777777778,\"#fb9f3a\"],[0.8888888888888888,\"#fdca26\"],[1.0,\"#f0f921\"]],\"diverging\":[[0,\"#8e0152\"],[0.1,\"#c51b7d\"],[0.2,\"#de77ae\"],[0.3,\"#f1b6da\"],[0.4,\"#fde0ef\"],[0.5,\"#f7f7f7\"],[0.6,\"#e6f5d0\"],[0.7,\"#b8e186\"],[0.8,\"#7fbc41\"],[0.9,\"#4d9221\"],[1,\"#276419\"]]},\"xaxis\":{\"gridcolor\":\"white\",\"linecolor\":\"white\",\"ticks\":\"\",\"title\":{\"standoff\":15},\"zerolinecolor\":\"white\",\"automargin\":true,\"zerolinewidth\":2},\"yaxis\":{\"gridcolor\":\"white\",\"linecolor\":\"white\",\"ticks\":\"\",\"title\":{\"standoff\":15},\"zerolinecolor\":\"white\",\"automargin\":true,\"zerolinewidth\":2},\"scene\":{\"xaxis\":{\"backgroundcolor\":\"#E5ECF6\",\"gridcolor\":\"white\",\"linecolor\":\"white\",\"showbackground\":true,\"ticks\":\"\",\"zerolinecolor\":\"white\",\"gridwidth\":2},\"yaxis\":{\"backgroundcolor\":\"#E5ECF6\",\"gridcolor\":\"white\",\"linecolor\":\"white\",\"showbackground\":true,\"ticks\":\"\",\"zerolinecolor\":\"white\",\"gridwidth\":2},\"zaxis\":{\"backgroundcolor\":\"#E5ECF6\",\"gridcolor\":\"white\",\"linecolor\":\"white\",\"showbackground\":true,\"ticks\":\"\",\"zerolinecolor\":\"white\",\"gridwidth\":2}},\"shapedefaults\":{\"line\":{\"color\":\"#2a3f5f\"}},\"annotationdefaults\":{\"arrowcolor\":\"#2a3f5f\",\"arrowhead\":0,\"arrowwidth\":1},\"geo\":{\"bgcolor\":\"white\",\"landcolor\":\"#E5ECF6\",\"subunitcolor\":\"white\",\"showland\":true,\"showlakes\":true,\"lakecolor\":\"white\"},\"title\":{\"x\":0.05},\"mapbox\":{\"style\":\"light\"}}},\"xaxis\":{\"anchor\":\"y\",\"domain\":[0.0,1.0],\"title\":{\"text\":\"BodyPart\"}},\"yaxis\":{\"anchor\":\"x\",\"domain\":[0.0,1.0],\"title\":{\"text\":\"Index\"}},\"legend\":{\"tracegroupgap\":0},\"title\":{\"text\":\"Body Parts with most use of Equipment\"},\"barmode\":\"overlay\"},                        {\"responsive\": true}                    ).then(function(){\n",
       "                            \n",
       "var gd = document.getElementById('d317bd30-5c1e-4971-a36e-8ff2c268be6f');\n",
       "var x = new MutationObserver(function (mutations, observer) {{\n",
       "        var display = window.getComputedStyle(gd).display;\n",
       "        if (!display || display === 'none') {{\n",
       "            console.log([gd, 'removed!']);\n",
       "            Plotly.purge(gd);\n",
       "            observer.disconnect();\n",
       "        }}\n",
       "}});\n",
       "\n",
       "// Listen for the removal of the full notebook cells\n",
       "var notebookContainer = gd.closest('#notebook-container');\n",
       "if (notebookContainer) {{\n",
       "    x.observe(notebookContainer, {childList: true});\n",
       "}}\n",
       "\n",
       "// Listen for the clearing of the current output cell\n",
       "var outputEl = gd.closest('.output');\n",
       "if (outputEl) {{\n",
       "    x.observe(outputEl, {childList: true});\n",
       "}}\n",
       "\n",
       "                        })                };                });            </script>        </div>"
      ]
     },
     "metadata": {},
     "output_type": "display_data"
    }
   ],
   "source": [
    "#Graph that shows which body part requires equipment\n",
    "equipment =df[df.Equipment != 'Body Only']\n",
    "fig = px.bar(equipment, x='BodyPart', y='Index', color_discrete_sequence =['peachpuff']*len(equipment), barmode='overlay', title='Body Parts with most use of Equipment')\n",
    "fig.show()"
   ]
  },
  {
   "cell_type": "markdown",
   "id": "8a003f9f-7804-4ff5-b48d-983adad383ff",
   "metadata": {},
   "source": [
    "As expected, abdominals are easy to train without equipment, as most big muscle groups and those used in home or outdoors workouts like calysthenics. However when focusing in very specific or small muscle groups equipment helps a lot and sometimes is the only way to target those muscles."
   ]
  },
  {
   "cell_type": "markdown",
   "id": "73b5dc35-fcd6-4729-afe1-814836c35d53",
   "metadata": {},
   "source": [
    "### Level"
   ]
  },
  {
   "cell_type": "markdown",
   "id": "3b06f481-5f6b-4e70-9407-2539e2a65284",
   "metadata": {},
   "source": [
    "As seen before, the type of exercise slightly changed according to the level of fitness. To finish our study we shall take a look at the correlation of the level of fitness and the use of equipment along with the body part chosen."
   ]
  },
  {
   "cell_type": "markdown",
   "id": "c6e0381f-539b-42e2-b104-6cc6981e445f",
   "metadata": {},
   "source": [
    "#### Use of Equipment"
   ]
  },
  {
   "cell_type": "code",
   "execution_count": 52,
   "id": "f15d7375-8320-4a0a-a3ef-0b930dc4b32f",
   "metadata": {},
   "outputs": [
    {
     "data": {
      "text/html": [
       "<div>\n",
       "<style scoped>\n",
       "    .dataframe tbody tr th:only-of-type {\n",
       "        vertical-align: middle;\n",
       "    }\n",
       "\n",
       "    .dataframe tbody tr th {\n",
       "        vertical-align: top;\n",
       "    }\n",
       "\n",
       "    .dataframe thead th {\n",
       "        text-align: right;\n",
       "    }\n",
       "</style>\n",
       "<table border=\"1\" class=\"dataframe\">\n",
       "  <thead>\n",
       "    <tr style=\"text-align: right;\">\n",
       "      <th></th>\n",
       "      <th>Index</th>\n",
       "      <th>Title</th>\n",
       "      <th>Desc</th>\n",
       "      <th>Type</th>\n",
       "      <th>BodyPart</th>\n",
       "      <th>Equipment</th>\n",
       "      <th>Rating</th>\n",
       "      <th>RatingDesc</th>\n",
       "    </tr>\n",
       "    <tr>\n",
       "      <th>Level</th>\n",
       "      <th></th>\n",
       "      <th></th>\n",
       "      <th></th>\n",
       "      <th></th>\n",
       "      <th></th>\n",
       "      <th></th>\n",
       "      <th></th>\n",
       "      <th></th>\n",
       "    </tr>\n",
       "  </thead>\n",
       "  <tbody>\n",
       "    <tr>\n",
       "      <th>Beginner</th>\n",
       "      <td>459</td>\n",
       "      <td>459</td>\n",
       "      <td>108</td>\n",
       "      <td>459</td>\n",
       "      <td>459</td>\n",
       "      <td>434</td>\n",
       "      <td>459</td>\n",
       "      <td>369</td>\n",
       "    </tr>\n",
       "    <tr>\n",
       "      <th>Expert</th>\n",
       "      <td>13</td>\n",
       "      <td>13</td>\n",
       "      <td>10</td>\n",
       "      <td>13</td>\n",
       "      <td>13</td>\n",
       "      <td>13</td>\n",
       "      <td>7</td>\n",
       "      <td>7</td>\n",
       "    </tr>\n",
       "    <tr>\n",
       "      <th>Intermediate</th>\n",
       "      <td>2446</td>\n",
       "      <td>2446</td>\n",
       "      <td>1250</td>\n",
       "      <td>2446</td>\n",
       "      <td>2446</td>\n",
       "      <td>2439</td>\n",
       "      <td>565</td>\n",
       "      <td>486</td>\n",
       "    </tr>\n",
       "  </tbody>\n",
       "</table>\n",
       "</div>"
      ],
      "text/plain": [
       "              Index  Title  Desc  Type  BodyPart  Equipment  Rating  \\\n",
       "Level                                                                 \n",
       "Beginner        459    459   108   459       459        434     459   \n",
       "Expert           13     13    10    13        13         13       7   \n",
       "Intermediate   2446   2446  1250  2446      2446       2439     565   \n",
       "\n",
       "              RatingDesc  \n",
       "Level                     \n",
       "Beginner             369  \n",
       "Expert                 7  \n",
       "Intermediate         486  "
      ]
     },
     "execution_count": 52,
     "metadata": {},
     "output_type": "execute_result"
    }
   ],
   "source": [
    "#total of people by level\n",
    "levels = df.groupby(['Level']).count()\n",
    "levels"
   ]
  },
  {
   "cell_type": "code",
   "execution_count": 53,
   "id": "d61c3214-81fb-48c7-b452-15d49792d5e1",
   "metadata": {},
   "outputs": [
    {
     "data": {
      "text/html": [
       "<div>\n",
       "<style scoped>\n",
       "    .dataframe tbody tr th:only-of-type {\n",
       "        vertical-align: middle;\n",
       "    }\n",
       "\n",
       "    .dataframe tbody tr th {\n",
       "        vertical-align: top;\n",
       "    }\n",
       "\n",
       "    .dataframe thead th {\n",
       "        text-align: right;\n",
       "    }\n",
       "</style>\n",
       "<table border=\"1\" class=\"dataframe\">\n",
       "  <thead>\n",
       "    <tr style=\"text-align: right;\">\n",
       "      <th></th>\n",
       "      <th>Index</th>\n",
       "      <th>Title</th>\n",
       "      <th>Desc</th>\n",
       "      <th>Type</th>\n",
       "      <th>BodyPart</th>\n",
       "      <th>Equipment</th>\n",
       "      <th>Rating</th>\n",
       "      <th>RatingDesc</th>\n",
       "    </tr>\n",
       "    <tr>\n",
       "      <th>Level</th>\n",
       "      <th></th>\n",
       "      <th></th>\n",
       "      <th></th>\n",
       "      <th></th>\n",
       "      <th></th>\n",
       "      <th></th>\n",
       "      <th></th>\n",
       "      <th></th>\n",
       "    </tr>\n",
       "  </thead>\n",
       "  <tbody>\n",
       "    <tr>\n",
       "      <th>Beginner</th>\n",
       "      <td>377</td>\n",
       "      <td>377</td>\n",
       "      <td>78</td>\n",
       "      <td>377</td>\n",
       "      <td>377</td>\n",
       "      <td>352</td>\n",
       "      <td>377</td>\n",
       "      <td>318</td>\n",
       "    </tr>\n",
       "    <tr>\n",
       "      <th>Expert</th>\n",
       "      <td>10</td>\n",
       "      <td>10</td>\n",
       "      <td>7</td>\n",
       "      <td>10</td>\n",
       "      <td>10</td>\n",
       "      <td>10</td>\n",
       "      <td>6</td>\n",
       "      <td>6</td>\n",
       "    </tr>\n",
       "    <tr>\n",
       "      <th>Intermediate</th>\n",
       "      <td>1453</td>\n",
       "      <td>1453</td>\n",
       "      <td>879</td>\n",
       "      <td>1453</td>\n",
       "      <td>1453</td>\n",
       "      <td>1446</td>\n",
       "      <td>379</td>\n",
       "      <td>342</td>\n",
       "    </tr>\n",
       "  </tbody>\n",
       "</table>\n",
       "</div>"
      ],
      "text/plain": [
       "              Index  Title  Desc  Type  BodyPart  Equipment  Rating  \\\n",
       "Level                                                                 \n",
       "Beginner        377    377    78   377       377        352     377   \n",
       "Expert           10     10     7    10        10         10       6   \n",
       "Intermediate   1453   1453   879  1453      1453       1446     379   \n",
       "\n",
       "              RatingDesc  \n",
       "Level                     \n",
       "Beginner             318  \n",
       "Expert                 6  \n",
       "Intermediate         342  "
      ]
     },
     "execution_count": 53,
     "metadata": {},
     "output_type": "execute_result"
    }
   ],
   "source": [
    "#only those with equipment\n",
    "level_Equipment= equipment.groupby(['Level']).count()\n",
    "level_Equipment"
   ]
  },
  {
   "cell_type": "code",
   "execution_count": 60,
   "id": "091a2221-1548-4ff0-b830-426b38d4b49f",
   "metadata": {},
   "outputs": [
    {
     "data": {
      "text/html": [
       "<div>\n",
       "<style scoped>\n",
       "    .dataframe tbody tr th:only-of-type {\n",
       "        vertical-align: middle;\n",
       "    }\n",
       "\n",
       "    .dataframe tbody tr th {\n",
       "        vertical-align: top;\n",
       "    }\n",
       "\n",
       "    .dataframe thead th {\n",
       "        text-align: right;\n",
       "    }\n",
       "</style>\n",
       "<table border=\"1\" class=\"dataframe\">\n",
       "  <thead>\n",
       "    <tr style=\"text-align: right;\">\n",
       "      <th></th>\n",
       "      <th>Index</th>\n",
       "      <th>Title</th>\n",
       "      <th>Desc</th>\n",
       "      <th>Type</th>\n",
       "      <th>BodyPart</th>\n",
       "      <th>Equipment</th>\n",
       "      <th>Rating</th>\n",
       "      <th>RatingDesc</th>\n",
       "    </tr>\n",
       "    <tr>\n",
       "      <th>Level</th>\n",
       "      <th></th>\n",
       "      <th></th>\n",
       "      <th></th>\n",
       "      <th></th>\n",
       "      <th></th>\n",
       "      <th></th>\n",
       "      <th></th>\n",
       "      <th></th>\n",
       "    </tr>\n",
       "  </thead>\n",
       "  <tbody>\n",
       "    <tr>\n",
       "      <th>Beginner</th>\n",
       "      <td>82.135076</td>\n",
       "      <td>82.135076</td>\n",
       "      <td>72.222222</td>\n",
       "      <td>82.135076</td>\n",
       "      <td>82.135076</td>\n",
       "      <td>81.105991</td>\n",
       "      <td>82.135076</td>\n",
       "      <td>86.178862</td>\n",
       "    </tr>\n",
       "    <tr>\n",
       "      <th>Expert</th>\n",
       "      <td>76.923077</td>\n",
       "      <td>76.923077</td>\n",
       "      <td>70.000000</td>\n",
       "      <td>76.923077</td>\n",
       "      <td>76.923077</td>\n",
       "      <td>76.923077</td>\n",
       "      <td>85.714286</td>\n",
       "      <td>85.714286</td>\n",
       "    </tr>\n",
       "    <tr>\n",
       "      <th>Intermediate</th>\n",
       "      <td>59.403107</td>\n",
       "      <td>59.403107</td>\n",
       "      <td>70.320000</td>\n",
       "      <td>59.403107</td>\n",
       "      <td>59.403107</td>\n",
       "      <td>59.286593</td>\n",
       "      <td>67.079646</td>\n",
       "      <td>70.370370</td>\n",
       "    </tr>\n",
       "  </tbody>\n",
       "</table>\n",
       "</div>"
      ],
      "text/plain": [
       "                  Index      Title       Desc       Type   BodyPart  \\\n",
       "Level                                                                 \n",
       "Beginner      82.135076  82.135076  72.222222  82.135076  82.135076   \n",
       "Expert        76.923077  76.923077  70.000000  76.923077  76.923077   \n",
       "Intermediate  59.403107  59.403107  70.320000  59.403107  59.403107   \n",
       "\n",
       "              Equipment     Rating  RatingDesc  \n",
       "Level                                           \n",
       "Beginner      81.105991  82.135076   86.178862  \n",
       "Expert        76.923077  85.714286   85.714286  \n",
       "Intermediate  59.286593  67.079646   70.370370  "
      ]
     },
     "execution_count": 60,
     "metadata": {},
     "output_type": "execute_result"
    }
   ],
   "source": [
    "#proportion of people that use equipment vs body weight only\n",
    "proportions = (level_Equipment / levels) *100\n",
    "proportions"
   ]
  },
  {
   "cell_type": "code",
   "execution_count": 171,
   "id": "adb1e9d3-1581-451f-b116-6b690faf2552",
   "metadata": {},
   "outputs": [
    {
     "data": {
      "image/png": "[encoded data removed]",
      "text/plain": [
       "<Figure size 640x480 with 1 Axes>"
      ]
     },
     "metadata": {},
     "output_type": "display_data"
    }
   ],
   "source": [
    "y= proportions.Equipment\n",
    "fig = plt.plot(y, color='slategray')"
   ]
  },
  {
   "cell_type": "markdown",
   "id": "19481ab3-6969-472a-a4ae-59e92f026f9c",
   "metadata": {},
   "source": [
    "From this graph we can deduct a correlation between the level of fitness and the use of equipment. Both beginners and expert will rely on the use of equipment, probably to get used to the sensations of the exercices and to learn form in the case of the beginners and to improve faster and / or gain more muscle mass in the case of the experts. Intermediates are confortable in the use of equipment and are autonomous to complete a workout without any equipment"
   ]
  },
  {
   "cell_type": "markdown",
   "id": "6839c858-730b-4aaf-9f32-9fd39380a367",
   "metadata": {},
   "source": [
    "#### Body Part"
   ]
  },
  {
   "cell_type": "code",
   "execution_count": 125,
   "id": "56a2b5d4-6f4e-400f-b848-e297ae864154",
   "metadata": {},
   "outputs": [
    {
     "data": {
      "text/plain": [
       "BodyPart\n",
       "Quadriceps     76\n",
       "Chest          67\n",
       "Hamstrings     58\n",
       "Shoulders      47\n",
       "Biceps         37\n",
       "Abdominals     29\n",
       "Triceps        24\n",
       "Lower Back     20\n",
       "Lats           19\n",
       "Forearms       18\n",
       "Calves         16\n",
       "Middle Back    14\n",
       "Glutes         13\n",
       "Adductors       7\n",
       "Neck            6\n",
       "Traps           5\n",
       "Abductors       3\n",
       "Name: count, dtype: int64"
      ]
     },
     "execution_count": 125,
     "metadata": {},
     "output_type": "execute_result"
    }
   ],
   "source": [
    "#counting the number of occurences of each body part\n",
    "beginner_exerciseCount = beginner['BodyPart'].value_counts()\n",
    "beginner_exerciseCount"
   ]
  },
  {
   "cell_type": "code",
   "execution_count": 158,
   "id": "2d50ff04-d066-49fd-928f-646f1b1037f8",
   "metadata": {},
   "outputs": [
    {
     "data": {
      "text/plain": [
       "<Axes: title={'center': 'Most worked body parts by beginners'}, xlabel='BodyPart'>"
      ]
     },
     "execution_count": 158,
     "metadata": {},
     "output_type": "execute_result"
    },
    {
     "data": {
      "image/png": "[encoded data removed]",
      "text/plain": [
       "<Figure size 640x480 with 1 Axes>"
      ]
     },
     "metadata": {},
     "output_type": "display_data"
    }
   ],
   "source": [
    "beginner_exerciseCount.plot(kind='bar', title= 'Most worked body parts by beginners', color='orange')"
   ]
  },
  {
   "cell_type": "code",
   "execution_count": 162,
   "id": "2171feaf-59f3-4f40-924d-9fd6610d019c",
   "metadata": {},
   "outputs": [
    {
     "data": {
      "text/plain": [
       "<Axes: title={'center': 'Most worked body parts by intermediates'}, xlabel='BodyPart'>"
      ]
     },
     "execution_count": 162,
     "metadata": {},
     "output_type": "execute_result"
    },
    {
     "data": {
      "image/png": "[encoded data removed]",
      "text/plain": [
       "<Figure size 640x480 with 1 Axes>"
      ]
     },
     "metadata": {},
     "output_type": "display_data"
    }
   ],
   "source": [
    "#counting the number of occurences of each body part\n",
    "intermediate_exerciseCount = intermediate['BodyPart'].value_counts()\n",
    "intermediate_exerciseCount.plot(kind='bar', title= 'Most worked body parts by intermediates', color='darkturquoise')"
   ]
  },
  {
   "cell_type": "code",
   "execution_count": 172,
   "id": "94896d5f-5b98-4c7c-8af6-9fee3b9b673b",
   "metadata": {},
   "outputs": [
    {
     "data": {
      "text/plain": [
       "<Axes: title={'center': 'Most worked body parts by experts'}, xlabel='BodyPart'>"
      ]
     },
     "execution_count": 172,
     "metadata": {},
     "output_type": "execute_result"
    },
    {
     "data": {
      "image/png": "[encoded data removed]",
      "text/plain": [
       "<Figure size 640x480 with 1 Axes>"
      ]
     },
     "metadata": {},
     "output_type": "display_data"
    }
   ],
   "source": [
    "expert_exerciseCount = expert['BodyPart'].value_counts()\n",
    "expert_exerciseCount.plot(kind='bar', title= 'Most worked body parts by experts', color='plum')"
   ]
  },
  {
   "cell_type": "markdown",
   "id": "5d59b424-516a-48f3-b2e2-77898cba9b25",
   "metadata": {},
   "source": [
    "With exception of the glutes, we can notice that the big muscle grups are prioritized in all levels of fitness."
   ]
  },
  {
   "cell_type": "markdown",
   "id": "82d06ed8-607d-4122-a594-4297556da26c",
   "metadata": {},
   "source": [
    "To conclude, we can find many correlations between the variables and infer the causes, keeping in mind that correlation does not equal causation."
   ]
  },
  {
   "cell_type": "code",
   "execution_count": null,
   "id": "19052896-c34e-42dc-832f-f89198eede93",
   "metadata": {},
   "outputs": [],
   "source": []
  }
 ],
 "metadata": {
  "kernelspec": {
   "display_name": "Python 3 (ipykernel)",
   "language": "python",
   "name": "python3"
  },
  "language_info": {
   "codemirror_mode": {
    "name": "ipython",
    "version": 3
   },
   "file_extension": ".py",
   "mimetype": "text/x-python",
   "name": "python",
   "nbconvert_exporter": "python",
   "pygments_lexer": "ipython3",
   "version": "3.12.7"
  }
 },
 "nbformat": 4,
 "nbformat_minor": 5
}
